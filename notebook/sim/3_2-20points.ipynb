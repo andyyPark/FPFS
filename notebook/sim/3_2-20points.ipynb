{
 "cells": [
  {
   "cell_type": "code",
   "execution_count": 1,
   "metadata": {},
   "outputs": [
    {
     "name": "stdout",
     "output_type": "stream",
     "text": [
      "Populating the interactive namespace from numpy and matplotlib\n"
     ]
    }
   ],
   "source": [
    "%pylab inline\n",
    "import gc\n",
    "import os\n",
    "import fpfs\n",
    "import numpy as np\n",
    "import imgSimutil\n",
    "import galsim\n",
    "import astropy.io.fits as pyfits\n",
    "hscDir=os.path.join(os.environ['homeWrk'],'S16ACatalogs','S16AStandardV2')"
   ]
  },
  {
   "cell_type": "code",
   "execution_count": 2,
   "metadata": {},
   "outputs": [
    {
     "name": "stdout",
     "output_type": "stream",
     "text": [
      "/lustre/work/xiangchong.li/work/FPFS2/sim\n"
     ]
    }
   ],
   "source": [
    "cd wrkDir/FPFS2/sim"
   ]
  },
  {
   "cell_type": "code",
   "execution_count": 25,
   "metadata": {},
   "outputs": [
    {
     "data": {
      "text/plain": [
       "array([0.       , 0.5      , 0.25     , 0.75     , 0.125    , 0.375    ,\n",
       "       0.625    , 0.875    , 0.0625   , 0.1875   , 0.3125   , 0.4375   ,\n",
       "       0.5625   , 0.6875   , 0.8125   , 0.9375   , 0.03125  , 0.09375  ,\n",
       "       0.15625  , 0.21875  , 0.28125  , 0.34375  , 0.40625  , 0.46875  ,\n",
       "       0.53125  , 0.59375  , 0.65625  , 0.71875  , 0.78125  , 0.84375  ,\n",
       "       0.90625  , 0.96875  , 0.015625 , 0.046875 , 0.078125 , 0.109375 ,\n",
       "       0.140625 , 0.171875 , 0.203125 , 0.234375 , 0.265625 , 0.296875 ,\n",
       "       0.328125 , 0.359375 , 0.390625 , 0.421875 , 0.453125 , 0.484375 ,\n",
       "       0.515625 , 0.546875 , 0.578125 , 0.609375 , 0.640625 , 0.671875 ,\n",
       "       0.703125 , 0.734375 , 0.765625 , 0.796875 , 0.828125 , 0.859375 ,\n",
       "       0.890625 , 0.921875 , 0.953125 , 0.984375 , 0.0078125, 0.0234375,\n",
       "       0.0390625, 0.0546875, 0.0703125, 0.0859375, 0.1015625, 0.1171875,\n",
       "       0.1328125, 0.1484375, 0.1640625, 0.1796875, 0.1953125, 0.2109375,\n",
       "       0.2265625, 0.2421875, 0.2578125, 0.2734375, 0.2890625, 0.3046875,\n",
       "       0.3203125, 0.3359375, 0.3515625, 0.3671875, 0.3828125, 0.3984375,\n",
       "       0.4140625, 0.4296875, 0.4453125, 0.4609375, 0.4765625, 0.4921875,\n",
       "       0.5078125, 0.5234375, 0.5390625, 0.5546875, 0.5703125, 0.5859375,\n",
       "       0.6015625, 0.6171875, 0.6328125, 0.6484375, 0.6640625, 0.6796875,\n",
       "       0.6953125, 0.7109375, 0.7265625, 0.7421875, 0.7578125, 0.7734375,\n",
       "       0.7890625, 0.8046875, 0.8203125, 0.8359375, 0.8515625, 0.8671875,\n",
       "       0.8828125, 0.8984375, 0.9140625, 0.9296875, 0.9453125, 0.9609375,\n",
       "       0.9765625, 0.9921875])"
      ]
     },
     "execution_count": 25,
     "metadata": {},
     "output_type": "execute_result"
    }
   ],
   "source": [
    "rotArray"
   ]
  },
  {
   "cell_type": "code",
   "execution_count": 13,
   "metadata": {},
   "outputs": [],
   "source": [
    "psfFWHM='60'\n",
    "nx      =   100\n",
    "ny      =   100\n",
    "ngrid  =   64\n",
    "\n",
    "g2       =   0.00\n",
    "def measureShear(psfImg,galImgAll):\n",
    "    fpTask=fpfs.fpfsBase.fpfsTask(psfImg)\n",
    "    # Read GAL image\n",
    "    imgList=[galImgAll[j*64:(j+1)*64,i*64:(i+1)*64] for i in range(100) for j in range(100)]\n",
    "\n",
    "    # Measure FPFS moments\n",
    "    a=fpTask.measure(imgList)\n",
    "\n",
    "    # Measure FPFS ellipticity, FPFS response\n",
    "    # The weighting parameter\n",
    "    C=100\n",
    "    # Again, for noiseless galaxies, you do not need to set rev=True\n",
    "    # to revise second-order noise bias\n",
    "    b=fpfs.fpfsBase.fpfsM2E(a,C)\n",
    "    # Estimate shear\n",
    "    g_est=np.average(b['fpfs_e1'])/np.average(b['fpfs_RE'])\n",
    "    return g_est"
   ]
  },
  {
   "cell_type": "code",
   "execution_count": 11,
   "metadata": {},
   "outputs": [
    {
     "name": "stdout",
     "output_type": "stream",
     "text": [
      "small0_psf60/image-0-g1-0000.fits\n",
      "small1_psf60/image-0-g1-0000.fits\n",
      "small2_psf60/image-0-g1-0000.fits\n",
      "small0_psf60/image-0-g1-2222.fits\n",
      "small1_psf60/image-0-g1-2222.fits\n",
      "small2_psf60/image-0-g1-2222.fits\n"
     ]
    }
   ],
   "source": [
    "FWHM =   eval(psfFWHM)/100.\n",
    "psfInt  =   galsim.Moffat(beta=3.5,fwhm=FWHM,trunc=FWHM*4.)\n",
    "psfInt  =   psfInt.shear(e1=0.02,e2=-0.02)\n",
    "scale   =   0.168\n",
    "npoints=  20\n",
    "\n",
    "ud        =   galsim.UniformDeviate(1)\n",
    "for g1,pend  in   zip([-0.02,0.02],['g1-0000','g1-2222']):\n",
    "    for radius in [0.07,0.15,0.20]:\n",
    "        gal_image   =   galsim.ImageF(nx*ngrid,ny*ngrid,scale=scale)\n",
    "        gal_image.setOrigin(0,0)\n",
    "        for ix in range(100):\n",
    "            for iy in range(100):\n",
    "                igal   =   ix*100+iy\n",
    "                b       =   galsim.BoundsI(ix*ngrid,(ix+1)*ngrid-1,iy*ngrid,(iy+1)*ngrid-1)\n",
    "                if igal%4==0:\n",
    "                    gal0     =   galsim.RandomKnots(half_light_radius=radius,npoints=npoints,flux=10.,rng=ud)\n",
    "                sub_gal_image = gal_image[b]\n",
    "                ang    =   igal%4*np.pi/4. * galsim.radians\n",
    "                gal     =   gal0.rotate(ang)\n",
    "                # Shear the galaxy\n",
    "                gal     =   gal.shear(g1=g1,g2=g2)\n",
    "                gal     =   galsim.Convolve([psfInt,gal])\n",
    "                # Draw the galaxy image\n",
    "                gal.drawImage(sub_gal_image)\n",
    "                del gal\n",
    "                gc.collect()\n",
    "        outfname=os.path.join('small%d_psf60' %int(radius*10),'image-0-%s.fits' %pend)\n",
    "        print(outfname)\n",
    "        pyfits.writeto(outfname,gal_image.array,overwrite=True)\n",
    "        del gal_image\n",
    "        gc.collect()"
   ]
  },
  {
   "cell_type": "code",
   "execution_count": 20,
   "metadata": {},
   "outputs": [
    {
     "name": "stdout",
     "output_type": "stream",
     "text": [
      "-0.019992226314277148\n"
     ]
    },
    {
     "data": {
      "text/plain": [
       "-0.000394620698446424"
      ]
     },
     "execution_count": 20,
     "metadata": {},
     "output_type": "execute_result"
    }
   ],
   "source": [
    "radius=0.07\n",
    "psfFname=   os.path.join('./star_psf%s/' %psfFWHM,'psf-%s.fits' %psfFWHM)\n",
    "psfData   =   pyfits.getdata(psfFname)\n",
    "npad       =   (ngrid-psfData.shape[0])//2\n",
    "psfData2 =   np.pad(psfData,(npad+1,npad),mode='constant')\n",
    "assert psfData2.shape[0]==ngrid\n",
    "\n",
    "pend='g1-0000'\n",
    "gal_all=pyfits.getdata(os.path.join('small%d_psf60' %int(radius*10),'image-1-%s.fits' %pend))\n",
    "gm=measureShear(psfData2,gal_all)\n",
    "print(gm)\n",
    "pend='g1-2222'\n",
    "gal_all=pyfits.getdata(os.path.join('small%d_psf60' %int(radius*10),'image-1-%s.fits' %pend))\n",
    "gp=measureShear(psfData2,gal_all)\n",
    "(gp-gm)/0.04-1"
   ]
  }
 ],
 "metadata": {
  "kernelspec": {
   "display_name": "Python 3",
   "language": "python",
   "name": "python3"
  },
  "language_info": {
   "codemirror_mode": {
    "name": "ipython",
    "version": 3
   },
   "file_extension": ".py",
   "mimetype": "text/x-python",
   "name": "python",
   "nbconvert_exporter": "python",
   "pygments_lexer": "ipython3",
   "version": "3.7.8"
  }
 },
 "nbformat": 4,
 "nbformat_minor": 4
}
