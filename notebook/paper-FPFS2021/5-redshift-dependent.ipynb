{
 "cells": [
  {
   "cell_type": "code",
   "execution_count": 1,
   "metadata": {},
   "outputs": [
    {
     "name": "stdout",
     "output_type": "stream",
     "text": [
      "Populating the interactive namespace from numpy and matplotlib\n"
     ]
    }
   ],
   "source": [
    "%pylab inline\n",
    "import gc\n",
    "import numpy as np\n",
    "import astropy.io.fits as pyfits\n",
    "import numpy.lib.recfunctions as rfn\n",
    "\n",
    "import fpfsBase\n",
    "import imgSimutil\n",
    "\n",
    "pltDir='plot/redshift/'"
   ]
  },
  {
   "cell_type": "code",
   "execution_count": 4,
   "metadata": {},
   "outputs": [
    {
     "name": "stdout",
     "output_type": "stream",
     "text": [
      "/lustre/work/xiangchong.li/work/FPFS2/sim\n"
     ]
    }
   ],
   "source": [
    "cd wrkDir/FPFS2/sim"
   ]
  },
  {
   "cell_type": "code",
   "execution_count": 5,
   "metadata": {},
   "outputs": [],
   "source": [
    "cosmo252=   imgSimutil.cosmoHSTGal('252')\n",
    "cosmo252.readHSTsample()\n",
    "hscCat  =   cosmo252.catused\n",
    "def estimate(slow=0.15,C=2000.,noiRev=True):\n",
    "    vdir='outcome-var7em3'\n",
    "    ngroup=16\n",
    "    nsim=ngroup*250\n",
    "    nic=3\n",
    "    gest=np.zeros((nsim,nic))\n",
    "    dest=np.zeros((nsim,nic))\n",
    "    dss=0.01\n",
    "    for igroup in range(ngroup):\n",
    "        zUse=hscCat[10000*(igroup%8):10000*(igroup%8+1)]['zphot']\n",
    "        for igf in range(250):\n",
    "            ifield=igroup*250+igf\n",
    "            fname1=os.path.join(vdir,'fpfs-rcut16-psf60-%d/src%04d-g1-2222.fits' %(igroup,ifield))\n",
    "            moments1=pyfits.getdata(fname1)\n",
    "            elli1=fpfsM2E(moments1,C,rev=noiRev)\n",
    "            mask1A=elli1['fpfs_s0']>slow\n",
    "            \n",
    "            fname2=os.path.join(vdir,'fpfs-rcut16-psf60-%d/src%04d-g1-0000.fits' %(igroup,ifield))\n",
    "            moments2=pyfits.getdata(fname2)\n",
    "            elli2=fpfsM2E(moments2,C,rev=noiRev)\n",
    "            mask2A=elli2['fpfs_s0']>slow\n",
    "            for ic in range(nic):\n",
    "                zlow=0.6*(ic)\n",
    "                zhigh=0.6*(1+ic)\n",
    "                maskZ= (zUse>zlow)&(zUse<=zhigh)\n",
    "                eTmp=elli1[maskZ&mask1A]\n",
    "                mskTmp=(eTmp['fpfs_s0']<=slow+dss)\n",
    "                RS=-np.sum(eTmp[mskTmp]['fpfs_RS']/dss)\n",
    "                g1p=np.sum(eTmp['fpfs_e1'])\n",
    "                downp=(np.sum(eTmp['fpfs_RE'])+RS)\n",
    "                del eTmp,mskTmp\n",
    "                gc.collect()\n",
    "\n",
    "                eTmp=elli2[maskZ&mask2A]\n",
    "                mskTmp=(eTmp['fpfs_s0']<=slow+dss)\n",
    "                RS=-np.sum(eTmp[mskTmp]['fpfs_RS']/dss)\n",
    "                g1m=np.sum(eTmp['fpfs_e1'])\n",
    "                downm=np.sum(eTmp['fpfs_RE'])+RS\n",
    "                del eTmp,mskTmp,maskZ\n",
    "                gc.collect()\n",
    "                gest[ifield,ic]=(g1m-g1p)\n",
    "                dest[ifield,ic]=(downm+downp)/2.\n",
    "            del elli1,elli2,mask1A,mask2A,moments1,moments2\n",
    "            gc.collect\n",
    "    return np.average(gest,axis=0)/0.04/np.average(dest,axis=0)-1,np.std(gest,axis=0)/0.04/np.sqrt(nsim)/np.average(dest,axis=0)\n",
    "\n",
    "def fpfsM2E(moments,const=2000.,mcalib=0.,rev=False):\n",
    "    \"\"\"\n",
    "    # Estimate FPFS ellipticities from fpfs moments\n",
    "\n",
    "    Parameters:\n",
    "    -----------\n",
    "    moments:    input FPFS moments     [float array]\n",
    "    const:      the weighting Constant [float]\n",
    "    mcalib:     multiplicative bias [float array]\n",
    "\n",
    "    Returns:\n",
    "    -------------\n",
    "    out :       an array of FPFS ellipticities,\n",
    "                FPFS ellipticity response,\n",
    "                FPFS flux ratio, and FPFS selection response\n",
    "    \"\"\"\n",
    "    #Get weight\n",
    "    weight  =   1./(moments['fpfs_M00']+const)\n",
    "    #Ellipticity\n",
    "    e1      =   moments['fpfs_M22c']*weight\n",
    "    e2      =   moments['fpfs_M22s']*weight\n",
    "    e1sq    =   e1*e1\n",
    "    e2sq    =   e2*e2\n",
    "    #FPFS flux ratio\n",
    "    s0      =   moments['fpfs_M00']*weight\n",
    "    s4      =   moments['fpfs_M40']*weight\n",
    "    #FPFS sel Respose (part1)\n",
    "    e1sqS0  =   e1sq*s0\n",
    "    e2sqS0  =   e2sq*s0\n",
    "\n",
    "    if rev:\n",
    "        assert 'fpfs_N00N00' in moments.dtype.names\n",
    "        assert 'fpfs_N00N22c' in moments.dtype.names\n",
    "        assert 'fpfs_N00N22s' in moments.dtype.names\n",
    "        assert 'fpfs_N00N40' in moments.dtype.names\n",
    "        ratio=  moments['fpfs_N00N00']*weight**2.\n",
    "        weight= weight/(1+ratio)\n",
    "        ratio=  moments['fpfs_N00N00']*weight**2.\n",
    "        \n",
    "        e1  =   (e1+moments['fpfs_N00N22c']\\\n",
    "                *weight**2.)/(1+ratio)\n",
    "        e2  =   (e2+moments['fpfs_N00N22s']\\\n",
    "                *weight**2.)/(1+ratio)\n",
    "        e1sq=   (e1sq-moments['fpfs_N22cN22c']*weight**2.\\\n",
    "                +4.*e1*moments['fpfs_N00N22c']*weight**2.)\\\n",
    "                /(1.+3*ratio)\n",
    "        e2sq=   (e2sq-moments['fpfs_N22sN22s']*weight**2.\\\n",
    "                +4.*e2*moments['fpfs_N00N22s']*weight**2.)\\\n",
    "                /(1.+3*ratio)\n",
    "        s0  =   (s0+moments['fpfs_N00N00']\\\n",
    "                *weight**2.)/(1+ratio)\n",
    "        s4  =   (s4+moments['fpfs_N00N40']\\\n",
    "                *weight**2.)/(1+ratio)\n",
    "        \n",
    "        e1sqS0= (e1sqS0+3.*e1sq*moments['fpfs_N00N00']*weight**2.\\\n",
    "                -s0*moments['fpfs_N22cN22c']*weight**2.\\\n",
    "                -2*e1*(1-3*s0)*moments['fpfs_N00N22c']*weight**2.\\\n",
    "                 )/(1+6.*ratio)\n",
    "        e2sqS0= (e2sqS0+3.*e2sq*moments['fpfs_N00N00']*weight**2.\\\n",
    "                -s0*moments['fpfs_N22sN22s']*weight**2.\\\n",
    "                -2*e2*(1-3*s0)*moments['fpfs_N00N22s']*weight**2.\\\n",
    "                 )/(1+6.*ratio)\n",
    "        \n",
    "    eSq     =   e1sq+e2sq\n",
    "    eSqS0   =   e1sqS0+e2sqS0\n",
    "    #Response factor\n",
    "    RE      =   1./np.sqrt(2.)*(s0-s4+e1sq+e2sq)\n",
    "    types   =   [('fpfs_e1','>f8'),('fpfs_e2','>f8'),('fpfs_RE','>f8'),\\\n",
    "                ('fpfs_s0','>f8'), ('fpfs_eSquare','>f8'), ('fpfs_RS','>f8')]\n",
    "    ellDat  =   np.array(np.zeros(moments.size),dtype=types)\n",
    "    ellDat['fpfs_e1']   =   e1\n",
    "    ellDat['fpfs_e2']   =   e2\n",
    "    ellDat['fpfs_RE']   =   RE\n",
    "    ellDat['fpfs_s0']   =   s0\n",
    "    ellDat['fpfs_eSquare']  =   eSq\n",
    "    ellDat['fpfs_RS']   =   (eSq-eSqS0)/np.sqrt(2.)\n",
    "    return ellDat"
   ]
  },
  {
   "cell_type": "code",
   "execution_count": 6,
   "metadata": {},
   "outputs": [],
   "source": [
    "CBase2=4000.\n",
    "mT,merrT=estimate(slow=0.15,C=CBase2,noiRev=True)\n",
    "mF,merrF=estimate(slow=-0.1,C=CBase2,noiRev=True)"
   ]
  },
  {
   "cell_type": "code",
   "execution_count": 5,
   "metadata": {},
   "outputs": [
    {
     "data": {
      "text/plain": [
       "array([-0.00142435, -0.00160092, -0.00487563])"
      ]
     },
     "execution_count": 5,
     "metadata": {},
     "output_type": "execute_result"
    }
   ],
   "source": [
    "mT"
   ]
  },
  {
   "cell_type": "code",
   "execution_count": 6,
   "metadata": {},
   "outputs": [
    {
     "data": {
      "text/plain": [
       "array([-0.00062008, -0.00025128, -0.00103846])"
      ]
     },
     "execution_count": 6,
     "metadata": {},
     "output_type": "execute_result"
    }
   ],
   "source": [
    "mF"
   ]
  },
  {
   "cell_type": "code",
   "execution_count": 7,
   "metadata": {},
   "outputs": [
    {
     "data": {
      "image/png": "[encoded data removed]",
      "text/plain": [
       "<Figure size 504x432 with 1 Axes>"
      ]
     },
     "metadata": {
      "needs_background": "light"
     },
     "output_type": "display_data"
    }
   ],
   "source": [
    "plt.close()\n",
    "fig=plt.figure(figsize=(7,6))\n",
    "ax=fig.add_subplot(1,1,1)\n",
    "zlist=np.array([0.3,0.9,1.2])\n",
    "ax.errorbar(zlist,mF*1000,merrF*1000,fmt='-',c='black',linewidth=2,label=r'$C=4$k, no select')\n",
    "ax.errorbar(zlist,mT*1000,merrT*1000,fmt='--',c='black',linewidth=2,label=r'$C=4$k, $s_0^{\\rm low}=0.15$')\n",
    "ax.fill_between(np.linspace(0.25,1.25,100),-3e0*np.ones(100),3e0*np.ones(100),color='gray',alpha=0.6)\n",
    "ax.set_xlim(0.25,1.25)\n",
    "ax.set_xlabel(r'COSMOS redshift')\n",
    "ax.set_ylabel(r'Multiplicative bias [$\\times 10^{-3}$]')\n",
    "ax.legend()\n",
    "plt.tight_layout()\n",
    "fig.savefig(os.path.join(pltDir,'redshift_depend.png'))\n",
    "fig.savefig(os.path.join(pltDir,'redshift_depend.pdf'))"
   ]
  },
  {
   "cell_type": "code",
   "execution_count": 29,
   "metadata": {},
   "outputs": [
    {
     "name": "stderr",
     "output_type": "stream",
     "text": [
      "/lustre/work/xiangchong.li/ana/lsst_stack/conda/miniconda3-py37_4.8.2/envs/lsst-scipipe-cb4e2dc/lib/python3.7/site-packages/ipykernel_launcher.py:1: RuntimeWarning: invalid value encountered in log10\n",
      "  \"\"\"Entry point for launching an IPython kernel.\n"
     ]
    },
    {
     "data": {
      "text/plain": [
       "<matplotlib.collections.PathCollection at 0x2b7d24b4f350>"
      ]
     },
     "execution_count": 29,
     "metadata": {},
     "output_type": "execute_result"
    },
    {
     "data": {
      "image/png": "[encoded data removed]",
      "text/plain": [
       "<Figure size 432x288 with 1 Axes>"
      ]
     },
     "metadata": {
      "needs_background": "light"
     },
     "output_type": "display_data"
    }
   ],
   "source": [
    "if False:\n",
    "    fname=os.path.join(vdir,'fpfs-rcut16-psf60-%d/src%04d-g1-2222.fits' %(0,0))\n",
    "    moments=pyfits.getdata(fname)\n",
    "    plt.scatter(-hscCat[:10000]['mag_auto'],log10(moments['fpfs_M00']),s=0.1)"
   ]
  },
  {
   "cell_type": "code",
   "execution_count": 20,
   "metadata": {},
   "outputs": [
    {
     "data": {
      "text/plain": [
       "(array([2.6240e+03, 8.0590e+03, 8.6680e+03, 9.4150e+03, 1.1206e+04,\n",
       "        8.8070e+03, 7.9740e+03, 5.0330e+03, 3.6930e+03, 2.4640e+03,\n",
       "        2.4350e+03, 1.8240e+03, 1.4210e+03, 1.2740e+03, 1.5070e+03,\n",
       "        9.7000e+02, 6.6300e+02, 6.1600e+02, 4.5000e+02, 2.9700e+02,\n",
       "        1.6200e+02, 1.7900e+02, 6.8000e+01, 5.5000e+01, 4.7000e+01,\n",
       "        4.2000e+01, 2.3000e+01, 1.3000e+01, 6.0000e+00, 5.0000e+00]),\n",
       " array([4.99999989e-03, 1.85113335e-01, 3.65226670e-01, 5.45340006e-01,\n",
       "        7.25453341e-01, 9.05566676e-01, 1.08568001e+00, 1.26579335e+00,\n",
       "        1.44590668e+00, 1.62602002e+00, 1.80613335e+00, 1.98624669e+00,\n",
       "        2.16636002e+00, 2.34647336e+00, 2.52658669e+00, 2.70670003e+00,\n",
       "        2.88681336e+00, 3.06692670e+00, 3.24704004e+00, 3.42715337e+00,\n",
       "        3.60726671e+00, 3.78738004e+00, 3.96749338e+00, 4.14760671e+00,\n",
       "        4.32772005e+00, 4.50783338e+00, 4.68794672e+00, 4.86806005e+00,\n",
       "        5.04817339e+00, 5.22828672e+00, 5.40840006e+00]),\n",
       " <a list of 30 Patch objects>)"
      ]
     },
     "execution_count": 20,
     "metadata": {},
     "output_type": "execute_result"
    },
    {
     "data": {
      "image/png": "[encoded data removed]",
      "text/plain": [
       "<Figure size 432x288 with 1 Axes>"
      ]
     },
     "metadata": {
      "needs_background": "light"
     },
     "output_type": "display_data"
    }
   ],
   "source": [
    "if False:\n",
    "    plt.hist(hscCat['zphot'][:80000],bins=30)"
   ]
  }
 ],
 "metadata": {
  "kernelspec": {
   "display_name": "Python 3",
   "language": "python",
   "name": "python3"
  },
  "language_info": {
   "codemirror_mode": {
    "name": "ipython",
    "version": 3
   },
   "file_extension": ".py",
   "mimetype": "text/x-python",
   "name": "python",
   "nbconvert_exporter": "python",
   "pygments_lexer": "ipython3",
   "version": "3.7.8"
  }
 },
 "nbformat": 4,
 "nbformat_minor": 4
}
