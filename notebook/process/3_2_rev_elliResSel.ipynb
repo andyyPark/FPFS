{
 "cells": [
  {
   "cell_type": "code",
   "execution_count": 1,
   "metadata": {},
   "outputs": [
    {
     "name": "stdout",
     "output_type": "stream",
     "text": [
      "Populating the interactive namespace from numpy and matplotlib\n"
     ]
    }
   ],
   "source": [
    "%pylab inline\n",
    "import gc\n",
    "import galsim\n",
    "import numpy as np\n",
    "import astropy.io.fits as pyfits\n",
    "\n",
    "import fpfsBase"
   ]
  },
  {
   "cell_type": "code",
   "execution_count": 2,
   "metadata": {},
   "outputs": [
    {
     "name": "stdout",
     "output_type": "stream",
     "text": [
      "/lustre/work/xiangchong.li/work/FPFS2/sim\n"
     ]
    }
   ],
   "source": [
    "cd wrkDir/FPFS2/sim"
   ]
  },
  {
   "cell_type": "markdown",
   "metadata": {},
   "source": [
    "+ corrections for ellipticity, response and flux ratio \n",
    "\n",
    "$\\frac{x}{1+x}=x-x^2$\n",
    "\n",
    "$\\frac{y}{1+x}=y(1-x)$\n",
    "\n",
    "$\\frac{a}{1+x}=a(1-x+x^2)$\n",
    "\n",
    "$\\frac{a^2}{(1+x)^2}=a^2(1-2x+3x^2)$\n",
    "\n",
    "$\\frac{(a+y)^2}{(1+x)^2}=a^2(1-2x+3x^2)+y^2+2ay(1-2x)$"
   ]
  },
  {
   "cell_type": "code",
   "execution_count": 3,
   "metadata": {},
   "outputs": [
    {
     "data": {
      "text/plain": [
       "<matplotlib.image.AxesImage at 0x2b401b993090>"
      ]
     },
     "execution_count": 3,
     "metadata": {},
     "output_type": "execute_result"
    },
    {
     "data": {
      "image/png": "[encoded data removed]",
      "text/plain": [
       "<Figure size 432x288 with 1 Axes>"
      ]
     },
     "metadata": {
      "needs_background": "light"
     },
     "output_type": "display_data"
    }
   ],
   "source": [
    "ngrid=64\n",
    "nx=100;ny=100\n",
    "ngal=nx*ny\n",
    "psfFWHM=0.60\n",
    "scale=0.168\n",
    "tog=False\n",
    "igal=10\n",
    "beta=0.75\n",
    "\n",
    "hsmCat=pyfits.getdata('sim20210301/galaxy_basic_psf%d/hsm-0-g1-2222.fits' %(psfFWHM*100))\n",
    "rcutArray=np.maximum(np.minimum(np.int_(hsmCat['regauss_detR']*5),15),11)\n",
    "rcut=rcutArray[igal]\n",
    "    \n",
    "beg=ngrid//2-rcut\n",
    "end=beg+2*rcut\n",
    "galImgAll=pyfits.getdata('sim20210301/galaxy_basic_psf%d/image-0-g1-2222.fits' %(psfFWHM*100))\n",
    "img=galImgAll[igal//nx*ngrid+beg:igal//nx*ngrid+end,igal%nx*ngrid+beg:igal%nx*ngrid+end]/10.\n",
    "plt.imshow(img)"
   ]
  },
  {
   "cell_type": "code",
   "execution_count": 4,
   "metadata": {},
   "outputs": [
    {
     "name": "stdout",
     "output_type": "stream",
     "text": [
      "(10.3447971, 0.76471778, 3.09516119, 1.62472574) ('fpfs_M00', 'fpfs_M22c', 'fpfs_M22s', 'fpfs_M40')\n",
      "[[(0.05330977, 0.21576891, 0.46477353, 0.72115325)]] ('fpfs_e1', 'fpfs_e2', 'fpfs_RE', 'fpfs_flux')\n"
     ]
    }
   ],
   "source": [
    "# Initialize the fpfsTask\n",
    "psfInt  =   galsim.Moffat(beta=3.5,fwhm=psfFWHM,trunc=psfFWHM*4.)\n",
    "psfInt  =   psfInt.shear(e1=0.02,e2=-0.02)\n",
    "psfImg  =   psfInt.drawImage(nx=64,ny=64,scale=scale)\n",
    "psfData =   psfImg.array[beg:end,beg:end]\n",
    "fpTask0=fpfsBase.fpfsTask(psfData,beta=beta)\n",
    "\n",
    "a0=fpTask0.measure(img)\n",
    "C=4\n",
    "b0=fpfsBase.fpfsM2E(a0,C)\n",
    "print(a0,a0.dtype.names)\n",
    "print(b0,b0.dtype.names)"
   ]
  },
  {
   "cell_type": "code",
   "execution_count": 5,
   "metadata": {},
   "outputs": [],
   "source": [
    "# Noise\n",
    "corPre      =   'corPre'\n",
    "corFname    =   os.path.join(corPre,'correlation.fits')\n",
    "variance    =   1e-4\n",
    "ngrid=64\n",
    "\n",
    "corIn=pyfits.getdata(corFname)*variance\n",
    "corIn=np.pad(corIn,(23-32+rcut,22-32+rcut))\n",
    "\n",
    "corNum=np.fft.fftshift(np.fft.ifft2(np.abs(np.fft.fft2(np.ones(img.shape)))**2.)).real\n",
    "corIn=corIn*corNum\n",
    "powIn=np.fft.fftshift(np.fft.fft2(np.fft.fftshift(corIn)).real)\n",
    "powModel=np.zeros((1,img.shape[0],img.shape[1]))\n",
    "powModel[0]=powIn\n",
    "#fpTask=fpfsBase.fpfsTask(psfData,noiModel=powModel)\n",
    "fpTask=fpfsBase.fpfsTask(psfData,noiFit=powModel[0],beta=beta)"
   ]
  },
  {
   "cell_type": "code",
   "execution_count": 6,
   "metadata": {},
   "outputs": [],
   "source": [
    "if not os.path.isdir('test'):\n",
    "    a=[]\n",
    "    for i in range(0,40):\n",
    "        noiAll=pyfits.getdata('sim20210301/noise/noi%04d.fits' %i)*np.sqrt(variance*100.)\n",
    "        imgList=[noiAll[i//nx*ngrid+beg:i//nx*ngrid+end,i%nx*ngrid+beg:i%nx*ngrid+end]+img for i in range(ngal)]\n",
    "        #plt.imshow(imgList[5])\n",
    "        a.append(fpTask.measure(imgList))\n",
    "        del noiAll,imgList\n",
    "        gc.collect()\n",
    "    a=np.vstack(a)"
   ]
  },
  {
   "cell_type": "code",
   "execution_count": 7,
   "metadata": {},
   "outputs": [],
   "source": [
    "noiAll=pyfits.getdata('sim20210301/noise/noi%04d.fits' %i)*np.sqrt(variance*100.)\n",
    "imgList=[noiAll[i//nx*ngrid+beg:i//nx*ngrid+end,i%nx*ngrid+beg:i%nx*ngrid+end]+img for i in range(4)]\n",
    "aaaa=fpTask.measure(imgList)"
   ]
  },
  {
   "cell_type": "code",
   "execution_count": 8,
   "metadata": {},
   "outputs": [
    {
     "name": "stdout",
     "output_type": "stream",
     "text": [
      "-0.00038336462936172655\n",
      "0.0016096080026426485\n",
      "0.02572968487159799\n"
     ]
    }
   ],
   "source": [
    "print(np.average(a['fpfs_M00'])/np.average(a0['fpfs_M00'])-1)\n",
    "print(np.average(a['fpfs_M22c'])/np.average(a0['fpfs_M22c'])-1)\n",
    "print(np.average(a['fpfs_M40'])/np.average(a0['fpfs_M40'])-1)"
   ]
  },
  {
   "cell_type": "code",
   "execution_count": 9,
   "metadata": {},
   "outputs": [
    {
     "name": "stdout",
     "output_type": "stream",
     "text": [
      "variance of N00 from simulation and equation:\n",
      "1.368147986415445 1.3647075775784994\n",
      "variance of N40 from simulation and equation:\n",
      "2.3099689797219196 2.1761361212630095\n",
      "variance of N22c from simulation and equation:\n",
      "0.7240228675958698 0.7111342579538991\n",
      "variance of N22s from simulation and equation:\n",
      "0.8810721909109392 0.8797519269968569\n",
      "cov of N22cN00 from simulation and equation:\n",
      "0.10244239019365153 0.10066658463963575\n",
      "cov of N22cN00 from simulation and equation:\n",
      "0.3590743280946427 0.35912018100281695\n",
      "cov of N40N00 from simulation and equation:\n",
      "-0.10647826760386536 -0.13163108928929212\n"
     ]
    }
   ],
   "source": [
    "print('variance of N00 from simulation and equation:')\n",
    "print(np.var(a['fpfs_M00']),np.average(a['fpfs_N00N00']))\n",
    "print('variance of N40 from simulation and equation:')\n",
    "print(np.var(a['fpfs_M40']),np.average(a['fpfs_N40N40']))\n",
    "print('variance of N22c from simulation and equation:')\n",
    "print(np.var(a['fpfs_M22c']),np.average(a['fpfs_N22cN22c']))\n",
    "print('variance of N22s from simulation and equation:')\n",
    "print(np.var(a['fpfs_M22s']),np.average(a['fpfs_N22sN22s']))\n",
    "print('cov of N22cN00 from simulation and equation:')\n",
    "print(np.average(a['fpfs_M22c']*a['fpfs_M00'])-np.average(a['fpfs_M22c'])*np.average(a['fpfs_M00']),np.average(a['fpfs_N00N22c']))\n",
    "print('cov of N22cN00 from simulation and equation:')\n",
    "print(np.average(a['fpfs_M22s']*a['fpfs_M00'])-np.average(a['fpfs_M22s'])*np.average(a['fpfs_M00']),np.average(a['fpfs_N00N22s']))\n",
    "print('cov of N40N00 from simulation and equation:')\n",
    "print(np.average(a['fpfs_M40']*a['fpfs_M00'])-np.average(a['fpfs_M40'])*np.average(a['fpfs_M00']),np.average(a['fpfs_N00N40']))"
   ]
  },
  {
   "cell_type": "code",
   "execution_count": 10,
   "metadata": {},
   "outputs": [],
   "source": [
    "b=fpfsBase.fpfsM2E(a,C)"
   ]
  },
  {
   "cell_type": "code",
   "execution_count": 11,
   "metadata": {},
   "outputs": [
    {
     "name": "stdout",
     "output_type": "stream",
     "text": [
      "0.0532665476848516 0.053309766530847666 -0.0008107115976779822\n",
      "0.215630097551524 0.21576890669732915\n",
      "0.4655264389711335 0.4647735332941989 0.0016199409454280556\n",
      "-0.0024267213977506863\n"
     ]
    }
   ],
   "source": [
    "print(np.average(b['fpfs_e1']),np.average(b0['fpfs_e1']),np.average(b['fpfs_e1'])/np.average(b0['fpfs_e1'])-1)\n",
    "print(np.average(b['fpfs_e2']),np.average(b0['fpfs_e2']))\n",
    "print(np.average(b['fpfs_RE']),np.average(b0['fpfs_RE']),np.average(b['fpfs_RE'])/np.average(b0['fpfs_RE'])-1)\n",
    "print(np.average(b['fpfs_e1'])/np.average(b['fpfs_RE'])/np.average(b0['fpfs_e1'])*np.average(b0['fpfs_RE'])-1)"
   ]
  },
  {
   "cell_type": "code",
   "execution_count": 12,
   "metadata": {},
   "outputs": [],
   "source": [
    "ratio=a['fpfs_N00N00']/(a['fpfs_M00']+C)**2.\n",
    "e1=np.average((b['fpfs_e1']+a['fpfs_N00N22c']/(a['fpfs_M00']+C)**2.)/(1+ratio))\n",
    "e2=np.average((b['fpfs_e2']+a['fpfs_N00N22s']/(a['fpfs_M00']+C)**2.)/(1+ratio))"
   ]
  },
  {
   "cell_type": "code",
   "execution_count": 13,
   "metadata": {},
   "outputs": [
    {
     "name": "stdout",
     "output_type": "stream",
     "text": [
      "[9.15322027e-05]\n",
      "[0.00017718]\n"
     ]
    }
   ],
   "source": [
    "print(e1-b0['fpfs_e1'][0])\n",
    "print(e2-b0['fpfs_e2'][0])"
   ]
  },
  {
   "cell_type": "code",
   "execution_count": 14,
   "metadata": {},
   "outputs": [],
   "source": [
    "e1sq=np.average((b['fpfs_e1']**2.-a['fpfs_N22cN22c']/(a['fpfs_M00']+C)**2.+4.*b['fpfs_e1']*a['fpfs_N00N22c']/(a['fpfs_M00']+C)**2.)/(1.+3*ratio))\n",
    "e2sq=np.average((b['fpfs_e2']**2.-a['fpfs_N22sN22s']/(a['fpfs_M00']+C)**2.+4.*b['fpfs_e2']*a['fpfs_N00N22s']/(a['fpfs_M00']+C)**2.)/(1.+3*ratio))\n",
    "s0=np.average((a['fpfs_M00']/(a['fpfs_M00']+C)+a['fpfs_N00N00']/(a['fpfs_M00']+C)**2.)/(1+ratio))\n",
    "s4=np.average((a['fpfs_M40']/(a['fpfs_M00']+C)+a['fpfs_N00N40']/(a['fpfs_M00']+C)**2.)/(1+ratio))"
   ]
  },
  {
   "cell_type": "code",
   "execution_count": 15,
   "metadata": {},
   "outputs": [
    {
     "name": "stdout",
     "output_type": "stream",
     "text": [
      "[[0.00016326]]\n",
      "[[0.00017554]]\n",
      "-8.453116096340807e-05\n",
      "0.002841998590956449\n"
     ]
    }
   ],
   "source": [
    "print(e1sq-b0['fpfs_e1']**2.)\n",
    "print(e2sq-b0['fpfs_e2']**2.)\n",
    "print(s0-a0['fpfs_M00']/(a0['fpfs_M00']+C))\n",
    "print(s4-a0['fpfs_M40']/(a0['fpfs_M00']+C))"
   ]
  },
  {
   "cell_type": "markdown",
   "metadata": {},
   "source": [
    "## $e$"
   ]
  },
  {
   "cell_type": "code",
   "execution_count": 16,
   "metadata": {},
   "outputs": [
    {
     "name": "stdout",
     "output_type": "stream",
     "text": [
      "-4.321884599605928e-05\n",
      "-0.00013880914580508818\n"
     ]
    }
   ],
   "source": [
    "print(np.average(b['fpfs_e1']-b0['fpfs_e1']))\n",
    "print(np.average(b['fpfs_e2']-b0['fpfs_e2']))"
   ]
  },
  {
   "cell_type": "code",
   "execution_count": 17,
   "metadata": {},
   "outputs": [
    {
     "name": "stdout",
     "output_type": "stream",
     "text": [
      "0.0004892223413317902\n",
      "0.0017488510467210915\n"
     ]
    }
   ],
   "source": [
    "print(np.average(a['fpfs_N00N22c']/(a['fpfs_M00']+C)**2.))\n",
    "print(np.average(a['fpfs_N00N22s']/(a['fpfs_M00']+C)**2.))"
   ]
  },
  {
   "cell_type": "code",
   "execution_count": 18,
   "metadata": {},
   "outputs": [
    {
     "name": "stdout",
     "output_type": "stream",
     "text": [
      "[0.00035141]\n",
      "[0.00142233]\n"
     ]
    }
   ],
   "source": [
    "print(np.average(a['fpfs_N00N00'])/np.average((a['fpfs_M00']+C)**2.)*b0['fpfs_e1'][0])\n",
    "print(np.average(a['fpfs_N00N00'])/np.average((a['fpfs_M00']+C)**2.)*b0['fpfs_e2'][0])"
   ]
  },
  {
   "cell_type": "markdown",
   "metadata": {},
   "source": [
    "## $e^2$"
   ]
  },
  {
   "cell_type": "code",
   "execution_count": 19,
   "metadata": {},
   "outputs": [
    {
     "name": "stdout",
     "output_type": "stream",
     "text": [
      "0.003463722065359308\n",
      "0.00377069885459147\n"
     ]
    }
   ],
   "source": [
    "print(np.average(b['fpfs_e1']**2.)-np.average(b0['fpfs_e1']**2.))\n",
    "print(np.average(b['fpfs_e2']**2.)-np.average(b0['fpfs_e2']**2.))"
   ]
  },
  {
   "cell_type": "code",
   "execution_count": 20,
   "metadata": {},
   "outputs": [
    {
     "name": "stdout",
     "output_type": "stream",
     "text": [
      "0.0034656130656895707 0.003455912843988432\n",
      "0.004293975970698068 0.004275347376429034\n"
     ]
    }
   ],
   "source": [
    "print(np.average(a['fpfs_N22cN22c']/(a['fpfs_M00']+C)**2.),np.average(a['fpfs_N22cN22c']/(a0['fpfs_M00']+C)**2.))\n",
    "print(np.average(a['fpfs_N22sN22s']/(a['fpfs_M00']+C)**2.),np.average(a['fpfs_N22sN22s']/(a0['fpfs_M00']+C)**2.))"
   ]
  },
  {
   "cell_type": "code",
   "execution_count": 21,
   "metadata": {},
   "outputs": [
    {
     "name": "stdout",
     "output_type": "stream",
     "text": [
      "[0.00010432]\n",
      "[0.00150626]\n"
     ]
    }
   ],
   "source": [
    "print(4.*b0['fpfs_e1'][0]*np.average(a['fpfs_N00N22c']/(a0['fpfs_M00']+C)**2.))\n",
    "print(4.*b0['fpfs_e2'][0]*np.average(a['fpfs_N00N22s']/(a0['fpfs_M00']+C)**2.))"
   ]
  },
  {
   "cell_type": "markdown",
   "metadata": {},
   "source": [
    "## $\\frac{M_{00}}{M_{00}+C}$"
   ]
  },
  {
   "cell_type": "code",
   "execution_count": 22,
   "metadata": {},
   "outputs": [
    {
     "name": "stdout",
     "output_type": "stream",
     "text": [
      "0.7192089636412157 0.7211532535088573\n",
      "-0.0019442898676416132\n"
     ]
    }
   ],
   "source": [
    "print(np.average(a['fpfs_M00']/(a['fpfs_M00']+C)),np.average(a0['fpfs_M00']/(a0['fpfs_M00']+C)))\n",
    "print(np.average(a['fpfs_M00']/(a['fpfs_M00']+C))-np.average(a0['fpfs_M00']/(a0['fpfs_M00']+C)))"
   ]
  },
  {
   "cell_type": "code",
   "execution_count": 23,
   "metadata": {},
   "outputs": [
    {
     "name": "stdout",
     "output_type": "stream",
     "text": [
      "0.0066422378385686265\n"
     ]
    }
   ],
   "source": [
    "print(np.average(a['fpfs_N00N00']/(a['fpfs_M00']+C)**2.))"
   ]
  },
  {
   "cell_type": "code",
   "execution_count": 24,
   "metadata": {},
   "outputs": [
    {
     "name": "stdout",
     "output_type": "stream",
     "text": [
      "0.005060905857143972\n"
     ]
    }
   ],
   "source": [
    "print(np.average(a['fpfs_N00N22c']/(a['fpfs_M00']+C)**2.)*a0['fpfs_M00'])"
   ]
  },
  {
   "cell_type": "markdown",
   "metadata": {},
   "source": [
    "## $\\frac{M_{40}}{M_{00}+C}$"
   ]
  },
  {
   "cell_type": "code",
   "execution_count": 25,
   "metadata": {},
   "outputs": [
    {
     "name": "stdout",
     "output_type": "stream",
     "text": [
      "0.11748773322987274 0.11326237159707193\n",
      "0.004225361632800809\n"
     ]
    }
   ],
   "source": [
    "print(np.average(a['fpfs_M40']/(a['fpfs_M00']+C)),np.average(a0['fpfs_M40']/(a0['fpfs_M00']+C)))\n",
    "print(np.average(a['fpfs_M40']/(a['fpfs_M00']+C))-np.average(a0['fpfs_M40']/(a0['fpfs_M00']+C)))"
   ]
  },
  {
   "cell_type": "code",
   "execution_count": 27,
   "metadata": {},
   "outputs": [
    {
     "name": "stdout",
     "output_type": "stream",
     "text": [
      "-0.000635814239158818\n"
     ]
    }
   ],
   "source": [
    "print(np.average(a['fpfs_N00N40'])/np.average((a['fpfs_M00']+C)**2.))"
   ]
  },
  {
   "cell_type": "code",
   "execution_count": 28,
   "metadata": {},
   "outputs": [
    {
     "data": {
      "text/plain": [
       "400000"
      ]
     },
     "execution_count": 28,
     "metadata": {},
     "output_type": "execute_result"
    }
   ],
   "source": [
    "len(a)"
   ]
  }
 ],
 "metadata": {
  "kernelspec": {
   "display_name": "Python 3",
   "language": "python",
   "name": "python3"
  },
  "language_info": {
   "codemirror_mode": {
    "name": "ipython",
    "version": 3
   },
   "file_extension": ".py",
   "mimetype": "text/x-python",
   "name": "python",
   "nbconvert_exporter": "python",
   "pygments_lexer": "ipython3",
   "version": "3.7.8"
  }
 },
 "nbformat": 4,
 "nbformat_minor": 4
}
