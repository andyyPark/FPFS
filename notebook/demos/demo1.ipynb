{
 "cells": [
  {
   "cell_type": "code",
   "execution_count": 2,
   "id": "ec2d446f-677d-4fe5-ace5-776239f5faa2",
   "metadata": {},
   "outputs": [],
   "source": [
    "%matplotlib inline\n",
    "\n",
    "import gc\n",
    "import fpfs\n",
    "import galsim\n",
    "\n",
    "import numpy as np\n",
    "import matplotlib.pyplot as plt\n",
    "import numpy.lib.recfunctions as rfn"
   ]
  },
  {
   "cell_type": "code",
   "execution_count": 7,
   "id": "e93fd6d5",
   "metadata": {},
   "outputs": [],
   "source": [
    "def analyze_FPFS(rng:np.random.RandomState, input_shear:np.ndarray, num_gals:int,\\\n",
    "        noi_stds,noi_psf=0.) -> tuple[np.ndarray,np.ndarray]:\n",
    "    noi_stds=   np.array(noi_stds)\n",
    "    if len(noi_stds.shape)==0:\n",
    "        noi_stds=np.array([noi_stds])\n",
    "    elif len(noi_stds.shape)>=2:\n",
    "        raise ValueError('The input noi_stds should be float or 1d list')\n",
    "    y       =   []\n",
    "    y_err   =   []\n",
    "    # initialize FPFS task with psf\n",
    "    gal,psf =   fpfs.simutil.make_simple_sim(shear=[0.,0.],rng=rng,noise=0.)\n",
    "    ngrid   =   psf.shape[0]\n",
    "    rcut    =   16\n",
    "    beg     =   ngrid//2-rcut\n",
    "    end     =   beg+2*rcut\n",
    "    psf     =   psf[beg:end,beg:end]\n",
    "    gc.collect()\n",
    "    num_tests=  noi_stds.size\n",
    "    for i in range(num_tests):\n",
    "        fpTask   =  fpfs.fpfsBase.fpfsTask(psf,noiFit=noi_stds[i]**2.,beta=0.75)\n",
    "        results=[]\n",
    "        for _ in range(num_gals):\n",
    "            gal  =  fpfs.simutil.make_simple_sim(shear=input_shear,\\\n",
    "                    rng=rng,noise=noi_stds[i],psf_noise=noi_psf)[0]\n",
    "            ngrid=  gal.shape[0]\n",
    "            beg  =  ngrid//2-rcut\n",
    "            end  =  beg+2*rcut\n",
    "            gal  =  gal[beg:end,beg:end]\n",
    "            modes=  fpTask.measure(gal)\n",
    "            results.append(modes)\n",
    "            del gal,modes\n",
    "            gc.collect()\n",
    "        mms =   rfn.stack_arrays(results,usemask=False)\n",
    "        ells=   fpfs.fpfsBase.fpfsM2E(mms,const=2000,noirev=False)\n",
    "        del mms,results\n",
    "        resp=np.average(ells['fpfs_RE'])\n",
    "        shear=np.average(ells['fpfs_e1'])/resp\n",
    "        shear_err=np.std(ells['fpfs_e1'])/np.abs(resp)\n",
    "        y.append(shear)\n",
    "        y_err.append(shear_err)\n",
    "    return np.array(y), np.array(y_err)"
   ]
  },
  {
   "cell_type": "code",
   "execution_count": 8,
   "id": "1bbc6a71-e94c-41a1-b131-aea3184b9a48",
   "metadata": {},
   "outputs": [],
   "source": [
    "rng = np.random.RandomState(1024)\n",
    "noise_arr = np.logspace(-4, -3, 5, base=10.0)\n",
    "num_tests = len(noise_arr)\n",
    "num_gals = 100\n",
    "shear_true = [0.03, 0.00]\n",
    "anz=analyze_FPFS(rng,shear_true,num_gals,noise_arr)"
   ]
  },
  {
   "cell_type": "code",
   "execution_count": 10,
   "id": "c33bb684-b05d-4eee-8159-8cec0e62b82d",
   "metadata": {},
   "outputs": [
    {
     "data": {
      "text/plain": [
       "(array([0.02958141, 0.03045444, 0.02989652, 0.03058665, 0.03278453]),\n",
       " array([0.00286062, 0.00559133, 0.01003668, 0.01835523, 0.02857018]))"
      ]
     },
     "execution_count": 10,
     "metadata": {},
     "output_type": "execute_result"
    }
   ],
   "source": [
    "plt.close()\n",
    "plt.eanz"
   ]
  },
  {
   "cell_type": "code",
   "execution_count": null,
   "id": "af2926ff-710e-48e7-b1b2-6be3c09b194c",
   "metadata": {},
   "outputs": [],
   "source": []
  }
 ],
 "metadata": {
  "kernelspec": {
   "display_name": "Python 3 (ipykernel)",
   "language": "python",
   "name": "python3"
  },
  "language_info": {
   "codemirror_mode": {
    "name": "ipython",
    "version": 3
   },
   "file_extension": ".py",
   "mimetype": "text/x-python",
   "name": "python",
   "nbconvert_exporter": "python",
   "pygments_lexer": "ipython3",
   "version": "3.9.10"
  }
 },
 "nbformat": 4,
 "nbformat_minor": 5
}
