{
 "cells": [
  {
   "cell_type": "code",
   "execution_count": 21,
   "metadata": {},
   "outputs": [
    {
     "name": "stdout",
     "output_type": "stream",
     "text": [
      "Populating the interactive namespace from numpy and matplotlib\n"
     ]
    }
   ],
   "source": [
    "%pylab inline\n",
    "import gc\n",
    "import numpy as np\n",
    "import astropy.io.fits as pyfits\n",
    "\n",
    "import fpfsBase"
   ]
  },
  {
   "cell_type": "code",
   "execution_count": 22,
   "metadata": {},
   "outputs": [
    {
     "name": "stdout",
     "output_type": "stream",
     "text": [
      "[Errno 2] No such file or directory: 'wrkDir/FPFS2/sim'\n",
      "/lustre/work/xiangchong.li/work/FPFS2/sim\n"
     ]
    }
   ],
   "source": [
    "cd wrkDir/FPFS2/sim"
   ]
  },
  {
   "cell_type": "code",
   "execution_count": 41,
   "metadata": {},
   "outputs": [],
   "source": [
    "gest=[]\n",
    "C=0\n",
    "for ifield in range(1000):\n",
    "    fname1='sim20210301/fpfs-psfRcut-psf60-0/src0000-g1-2222.fits'\n",
    "    moments1=pyfits.getdata(fname1)\n",
    "    elli1=fpfsBase.fpfsM2E(moments1,C,rev=True)\n",
    "    fname2='sim20210301/fpfs-psfRcut-psf60-0/src0000-g1-0000.fits'\n",
    "    moments2=pyfits.getdata(fname2)\n",
    "    elli2=fpfsBase.fpfsM2E(moments2,C,rev=True)\n",
    "    g1p=np.average(elli1['fpfs_e1'])/np.average(elli1['fpfs_RE'])\n",
    "    g1m=np.average(elli2['fpfs_e1'])/np.average(elli2['fpfs_RE'])\n",
    "    gest.append(g1m-g1p)\n",
    "    del elli1,elli2,moments1,moments2\n",
    "    gc.collect"
   ]
  },
  {
   "cell_type": "code",
   "execution_count": 42,
   "metadata": {},
   "outputs": [
    {
     "data": {
      "text/plain": [
       "0.0019333796622817978"
      ]
     },
     "execution_count": 42,
     "metadata": {},
     "output_type": "execute_result"
    }
   ],
   "source": [
    "np.average(gest)/0.04-1"
   ]
  },
  {
   "cell_type": "code",
   "execution_count": 15,
   "metadata": {},
   "outputs": [
    {
     "data": {
      "text/plain": [
       "(array([  1.,  21.,  69., 145., 262., 351., 442., 409., 395., 320., 274.,\n",
       "        242., 217., 235., 165., 170., 167., 136., 131., 132., 132.,  96.,\n",
       "        105.,  80.,  92.,  87.,  88.,  79.,  78.,  75.,  64.,  60.,  79.,\n",
       "         52.,  55.,  53.,  49.,  47.,  54.,  51.,  46.,  46.,  36.,  36.,\n",
       "         34.,  35.,  38.,  33.,  32.,  29.]),\n",
       " array([   0.,   20.,   40.,   60.,   80.,  100.,  120.,  140.,  160.,\n",
       "         180.,  200.,  220.,  240.,  260.,  280.,  300.,  320.,  340.,\n",
       "         360.,  380.,  400.,  420.,  440.,  460.,  480.,  500.,  520.,\n",
       "         540.,  560.,  580.,  600.,  620.,  640.,  660.,  680.,  700.,\n",
       "         720.,  740.,  760.,  780.,  800.,  820.,  840.,  860.,  880.,\n",
       "         900.,  920.,  940.,  960.,  980., 1000.]),\n",
       " <a list of 50 Patch objects>)"
      ]
     },
     "execution_count": 15,
     "metadata": {},
     "output_type": "execute_result"
    },
    {
     "data": {
      "image/png": "[encoded data removed]",
      "text/plain": [
       "<Figure size 432x288 with 1 Axes>"
      ]
     },
     "metadata": {
      "needs_background": "light"
     },
     "output_type": "display_data"
    }
   ],
   "source": [
    "plt.hist(moments['fpfs_M00'],bins=50,range=(0,1e3))"
   ]
  },
  {
   "cell_type": "code",
   "execution_count": 4,
   "metadata": {},
   "outputs": [],
   "source": []
  },
  {
   "cell_type": "code",
   "execution_count": 18,
   "metadata": {},
   "outputs": [
    {
     "name": "stdout",
     "output_type": "stream",
     "text": [
      "0.14283611727986065\n"
     ]
    },
    {
     "data": {
      "image/png": "[encoded data removed]",
      "text/plain": [
       "<Figure size 432x288 with 1 Axes>"
      ]
     },
     "metadata": {
      "needs_background": "light"
     },
     "output_type": "display_data"
    }
   ],
   "source": [
    "plt.hist(elli['fpfs_s0'])\n",
    "print(elli['fpfs_s0'].min())"
   ]
  },
  {
   "cell_type": "code",
   "execution_count": 20,
   "metadata": {},
   "outputs": [
    {
     "name": "stdout",
     "output_type": "stream",
     "text": [
      "0.018203436222993523\n"
     ]
    }
   ],
   "source": [
    "print(-np.average(elli['fpfs_e1'])/np.average(elli['fpfs_RE']))"
   ]
  },
  {
   "cell_type": "code",
   "execution_count": null,
   "metadata": {},
   "outputs": [],
   "source": []
  }
 ],
 "metadata": {
  "kernelspec": {
   "display_name": "Python 3",
   "language": "python",
   "name": "python3"
  },
  "language_info": {
   "codemirror_mode": {
    "name": "ipython",
    "version": 3
   },
   "file_extension": ".py",
   "mimetype": "text/x-python",
   "name": "python",
   "nbconvert_exporter": "python",
   "pygments_lexer": "ipython3",
   "version": "3.7.8"
  }
 },
 "nbformat": 4,
 "nbformat_minor": 4
}
