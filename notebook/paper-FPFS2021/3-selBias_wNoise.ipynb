{
 "cells": [
  {
   "cell_type": "code",
   "execution_count": 1,
   "metadata": {},
   "outputs": [
    {
     "name": "stdout",
     "output_type": "stream",
     "text": [
      "Populating the interactive namespace from numpy and matplotlib\n"
     ]
    }
   ],
   "source": [
    "%pylab inline\n",
    "import gc\n",
    "import numpy as np\n",
    "import astropy.io.fits as pyfits\n",
    "\n",
    "import fpfsBase"
   ]
  },
  {
   "cell_type": "code",
   "execution_count": 2,
   "metadata": {},
   "outputs": [
    {
     "name": "stdout",
     "output_type": "stream",
     "text": [
      "/lustre/work/xiangchong.li/work/FPFS2/sim\n"
     ]
    }
   ],
   "source": [
    "cd wrkDir/FPFS2/sim"
   ]
  },
  {
   "cell_type": "code",
   "execution_count": 15,
   "metadata": {},
   "outputs": [],
   "source": [
    "def estimate(Clist=np.array([25,50,100,200,400,800,1600.]),noiRev=True):\n",
    "    nsim=800\n",
    "    vdir='outcome-var7em3'\n",
    "    nic=len(Clist)\n",
    "    gest=np.zeros((nsim,nic))\n",
    "    slow=0.0\n",
    "    dss=0.01\n",
    "    for ifield in range(nsim):\n",
    "        igroup=ifield//250\n",
    "        fname1=os.path.join(vdir,'fpfs-rcut16-psf60-%d/src%04d-g1-2222.fits' %(igroup,ifield))\n",
    "        moments1=pyfits.getdata(fname1)\n",
    "        fname2=os.path.join(vdir,'fpfs-rcut16-psf60-%d/src%04d-g1-0000.fits' %(igroup,ifield))\n",
    "        moments2=pyfits.getdata(fname2)\n",
    "\n",
    "        for ic in range(nic):\n",
    "            C=Clist[ic]\n",
    "            elli1=fpfsBase.fpfsM2E(moments1,C,rev=noiRev)\n",
    "            mask=elli1['fpfs_s0']>slow\n",
    "            elli1=elli1[mask]\n",
    "            mask2=elli1['fpfs_s0']<slow+dss\n",
    "            RS=0.#-np.sqrt(2.)*np.sum((1-elli1[mask2]['fpfs_s0'])*elli1[mask2]['fpfs_e1']**2./dss)\n",
    "            g1p=np.sum(elli1['fpfs_e1'])/(np.sum(elli1['fpfs_RE'])+RS)\n",
    "\n",
    "            elli2=fpfsBase.fpfsM2E(moments2,C,rev=noiRev)\n",
    "            mask=elli2['fpfs_s0']>slow\n",
    "            elli2=elli2[mask]\n",
    "            mask2=elli2['fpfs_s0']<slow+dss\n",
    "            RS=0.#-np.sqrt(2.)*np.sum((1-elli2[mask2]['fpfs_s0'])*elli2[mask2]['fpfs_e1']**2./dss)\n",
    "            g1m=np.sum(elli2['fpfs_e1'])/(np.sum(elli2['fpfs_RE'])+RS)\n",
    "\n",
    "            gest[ifield,ic]=g1m-g1p\n",
    "            del elli1,elli2,mask,mask2\n",
    "            gc.collect\n",
    "        del moments1,moments2\n",
    "        gc.collect\n",
    "    return np.average(gest,axis=0)/0.04-1,np.std(gest,axis=0)/0.04/np.sqrt(nsim)"
   ]
  },
  {
   "cell_type": "code",
   "execution_count": 16,
   "metadata": {},
   "outputs": [],
   "source": [
    "Clist=np.array([25,50,100,200,400,800,1600.,3200])\n",
    "mT,merrT=estimate(Clist,True)\n",
    "mF,merrF=estimate(Clist,False)"
   ]
  },
  {
   "cell_type": "code",
   "execution_count": 30,
   "metadata": {},
   "outputs": [
    {
     "data": {
      "image/png": "[encoded data removed]",
      "text/plain": [
       "<Figure size 504x432 with 1 Axes>"
      ]
     },
     "metadata": {
      "needs_background": "light"
     },
     "output_type": "display_data"
    }
   ],
   "source": [
    "pltDir='plot/noiseBias/'\n",
    "plt.close()\n",
    "fig=plt.figure(figsize=(7,6))\n",
    "ax=fig.add_subplot(1,1,1)\n",
    "msk=mT<0.\n",
    "ax.errorbar(Clist[msk],np.abs(mT)[msk],merrT[msk],fmt='x',c='red',markersize=10)\n",
    "ax.errorbar(Clist[~msk],np.abs(mT)[~msk],merrT[~msk],fmt='o',c='red',markersize=10)\n",
    "ax.errorbar(Clist,mT,merrT,fmt='-',c='red')\n",
    "ax.errorbar(Clist,-mT,merrT,fmt='-',c='red')\n",
    "\n",
    "msk=mF<0.\n",
    "ax.errorbar(Clist[msk],np.abs(mF)[msk],merrF[msk],fmt='x',c='blue',markersize=10)\n",
    "ax.errorbar(Clist[~msk],np.abs(mF)[~msk],merrF[~msk],fmt='o',c='blue',markersize=10)\n",
    "ax.errorbar(Clist,mF,merrF,fmt='--',c='blue')\n",
    "ax.errorbar(Clist,-mF,merrF,fmt='--',c='blue')\n",
    "ax.set_xlabel('C')\n",
    "ax.set_ylabel(r'Multiplicative bias')\n",
    "ax.set_yscale('log')\n",
    "ax.set_xscale('log')\n",
    "ax.set_xlim(2e1,2e3)\n",
    "ax.set_ylim(1e-4,1.5e-1)\n",
    "ax.fill_between(np.linspace(10,2000,100),np.zeros(100),2e-3*np.ones(100),color='gray',alpha=0.6)\n",
    "fig.savefig(os.path.join(pltDir,'noiseBias.png'))\n",
    "fig.savefig(os.path.join(pltDir,'noiseBias.pdf'))"
   ]
  }
 ],
 "metadata": {
  "kernelspec": {
   "display_name": "Python 3",
   "language": "python",
   "name": "python3"
  },
  "language_info": {
   "codemirror_mode": {
    "name": "ipython",
    "version": 3
   },
   "file_extension": ".py",
   "mimetype": "text/x-python",
   "name": "python",
   "nbconvert_exporter": "python",
   "pygments_lexer": "ipython3",
   "version": "3.7.8"
  }
 },
 "nbformat": 4,
 "nbformat_minor": 4
}
