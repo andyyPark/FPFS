{
 "cells": [
  {
   "cell_type": "code",
   "execution_count": 1,
   "id": "ec2d446f-677d-4fe5-ace5-776239f5faa2",
   "metadata": {},
   "outputs": [],
   "source": [
    "%matplotlib inline\n",
    "import gc\n",
    "import time\n",
    "import fpfs\n",
    "\n",
    "import numpy as np\n",
    "import matplotlib.pyplot as plt\n",
    "import numpy.lib.recfunctions as rfn"
   ]
  },
  {
   "cell_type": "markdown",
   "id": "0e954806-0cbd-4024-a41b-2ec9d499afd8",
   "metadata": {},
   "source": [
    "# shear estimation\n",
    "+ fpfs.fpfsBase.fpfsTask is the task to measure shear from galaxies"
   ]
  },
  {
   "cell_type": "code",
   "execution_count": 2,
   "id": "e93fd6d5",
   "metadata": {},
   "outputs": [],
   "source": [
    "def analyze_FPFS(rng:np.random.RandomState, input_shear:np.ndarray, num_gals:int,\\\n",
    "        noi_stds,noi_psf=1e-9):\n",
    "    noi_stds=   np.array(noi_stds)\n",
    "    if len(noi_stds.shape)==0:\n",
    "        noi_stds=np.array([noi_stds])\n",
    "    elif len(noi_stds.shape)>=2:\n",
    "        raise ValueError('The input noi_stds should be float or 1d list')\n",
    "    x       =   []      # SNR\n",
    "    y       =   []      # estimated shear\n",
    "    y_err   =   []      # error on shear\n",
    "    # I am calling this task to simulate galaxy images:\n",
    "    # https://github.com/mr-superonion/FPFS/blob/188ba8679b4db401129e7504ea5126143bafdee4/fpfs/simutil.py#L163\n",
    "    testTask=   fpfs.simutil.sim_test(shear=input_shear,rng=rng)\n",
    "    # get an aperture flux for SNR estimation\n",
    "    ngrid   =   testTask.img.shape[0]\n",
    "    flux_gal=   np.sum(testTask.img[ngrid//2-2:ngrid//2+3,ngrid//2-2:ngrid//2+3])\n",
    "    # cutout PSF\n",
    "    ngrid   =   testTask.psf.shape[0]\n",
    "    rcut    =   16\n",
    "    beg     =   ngrid//2-rcut\n",
    "    end     =   beg+2*rcut\n",
    "    # cutout PSF into postage stamp with width=2rcut\n",
    "    psf     =   testTask.psf[beg:end,beg:end]\n",
    "    gc.collect()\n",
    "    num_tests=  noi_stds.size\n",
    "    for i in range(num_tests):\n",
    "        noii    =   noi_stds[i]\n",
    "        x.append(flux_gal/(noii*5))\n",
    "        # initialize FPFS task with an average psf and noise variance (or power spectrum)\n",
    "        # beta<1 is the FPFS scale parameter\n",
    "        fpTask  =   fpfs.fpfsBase.fpfsTask(psf,noiFit=noii**2.,beta=0.75)\n",
    "        start= time.time()\n",
    "        results =   []\n",
    "        for _ in range(num_gals):\n",
    "            # simulate one galaxy\n",
    "            gal =   testTask.make_image(noise=noii,psf_noise=noi_psf)[0]\n",
    "            psfPow= fpfs.imgutil.getFouPow(psf)\n",
    "            # cut out galaxy into 32x32 grids\n",
    "            ngrid=  gal.shape[0]\n",
    "            beg =   ngrid//2-rcut\n",
    "            end =   beg+2*rcut\n",
    "            gal =   gal[beg:end,beg:end]\n",
    "            # FPFS measurement\n",
    "            modes=  fpTask.measure(gal,psfPow=psfPow)\n",
    "            # append measured modes to the results list\n",
    "            results.append(modes)\n",
    "            del gal,modes,beg,end,ngrid,psfPow\n",
    "        end =   time.time()\n",
    "        print('%.5f seconds to process %d galaxies' %(end-start,num_gals))\n",
    "        mms =   rfn.stack_arrays(results,usemask=False)\n",
    "        # set C = std(\\delta M_00)\n",
    "        C   =   np.sqrt(np.average(mms['fpfs_N00N00']))*5.\n",
    "        ells=   fpfs.fpfsBase.fpfsM2E(mms,const=C,noirev=False)\n",
    "        del mms,results\n",
    "        resp=np.average(ells['fpfs_RE'])\n",
    "        shear=np.average(ells['fpfs_e1'])/resp\n",
    "        shear_err=np.std(ells['fpfs_e1'])/np.abs(resp)/np.sqrt(num_gals)\n",
    "        y.append(shear)\n",
    "        y_err.append(shear_err)\n",
    "    return np.array(x),np.array(y), np.array(y_err)"
   ]
  },
  {
   "cell_type": "code",
   "execution_count": 3,
   "id": "1bbc6a71-e94c-41a1-b131-aea3184b9a48",
   "metadata": {},
   "outputs": [
    {
     "name": "stdout",
     "output_type": "stream",
     "text": [
      "3.48462 seconds to process 10000 galaxies\n",
      "3.51313 seconds to process 10000 galaxies\n",
      "3.41552 seconds to process 10000 galaxies\n",
      "3.36127 seconds to process 10000 galaxies\n",
      "3.37960 seconds to process 10000 galaxies\n"
     ]
    }
   ],
   "source": [
    "rng     =   np.random.RandomState(212)\n",
    "noi_stds=   np.logspace(-4, -2, 5, base=10.0)\n",
    "num_gals=   10000\n",
    "snr,g1,g1err=   analyze_FPFS(rng,np.array([0.03, 0.00]),num_gals,noi_stds)"
   ]
  },
  {
   "cell_type": "code",
   "execution_count": 4,
   "id": "c33bb684-b05d-4eee-8159-8cec0e62b82d",
   "metadata": {},
   "outputs": [
    {
     "data": {
      "image/png": "[encoded data removed]",
      "text/plain": [
       "<Figure size 432x288 with 1 Axes>"
      ]
     },
     "metadata": {
      "needs_background": "light"
     },
     "output_type": "display_data"
    }
   ],
   "source": [
    "plt.close()\n",
    "plt.errorbar(snr,g1,g1err)\n",
    "plt.xlabel('SNR',fontsize=20,weight='bold')\n",
    "plt.ylabel(r'$\\hat{g}_1$')\n",
    "plt.grid()\n",
    "plt.xscale('log')"
   ]
  },
  {
   "cell_type": "code",
   "execution_count": null,
   "id": "2f6a1f6b-881c-4c0a-895b-1f155d386499",
   "metadata": {},
   "outputs": [],
   "source": []
  }
 ],
 "metadata": {
  "kernelspec": {
   "display_name": "Python 3 (ipykernel)",
   "language": "python",
   "name": "python3"
  },
  "language_info": {
   "codemirror_mode": {
    "name": "ipython",
    "version": 3
   },
   "file_extension": ".py",
   "mimetype": "text/x-python",
   "name": "python",
   "nbconvert_exporter": "python",
   "pygments_lexer": "ipython3",
   "version": "3.9.10"
  }
 },
 "nbformat": 4,
 "nbformat_minor": 5
}
