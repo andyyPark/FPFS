{
 "cells": [
  {
   "cell_type": "code",
   "execution_count": 5,
   "metadata": {},
   "outputs": [
    {
     "name": "stdout",
     "output_type": "stream",
     "text": [
      "Populating the interactive namespace from numpy and matplotlib\n"
     ]
    }
   ],
   "source": [
    "%pylab inline\n",
    "import os\n",
    "import gc\n",
    "import numpy as np\n",
    "import catutil as utilities\n",
    "import imgSimutil as imgUtil\n",
    "import astropy.io.fits as pyfits\n",
    "from astropy.table import Table,vstack,hstack"
   ]
  },
  {
   "cell_type": "code",
   "execution_count": 1,
   "metadata": {},
   "outputs": [
    {
     "name": "stdout",
     "output_type": "stream",
     "text": [
      "/lustre/work/xiangchong.li/work/FPFS2/sim2\n"
     ]
    }
   ],
   "source": [
    "cd wrkDir/FPFS2/sim2/"
   ]
  },
  {
   "cell_type": "code",
   "execution_count": 66,
   "metadata": {},
   "outputs": [],
   "source": [
    "pltDir='plot/cosmozBlending/'\n",
    "if not os.path.isdir(pltDir):\n",
    "    os.mkdir(pltDir)\n",
    "    \n",
    "def estimate_mArray(d2222,d0000,d2000,d0200,d0020,d0002):\n",
    "    bz1o=(np.average(d2222['e1_z1'],weights=d2222['n_z1'])-np.average(d0000['e1_z1'],weights=d0000['n_z1']))/0.04\n",
    "    bz2o=(np.average(d2222['e1_z2'],weights=d2222['n_z2'])-np.average(d0000['e1_z2'],weights=d0000['n_z2']))/0.04\n",
    "    bz3o=(np.average(d2222['e1_z3'],weights=d2222['n_z3'])-np.average(d0000['e1_z3'],weights=d0000['n_z3']))/0.04\n",
    "    bz4o=(np.average(d2222['e1_z4'],weights=d2222['n_z4'])-np.average(d0000['e1_z4'],weights=d0000['n_z4']))/0.04\n",
    "    bz1n=(np.average(d2000['e1_z1'],weights=d2000['n_z1'])-np.average(d0000['e1_z1'],weights=d0000['n_z1']))/0.04\n",
    "    bz2n=(np.average(d0200['e1_z2'],weights=d0200['n_z2'])-np.average(d0000['e1_z2'],weights=d0000['n_z2']))/0.04\n",
    "    bz3n=(np.average(d0020['e1_z3'],weights=d0020['n_z3'])-np.average(d0000['e1_z3'],weights=d0000['n_z3']))/0.04\n",
    "    bz4n=(np.average(d0002['e1_z4'],weights=d0002['n_z4'])-np.average(d0000['e1_z4'],weights=d0000['n_z4']))/0.04\n",
    "    dmz1=bz1n/bz1o-1\n",
    "    dmz2=bz2n/bz2o-1\n",
    "    dmz3=bz3n/bz3o-1\n",
    "    dmz4=bz4n/bz4o-1\n",
    "    mArray=np.array([dmz1,dmz2,dmz3,dmz4])\n",
    "    return mArray\n",
    "\n",
    "def estimate_mArray2(d2222,d0000,d2000,d0200,d0020,d0002):\n",
    "    bz1o=(np.average(d2222['e1_z1'],weights=d2222['n_z1'])-np.average(d0000['e1_z1'],weights=d0000['n_z1']))/0.04\n",
    "    bz2o=(np.average(d2222['e1_z2'],weights=d2222['n_z2'])-np.average(d0000['e1_z2'],weights=d0000['n_z2']))/0.04\n",
    "    bz3o=(np.average(d2222['e1_z3'],weights=d2222['n_z3'])-np.average(d0000['e1_z3'],weights=d0000['n_z3']))/0.04\n",
    "    bz4o=(np.average(d2222['e1_z4'],weights=d2222['n_z4'])-np.average(d0000['e1_z4'],weights=d0000['n_z4']))/0.04\n",
    "    bz1o=bz1o*np.sum(d0000['n_z1'])\n",
    "    bz2o=bz2o*np.sum(d0000['n_z2'])\n",
    "    bz3o=bz3o*np.sum(d0000['n_z3'])\n",
    "    bz4o=bz4o*np.sum(d0000['n_z4'])\n",
    "    \n",
    "    bz1n=(np.dot(d2000['e1_z1'],d2000['n_z1'])-np.dot(d0000['e1_z1'],d0000['n_z1']))/0.04\n",
    "    bz2n=(np.dot(d0200['e1_z2'],d0200['n_z2'])-np.dot(d0000['e1_z2'],d0000['n_z2']))/0.04\n",
    "    bz3n=(np.dot(d0020['e1_z3'],d0020['n_z3'])-np.dot(d0000['e1_z3'],d0000['n_z3']))/0.04\n",
    "    bz4n=(np.dot(d0002['e1_z4'],d0002['n_z4'])-np.dot(d0000['e1_z4'],d0000['n_z4']))/0.04\n",
    "    dmz1=bz1n/bz1o-1\n",
    "    dmz2=bz2n/bz2o-1\n",
    "    dmz3=bz3n/bz3o-1\n",
    "    dmz4=bz4n/bz4o-1\n",
    "    mArray=np.array([dmz1,dmz2,dmz3,dmz4])\n",
    "    return mArray"
   ]
  },
  {
   "cell_type": "code",
   "execution_count": 90,
   "metadata": {},
   "outputs": [
    {
     "data": {
      "image/png": "[encoded data removed]",
      "text/plain": [
       "<Figure size 432x288 with 1 Axes>"
      ]
     },
     "metadata": {
      "needs_background": "light"
     },
     "output_type": "display_data"
    }
   ],
   "source": [
    "Dir='outCosmoR-var36em4/mag245-res03-bm38/'\n",
    "lList=['60','105']\n",
    "zbound  =   np.array([0.,0.561,0.906,1.374,5.410])\n",
    "bAll=[]\n",
    "errAll=[]\n",
    "for psz in lList:\n",
    "    err=[]\n",
    "    fname=os.path.join(Dir,'e1_g1-2222_psf%s.fits' %psz)\n",
    "    d2222=pyfits.getdata(fname)\n",
    "    fname=os.path.join(Dir,'e1_g1-0000_psf%s.fits' %psz)\n",
    "    d0000=pyfits.getdata(fname)\n",
    "    fname=os.path.join(Dir,'e1_g1-2000_psf%s.fits' %psz)\n",
    "    d2000=pyfits.getdata(fname)\n",
    "    fname=os.path.join(Dir,'e1_g1-0200_psf%s.fits' %psz)\n",
    "    d0200=pyfits.getdata(fname)\n",
    "    fname=os.path.join(Dir,'e1_g1-0020_psf%s.fits' %psz)\n",
    "    d0020=pyfits.getdata(fname)\n",
    "    fname=os.path.join(Dir,'e1_g1-0002_psf%s.fits' %psz)\n",
    "    d0002=pyfits.getdata(fname)\n",
    "    mArray=estimate_mArray(d2222,d0000,d2000,d0200,d0020,d0002)\n",
    "    bAll.append(mArray)\n",
    "    ngroup=len(d0000)\n",
    "    for ig in range(200):\n",
    "        d2222c=np.delete(d2222,ig)\n",
    "        d0000c=np.delete(d0000,ig)\n",
    "        d2000c=np.delete(d2000,ig)\n",
    "        d0200c=np.delete(d0200,ig)\n",
    "        d0020c=np.delete(d0020,ig)\n",
    "        d0002c=np.delete(d0002,ig)\n",
    "        mArrayc=estimate_mArray(d2222c,d0000c,d2000c,d0200c,d0020c,d0002c)\n",
    "        err.append(mArrayc-mArray)\n",
    "        del d2222c,d0000c,d2000c,d0200c,d0020c,d0002c,mArrayc\n",
    "        gc.collect()\n",
    "    errAll.append(np.sqrt(np.sum(np.vstack(err)**2.,axis=0)))\n",
    "    del err,mArray\n",
    "    gc.collect()\n",
    "\n",
    "lsList=['o-','x--','>:']\n",
    "ishift=[-0.15,0,0.15]\n",
    "for i in range(len(lList)):\n",
    "    plt.errorbar((zbound[:-1]+zbound[1:])/2.+ishift[i],bAll[i]*100,errAll[i]*100,ls=lsList[i][1:],\\\n",
    "                 marker=lsList[i][0],label=lList[i],c='black')\n",
    "cmap = cm.tab20\n",
    "norm = Normalize(vmin=0, vmax=len(zbound)-2)\n",
    "for iz in range(len(zbound)-1):\n",
    "    cc=cmap(norm(iz))\n",
    "    plt.axvspan(zbound[iz],zbound[iz+1],alpha=0.2, color=cc)\n",
    "plt.plot(np.linspace(-0.12,5.43,20),-0.98*np.ones(20),c='red',ls=':',alpha=0.3)\n",
    "plt.legend(loc='upper right')\n",
    "plt.ylabel(r'$m [10^{-2}]$')\n",
    "plt.xlabel('redshift')\n",
    "plt.xlim(-0.12,5.43)\n",
    "plt.tight_layout()\n",
    "np.save(os.path.join(Dir,'bAll.npy'),bAll)\n",
    "np.save(os.path.join(Dir,'errAll.npy'),errAll)\n",
    "plt.savefig(os.path.join(pltDir,'%s-%s.png' %tuple(Dir.split('/')[:-1])))\n",
    "plt.savefig(os.path.join(pltDir,'%s-%s.pdf' %tuple(Dir.split('/')[:-1])))"
   ]
  },
  {
   "cell_type": "code",
   "execution_count": 92,
   "metadata": {},
   "outputs": [
    {
     "data": {
      "image/png": "[encoded data removed]",
      "text/plain": [
       "<Figure size 432x288 with 1 Axes>"
      ]
     },
     "metadata": {
      "needs_background": "light"
     },
     "output_type": "display_data"
    }
   ],
   "source": [
    "Dir='outCosmoE-var36em4/mag245-res03-bm38/'\n",
    "lList=['60','105']\n",
    "zbound  =   np.array([0.,0.561,0.906,1.374,5.410])\n",
    "bAll=[]\n",
    "errAll=[]\n",
    "for psz in lList:\n",
    "    err=[]\n",
    "    fname=os.path.join(Dir,'e1_g1-2222_psf%s.fits' %psz)\n",
    "    d2222=pyfits.getdata(fname)\n",
    "    fname=os.path.join(Dir,'e1_g1-0000_psf%s.fits' %psz)\n",
    "    d0000=pyfits.getdata(fname)\n",
    "    fname=os.path.join(Dir,'e1_g1-2000_psf%s.fits' %psz)\n",
    "    d2000=pyfits.getdata(fname)\n",
    "    fname=os.path.join(Dir,'e1_g1-0200_psf%s.fits' %psz)\n",
    "    d0200=pyfits.getdata(fname)\n",
    "    fname=os.path.join(Dir,'e1_g1-0020_psf%s.fits' %psz)\n",
    "    d0020=pyfits.getdata(fname)\n",
    "    fname=os.path.join(Dir,'e1_g1-0002_psf%s.fits' %psz)\n",
    "    d0002=pyfits.getdata(fname)\n",
    "    mArray=estimate_mArray(d2222,d0000,d2000,d0200,d0020,d0002)\n",
    "    bAll.append(mArray)\n",
    "    ngroup=len(d0000)\n",
    "    for ig in range(200):\n",
    "        d2222c=np.delete(d2222,ig)\n",
    "        d0000c=np.delete(d0000,ig)\n",
    "        d2000c=np.delete(d2000,ig)\n",
    "        d0200c=np.delete(d0200,ig)\n",
    "        d0020c=np.delete(d0020,ig)\n",
    "        d0002c=np.delete(d0002,ig)\n",
    "        mArrayc=estimate_mArray(d2222c,d0000c,d2000c,d0200c,d0020c,d0002c)\n",
    "        err.append(mArrayc-mArray)\n",
    "        del d2222c,d0000c,d2000c,d0200c,d0020c,d0002c,mArrayc\n",
    "        gc.collect()\n",
    "    errAll.append(np.sqrt(np.sum(np.vstack(err)**2.,axis=0)))\n",
    "    del err,mArray\n",
    "    gc.collect()\n",
    "\n",
    "lsList=['o-','x--','>:']\n",
    "ishift=[-0.15,0,0.15]\n",
    "for i in range(len(lList)):\n",
    "    plt.errorbar((zbound[:-1]+zbound[1:])/2.+ishift[i],bAll[i]*100,errAll[i]*100,ls=lsList[i][1:],\\\n",
    "                 marker=lsList[i][0],label=lList[i],c='black')\n",
    "cmap = cm.tab20\n",
    "norm = Normalize(vmin=0, vmax=len(zbound)-2)\n",
    "for iz in range(len(zbound)-1):\n",
    "    cc=cmap(norm(iz))\n",
    "    plt.axvspan(zbound[iz],zbound[iz+1],alpha=0.2, color=cc)\n",
    "plt.plot(np.linspace(-0.12,5.43,20),-0.98*np.ones(20),c='red',ls=':',alpha=0.3)\n",
    "plt.legend(loc='upper right')\n",
    "plt.ylabel(r'$m [10^{-2}]$')\n",
    "plt.xlabel('redshift')\n",
    "plt.xlim(-0.12,5.43)\n",
    "plt.tight_layout()\n",
    "plt.savefig(os.path.join(Dir,'out.png'))\n",
    "np.save(os.path.join(Dir,'bAll.npy'),bAll)\n",
    "np.save(os.path.join(Dir,'errAll.npy'),errAll)\n",
    "plt.savefig(os.path.join(pltDir,'%s-%s.png' %tuple(Dir.split('/')[:-1])))\n",
    "plt.savefig(os.path.join(pltDir,'%s-%s.pdf' %tuple(Dir.split('/')[:-1])))"
   ]
  }
 ],
 "metadata": {
  "kernelspec": {
   "display_name": "Python 3",
   "language": "python",
   "name": "python3"
  },
  "language_info": {
   "codemirror_mode": {
    "name": "ipython",
    "version": 3
   },
   "file_extension": ".py",
   "mimetype": "text/x-python",
   "name": "python",
   "nbconvert_exporter": "python",
   "pygments_lexer": "ipython3",
   "version": "3.7.8"
  }
 },
 "nbformat": 4,
 "nbformat_minor": 4
}
