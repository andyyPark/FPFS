{
 "cells": [
  {
   "cell_type": "code",
   "execution_count": 1,
   "metadata": {},
   "outputs": [
    {
     "name": "stdout",
     "output_type": "stream",
     "text": [
      "Populating the interactive namespace from numpy and matplotlib\n"
     ]
    }
   ],
   "source": [
    "%pylab inline\n",
    "import gc\n",
    "import numpy as np\n",
    "import astropy.io.fits as pyfits\n",
    "\n",
    "from fpfs import fpfsBase"
   ]
  },
  {
   "cell_type": "code",
   "execution_count": 2,
   "metadata": {},
   "outputs": [
    {
     "name": "stdout",
     "output_type": "stream",
     "text": [
      "/lustre/work/xiangchong.li/work/FPFS2/sim\n"
     ]
    }
   ],
   "source": [
    "cd wrkDir/FPFS2/sim"
   ]
  },
  {
   "cell_type": "code",
   "execution_count": 3,
   "metadata": {},
   "outputs": [],
   "source": [
    "pltDir='plot/star/'\n",
    "if not os.path.isdir(pltDir):\n",
    "    os.mkdir(pltDir)"
   ]
  },
  {
   "cell_type": "code",
   "execution_count": 4,
   "metadata": {},
   "outputs": [],
   "source": [
    "noiRev=True\n",
    "C=2000\n",
    "vdir='outStar-var7em3'\n",
    "nbin=80\n",
    "bins=np.linspace(-0.2,0.2,nbin+1)\n",
    "dbin=bins[1]-bins[0]\n",
    "cbins=(bins[:-1]+bins[1:])/2.\n",
    "e1hist=np.zeros(nbin)\n",
    "REhist=np.zeros(nbin)\n",
    "nsim=1000\n",
    "\n",
    "esum=0.\n",
    "e2sum=0.\n",
    "Rsum=0.\n",
    "R2sum=0.\n",
    "for ifield in range(nsim):\n",
    "    fname1=os.path.join(vdir,'fpfs-rcut16-psf60-0/src%04d-g1-1111.fits' %(ifield))\n",
    "    moments= pyfits.getdata(fname1)\n",
    "    elli1=fpfsBase.fpfsM2E(moments,C,rev=noiRev)\n",
    "    e1hist=e1hist+np.histogram(elli1['fpfs_e1'],bins=bins)[0]\n",
    "    REhist=REhist+np.histogram(elli1['fpfs_RE'],bins=bins)[0]\n",
    "    esum+=np.sum(elli1['fpfs_e1'])\n",
    "    e2sum+=np.sum(elli1['fpfs_e1']**2.)\n",
    "    Rsum+=np.sum(elli1['fpfs_RE'])\n",
    "    R2sum+=np.sum(elli1['fpfs_RE']**2.)\n",
    "    del moments\n",
    "    gc.collect()"
   ]
  },
  {
   "cell_type": "code",
   "execution_count": null,
   "metadata": {},
   "outputs": [],
   "source": [
    "fig=plt.figure(figsize=(7,6))\n",
    "ax=fig.add_subplot(1,1,1)\n",
    "ax.plot(cbins,e1hist/nsim/1e4/dbin,c='black',ls='-',label=r'$e_1$')\n",
    "ax.plot(cbins,REhist/nsim/1e4/dbin,c='black',ls='--',label=r'$\\mathcal{R}_e^\\gamma$')\n",
    "ax.vlines(x=0.,ymin=0,ymax=12, alpha=0.3,linestyles=':')\n",
    "print(esum/nsim/1e4, np.sqrt(e2sum)/nsim/1e4)\n",
    "print(Rsum/nsim/1e4, np.sqrt(R2sum)/nsim/1e4)\n",
    "ax.set_xlabel('$e_1$, $R_e^\\gamma$ ')\n",
    "ax.set_ylabel('Number histogram')\n",
    "ax.set_xlim(-0.2,0.2)\n",
    "ax.set_ylim(0,12)\n",
    "plt.legend()\n",
    "fig.savefig(os.path.join(pltDir,'star_e_res.pdf'))"
   ]
  },
  {
   "cell_type": "code",
   "execution_count": 16,
   "metadata": {},
   "outputs": [
    {
     "name": "stdout",
     "output_type": "stream",
     "text": [
      "17.87205587775761\n"
     ]
    }
   ],
   "source": [
    "fname=os.path.join(vdir,'src-psf60-0/src%04d-g1-1111.fits' %(ifield))\n",
    "sources=pyfits.getdata(fname)\n",
    "snr=sources['base_PsfFlux_instFlux']/sources['base_PsfFlux_instFluxErr']\n",
    "print(np.average(snr))"
   ]
  },
  {
   "cell_type": "code",
   "execution_count": 18,
   "metadata": {},
   "outputs": [],
   "source": [
    "vdir='outBasic-var7em3'\n",
    "fname1=os.path.join(vdir,'fpfs-rcut16-psf60-0/src%04d-g1-1111.fits' %(ifield))\n",
    "moments= pyfits.getdata(fname1)\n",
    "elli1=fpfsBase.fpfsM2E(moments,C,rev=noiRev)"
   ]
  },
  {
   "cell_type": "code",
   "execution_count": 24,
   "metadata": {},
   "outputs": [
    {
     "name": "stdout",
     "output_type": "stream",
     "text": [
      "0.17812833732659156\n"
     ]
    },
    {
     "data": {
      "text/plain": [
       "(array([  35.,  776., 2994., 2322., 1019.,  758.,  685.,  709.,  523.,\n",
       "         179.]),\n",
       " array([-0.19716362, -0.10677948, -0.01639534,  0.0739888 ,  0.16437294,\n",
       "         0.25475708,  0.34514122,  0.43552536,  0.5259095 ,  0.61629364,\n",
       "         0.70667778]),\n",
       " <a list of 10 Patch objects>)"
      ]
     },
     "execution_count": 24,
     "metadata": {},
     "output_type": "execute_result"
    },
    {
     "data": {
      "image/png": "[encoded data removed]",
      "text/plain": [
       "<Figure size 432x288 with 1 Axes>"
      ]
     },
     "metadata": {
      "needs_background": "light"
     },
     "output_type": "display_data"
    }
   ],
   "source": [
    "print(np.average(-elli1['fpfs_RE']))\n",
    "plt.hist(-elli1['fpfs_RE'])"
   ]
  },
  {
   "cell_type": "code",
   "execution_count": null,
   "metadata": {},
   "outputs": [],
   "source": []
  }
 ],
 "metadata": {
  "kernelspec": {
   "display_name": "Python 3",
   "language": "python",
   "name": "python3"
  },
  "language_info": {
   "codemirror_mode": {
    "name": "ipython",
    "version": 3
   },
   "file_extension": ".py",
   "mimetype": "text/x-python",
   "name": "python",
   "nbconvert_exporter": "python",
   "pygments_lexer": "ipython3",
   "version": "3.7.8"
  }
 },
 "nbformat": 4,
 "nbformat_minor": 4
}
