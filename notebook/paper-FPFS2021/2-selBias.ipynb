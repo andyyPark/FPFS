{
 "cells": [
  {
   "cell_type": "code",
   "execution_count": 36,
   "metadata": {},
   "outputs": [
    {
     "name": "stdout",
     "output_type": "stream",
     "text": [
      "Populating the interactive namespace from numpy and matplotlib\n"
     ]
    }
   ],
   "source": [
    "%pylab inline\n",
    "import gc\n",
    "import galsim\n",
    "import numpy as np\n",
    "import fpfsBase\n",
    "import astropy.io.fits as pyfits\n",
    "\n",
    "import fpfsBase\n",
    "\n",
    "def measure(galImgAll,C):\n",
    "    imgList=[galImgAll[i//nx*ngrid+beg:i//nx*ngrid+end,i%nx*ngrid+beg:i%nx*ngrid+end] for i in range(ngal)]\n",
    "    a=fpTask.measure(imgList)\n",
    "    b=fpfsBase.fpfsM2E(a,C)\n",
    "    del imgList,a\n",
    "    gc.collect()\n",
    "    return b\n",
    "\n",
    "def main(elli0,slow=0.,shigh=1.1):\n",
    "    dss=0.01\n",
    "    elli=elli0.copy()\n",
    "    mask=(elli['fpfs_s0']>slow)&(elli['fpfs_s0']<shigh)\n",
    "    elli=elli[mask]\n",
    "    mask2=elli['fpfs_s0']<slow+dss\n",
    "    RS2=-np.sqrt(2.)*np.sum((1-elli[mask2]['fpfs_s0'])*elli[mask2]['fpfs_e1']**2./dss)\n",
    "    mask3=elli['fpfs_s0']>shigh-dss\n",
    "    RS3=np.sqrt(2.)*np.sum((1-elli[mask3]['fpfs_s0'])*elli[mask3]['fpfs_e1']**2./dss)\n",
    "    RS=RS2+RS3\n",
    "    g1=np.sum(elli['fpfs_e1'])/(np.sum(elli['fpfs_RE'])+RS)\n",
    "    del mask,elli,mask2,RS\n",
    "    gc.collect()\n",
    "    return g1"
   ]
  },
  {
   "cell_type": "code",
   "execution_count": 2,
   "metadata": {},
   "outputs": [
    {
     "name": "stdout",
     "output_type": "stream",
     "text": [
      "/lustre/work/xiangchong.li/work/FPFS2/sim\n"
     ]
    }
   ],
   "source": [
    "cd wrkDir/FPFS2/sim"
   ]
  },
  {
   "cell_type": "code",
   "execution_count": 10,
   "metadata": {},
   "outputs": [
    {
     "data": {
      "image/png": "[encoded data removed]",
      "text/plain": [
       "<Figure size 432x288 with 1 Axes>"
      ]
     },
     "metadata": {
      "needs_background": "light"
     },
     "output_type": "display_data"
    }
   ],
   "source": [
    "ngrid=64\n",
    "nx=100;ny=100\n",
    "ngal=nx*ny\n",
    "scale=0.168\n",
    "beta=0.75\n",
    "psfFWHM=0.60\n",
    "rcut=16\n",
    "beg=ngrid//2-rcut\n",
    "end=beg+2*rcut\n",
    "# Initialize the fpfsTask\n",
    "psfInt  =   galsim.Moffat(beta=3.5,fwhm=psfFWHM,trunc=psfFWHM*4.)\n",
    "psfInt  =   psfInt.shear(e1=0.02,e2=-0.02)\n",
    "psfImg  =   psfInt.drawImage(nx=64,ny=64,scale=scale)\n",
    "psfData =   psfImg.array[beg:end,beg:end]\n",
    "plt.imshow(psfData)\n",
    "fpTask=fpfsBase.fpfsTask(psfData,beta=beta)\n",
    "# read galaxy image\n",
    "galImgAll1=pyfits.getdata('galaxy_basic_psf%d/image-0-g1-2222.fits' %(psfFWHM*100))\n",
    "galImgAll2=pyfits.getdata('galaxy_basic_psf%d/image-0-g1-0000.fits' %(psfFWHM*100))"
   ]
  },
  {
   "cell_type": "code",
   "execution_count": 25,
   "metadata": {},
   "outputs": [
    {
     "name": "stdout",
     "output_type": "stream",
     "text": [
      "0.1978466933819921\n"
     ]
    },
    {
     "data": {
      "image/png": "[encoded data removed]",
      "text/plain": [
       "<Figure size 432x288 with 1 Axes>"
      ]
     },
     "metadata": {
      "needs_background": "light"
     },
     "output_type": "display_data"
    }
   ],
   "source": [
    "C=100\n",
    "\n",
    "elli1=measure(galImgAll1,C)\n",
    "elli2=measure(galImgAll2,C)\n",
    "\n",
    "plt.hist(elli1['fpfs_s0'],bins=50,range=(0.4,0.99))\n",
    "print(elli1['fpfs_s0'].min())"
   ]
  },
  {
   "cell_type": "code",
   "execution_count": 37,
   "metadata": {},
   "outputs": [
    {
     "name": "stdout",
     "output_type": "stream",
     "text": [
      "0.0002553474204758377\n",
      "0.0008728428202371408\n",
      "0.0018711678381304608\n",
      "0.0007157190027877736\n",
      "-9.74955109802611e-05\n"
     ]
    }
   ],
   "source": [
    "gest=[]\n",
    "slowList=np.linspace(0.4,0.8,5)\n",
    "\n",
    "for slow in slowList:\n",
    "    g1p=main(elli1,slow,1.1)\n",
    "    g1m=main(elli2,slow,1.1)\n",
    "    gest.append(g1m-g1p)\n",
    "    gc.collect\n",
    "    print(np.average(gest)/0.04-1)"
   ]
  },
  {
   "cell_type": "code",
   "execution_count": 38,
   "metadata": {},
   "outputs": [
    {
     "name": "stdout",
     "output_type": "stream",
     "text": [
      "-0.003665774392888621\n",
      "-0.0005674968680174919\n",
      "0.0008135113257581317\n",
      "0.0027760722729899268\n",
      "0.002242860762491361\n"
     ]
    }
   ],
   "source": [
    "slowList=np.linspace(0.6,1.0,5)\n",
    "for shigh in slowList:\n",
    "    g1p=main(elli1,0.,shigh)\n",
    "    g1m=main(elli2,0.,shigh)\n",
    "    gest.append(g1m-g1p)\n",
    "    gc.collect\n",
    "    print(np.average(gest)/0.04-1)"
   ]
  },
  {
   "cell_type": "code",
   "execution_count": null,
   "metadata": {},
   "outputs": [],
   "source": []
  }
 ],
 "metadata": {
  "kernelspec": {
   "display_name": "Python 3",
   "language": "python",
   "name": "python3"
  },
  "language_info": {
   "codemirror_mode": {
    "name": "ipython",
    "version": 3
   },
   "file_extension": ".py",
   "mimetype": "text/x-python",
   "name": "python",
   "nbconvert_exporter": "python",
   "pygments_lexer": "ipython3",
   "version": "3.7.8"
  }
 },
 "nbformat": 4,
 "nbformat_minor": 4
}
