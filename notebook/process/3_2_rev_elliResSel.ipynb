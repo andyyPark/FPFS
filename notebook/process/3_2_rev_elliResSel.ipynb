{
 "cells": [
  {
   "cell_type": "code",
   "execution_count": 2,
   "metadata": {},
   "outputs": [
    {
     "name": "stdout",
     "output_type": "stream",
     "text": [
      "Populating the interactive namespace from numpy and matplotlib\n"
     ]
    }
   ],
   "source": [
    "%pylab inline\n",
    "import gc\n",
    "import galsim\n",
    "import numpy as np\n",
    "import astropy.io.fits as pyfits\n",
    "\n",
    "import fpfsBase"
   ]
  },
  {
   "cell_type": "code",
   "execution_count": 3,
   "metadata": {},
   "outputs": [
    {
     "name": "stdout",
     "output_type": "stream",
     "text": [
      "/lustre/work/xiangchong.li/work/FPFS2/sim\n"
     ]
    }
   ],
   "source": [
    "cd wrkDir/FPFS2/sim"
   ]
  },
  {
   "cell_type": "markdown",
   "metadata": {},
   "source": [
    "+ corrections for ellipticity, response and flux ratio \n",
    "\n",
    "$\\frac{x}{1+x}=x-x^2$\n",
    "\n",
    "$\\frac{y}{1+x}=y(1-x)$\n",
    "\n",
    "$\\frac{a}{1+x}=a(1-x+x^2)$\n",
    "\n",
    "$\\frac{a^2}{(1+x)^2}=a^2(1-2x+3x^2)$\n",
    "\n",
    "$\\frac{(a+y)^2}{(1+x)^2}=a^2(1-2x+3x^2)+y^2+2ay(1-2x)$"
   ]
  },
  {
   "cell_type": "code",
   "execution_count": 3,
   "metadata": {},
   "outputs": [
    {
     "data": {
      "text/plain": [
       "<matplotlib.image.AxesImage at 0x2af9ff1f69d0>"
      ]
     },
     "execution_count": 3,
     "metadata": {},
     "output_type": "execute_result"
    },
    {
     "data": {
      "image/png": "[encoded data removed]",
      "text/plain": [
       "<Figure size 432x288 with 1 Axes>"
      ]
     },
     "metadata": {
      "needs_background": "light"
     },
     "output_type": "display_data"
    }
   ],
   "source": [
    "ngrid=64\n",
    "nx=100;ny=100\n",
    "ngal=nx*ny\n",
    "psfFWHM=0.60\n",
    "scale=0.168\n",
    "igal=89\n",
    "beta=0.75\n",
    "\n",
    "hsmCat=pyfits.getdata('sim20210301/galaxy_basic_psf%d/hsm-0-g1-2222.fits' %(psfFWHM*100))\n",
    "rcutArray=np.maximum(np.minimum(np.int_(hsmCat['regauss_detR']*5),15),11)\n",
    "rcut=rcutArray[igal]\n",
    "    \n",
    "beg=ngrid//2-rcut\n",
    "end=beg+2*rcut\n",
    "galImgAll=pyfits.getdata('sim20210301/galaxy_basic_psf%d/image-0-g1-2222.fits' %(psfFWHM*100))\n",
    "img=galImgAll[igal//nx*ngrid+beg:igal//nx*ngrid+end,igal%nx*ngrid+beg:igal%nx*ngrid+end]/10.\n",
    "plt.imshow(img)"
   ]
  },
  {
   "cell_type": "code",
   "execution_count": 4,
   "metadata": {},
   "outputs": [
    {
     "name": "stdout",
     "output_type": "stream",
     "text": [
      "(505.61906161, 1.57699595, 60.39571237, 25.30104185) ('fpfs_M00', 'fpfs_M22c', 'fpfs_M22s', 'fpfs_M40')\n",
      "[(0.00304663, 0.11667985, 0.66578398, 0.97681693)] ('fpfs_e1', 'fpfs_e2', 'fpfs_RE', 'fpfs_s0')\n"
     ]
    }
   ],
   "source": [
    "# Initialize the fpfsTask\n",
    "psfInt  =   galsim.Moffat(beta=3.5,fwhm=psfFWHM,trunc=psfFWHM*4.)\n",
    "psfInt  =   psfInt.shear(e1=0.02,e2=-0.02)\n",
    "psfImg  =   psfInt.drawImage(nx=64,ny=64,scale=scale)\n",
    "psfData =   psfImg.array[beg:end,beg:end]\n",
    "fpTask0=fpfsBase.fpfsTask(psfData,beta=beta)\n",
    "\n",
    "a0=fpTask0.measure(img)\n",
    "C=12\n",
    "b0=fpfsBase.fpfsM2E(a0,C)\n",
    "print(a0,a0.dtype.names)\n",
    "print(b0,b0.dtype.names)"
   ]
  },
  {
   "cell_type": "code",
   "execution_count": 5,
   "metadata": {},
   "outputs": [
    {
     "data": {
      "text/plain": [
       "(1,)"
      ]
     },
     "execution_count": 5,
     "metadata": {},
     "output_type": "execute_result"
    }
   ],
   "source": [
    "b0.shape"
   ]
  },
  {
   "cell_type": "code",
   "execution_count": null,
   "metadata": {},
   "outputs": [],
   "source": [
    "# Noise\n",
    "corPre      =   'corPre'\n",
    "corFname    =   os.path.join(corPre,'correlation.fits')\n",
    "variance    =   1e-3\n",
    "ngrid=64\n",
    "\n",
    "if False:\n",
    "    corIn=pyfits.getdata(corFname)*variance\n",
    "    corIn=np.pad(corIn,(23-32+rcut,22-32+rcut))\n",
    "\n",
    "    corNum=np.fft.fftshift(np.fft.ifft2(np.abs(np.fft.fft2(np.ones(img.shape)))**2.)).real\n",
    "    corIn=corIn*corNum\n",
    "    powIn=np.fft.fftshift(np.fft.fft2(np.fft.fftshift(corIn)).real)\n",
    "else:\n",
    "    powIn=np.load('corPre/noiPows2.npy',allow_pickle=True).item()['%s'%rcut]*variance\n",
    "powModel=np.zeros((1,img.shape[0],img.shape[1]))\n",
    "powModel[0]=powIn\n",
    "#fpTask=fpfsBase.fpfsTask(psfData,noiModel=powModel)\n",
    "fpTask=fpfsBase.fpfsTask(psfData,noiFit=powModel[0],beta=beta)"
   ]
  },
  {
   "cell_type": "code",
   "execution_count": 7,
   "metadata": {},
   "outputs": [
    {
     "name": "stdout",
     "output_type": "stream",
     "text": [
      "(10000,)\n",
      "CPU times: user 5.2 s, sys: 501 ms, total: 5.7 s\n",
      "Wall time: 5.7 s\n"
     ]
    }
   ],
   "source": [
    "%%time\n",
    "a=[]\n",
    "for j in range(0,1):\n",
    "    noiAll=pyfits.getdata('sim20210301/noise/noi%04d.fits' %j)*np.sqrt(variance*100.)\n",
    "    imgList=[noiAll[i//nx*ngrid+beg:i//nx*ngrid+end,i%nx*ngrid+beg:i%nx*ngrid+end]+img for i in range(ngal)]\n",
    "    #plt.imshow(imgList[5])\n",
    "    res=fpTask.measure(imgList)\n",
    "    a.append(res)\n",
    "    del noiAll,imgList\n",
    "    gc.collect()\n",
    "a=np.vstack(a)"
   ]
  },
  {
   "cell_type": "code",
   "execution_count": 9,
   "metadata": {},
   "outputs": [
    {
     "name": "stdout",
     "output_type": "stream",
     "text": [
      "variance of N00 from simulation and equation:\n",
      "601.6288327641689 626.4506708474111\n",
      "variance of N40 from simulation and equation:\n",
      "743.1694004113376 731.0780029821453\n",
      "variance of N22c from simulation and equation:\n",
      "356.7574288140035 337.1824728612719\n",
      "variance of N22s from simulation and equation:\n",
      "346.1897241105808 343.15672575728115\n",
      "cov of N22cN00 from simulation and equation:\n",
      "0.19689186979474016 5.677581223871431\n",
      "cov of N22cN00 from simulation and equation:\n",
      "55.71184210663341 59.356435941833396\n",
      "cov of N40N00 from simulation and equation:\n",
      "-106.58991858266927 -62.158890584129374\n"
     ]
    }
   ],
   "source": [
    "print('variance of N00 from simulation and equation:')\n",
    "print(np.var(a['fpfs_M00']),np.average(a['fpfs_N00N00']))\n",
    "print('variance of N40 from simulation and equation:')\n",
    "print(np.var(a['fpfs_M40']),np.average(a['fpfs_N40N40']))\n",
    "print('variance of N22c from simulation and equation:')\n",
    "print(np.var(a['fpfs_M22c']),np.average(a['fpfs_N22cN22c']))\n",
    "print('variance of N22s from simulation and equation:')\n",
    "print(np.var(a['fpfs_M22s']),np.average(a['fpfs_N22sN22s']))\n",
    "print('cov of N22cN00 from simulation and equation:')\n",
    "print(np.average(a['fpfs_M22c']*a['fpfs_M00'])-np.average(a['fpfs_M22c'])*np.average(a['fpfs_M00']),np.average(a['fpfs_N00N22c']))\n",
    "print('cov of N22cN00 from simulation and equation:')\n",
    "print(np.average(a['fpfs_M22s']*a['fpfs_M00'])-np.average(a['fpfs_M22s'])*np.average(a['fpfs_M00']),np.average(a['fpfs_N00N22s']))\n",
    "print('cov of N40N00 from simulation and equation:')\n",
    "print(np.average(a['fpfs_M40']*a['fpfs_M00'])-np.average(a['fpfs_M40'])*np.average(a['fpfs_M00']),np.average(a['fpfs_N00N40']))"
   ]
  },
  {
   "cell_type": "code",
   "execution_count": 10,
   "metadata": {},
   "outputs": [
    {
     "name": "stdout",
     "output_type": "stream",
     "text": [
      "CPU times: user 0 ns, sys: 1.16 ms, total: 1.16 ms\n",
      "Wall time: 725 µs\n"
     ]
    }
   ],
   "source": [
    "%%time\n",
    "b=fpfsBase.fpfsM2E(a,C)"
   ]
  },
  {
   "cell_type": "code",
   "execution_count": 11,
   "metadata": {},
   "outputs": [
    {
     "name": "stdout",
     "output_type": "stream",
     "text": [
      "Discrepancy in ellipticities and Response\n",
      "e1: 0.0003054423058776283 0.10025565340204357\n",
      "e2: -9.515566575080125e-06 -8.155278658283915e-05\n",
      "esq1: 0.0013330415140436743 143.6160701759741\n",
      "esq2: 0.0012752368475651647 0.09366970639167027\n",
      "s0: -6.094939470735472e-05\n",
      "s4: 0.0011485406870575393\n",
      "RE: 0.0009890926781219722 0.0014856059947789824\n"
     ]
    }
   ],
   "source": [
    "print('Discrepancy in ellipticities and Response')\n",
    "print('e1:',np.average(b['fpfs_e1'])-np.average(b0['fpfs_e1']),np.average(b['fpfs_e1'])/np.average(b0['fpfs_e1'])-1)\n",
    "print('e2:',np.average(b['fpfs_e2'])-np.average(b0['fpfs_e2']),np.average(b['fpfs_e2'])/np.average(b0['fpfs_e2'])-1)\n",
    "print('esq1:',np.average(b['fpfs_e1']**2.)-np.average(b0['fpfs_e1']**2.),np.average(b['fpfs_e1']**2.)/np.average(b0['fpfs_e1']**2.)-1)\n",
    "print('esq2:',np.average(b['fpfs_e2']**2.)-np.average(b0['fpfs_e2']**2.),np.average(b['fpfs_e2']**2.)/np.average(b0['fpfs_e2']**2.)-1)\n",
    "print('s0:',np.average(a['fpfs_M00']/(a['fpfs_M00']+C))-np.average(a0['fpfs_M00']/(a0['fpfs_M00']+C)))\n",
    "print('s4:',np.average(a['fpfs_M40']/(a['fpfs_M00']+C))-np.average(a0['fpfs_M40']/(a0['fpfs_M00']+C)))\n",
    "print('RE:',np.average(b['fpfs_RE'])-np.average(b0['fpfs_RE']),np.average(b['fpfs_RE'])/np.average(b0['fpfs_RE'])-1)"
   ]
  },
  {
   "cell_type": "code",
   "execution_count": 12,
   "metadata": {},
   "outputs": [
    {
     "name": "stdout",
     "output_type": "stream",
     "text": [
      "0.0003187367866051825 0.1046193149719501\n",
      "-6.0634836701420336e-05 -0.0005196684672404972\n"
     ]
    }
   ],
   "source": [
    "# e\n",
    "ratio=a['fpfs_N00N00']/(a['fpfs_M00']+C)**2.\n",
    "e1=np.average((b['fpfs_e1']+a['fpfs_N00N22c']/(a['fpfs_M00']+C)**2.)/(1+ratio))\n",
    "e2=np.average((b['fpfs_e2']+a['fpfs_N00N22s']/(a['fpfs_M00']+C)**2.)/(1+ratio))\n",
    "print(e1-np.average(b0['fpfs_e1']),e1/np.average(b0['fpfs_e1'])-1)\n",
    "print(e2-np.average(b0['fpfs_e2']),e2/np.average(b0['fpfs_e2'])-1)"
   ]
  },
  {
   "cell_type": "code",
   "execution_count": 13,
   "metadata": {},
   "outputs": [
    {
     "name": "stdout",
     "output_type": "stream",
     "text": [
      "8.28218280495194e-05 8.922861999384468\n",
      "9.157371207529214e-06 0.0006726344788159366\n"
     ]
    }
   ],
   "source": [
    "e1sq=np.average((b['fpfs_e1']**2.-a['fpfs_N22cN22c']/(a['fpfs_M00']+C)**2.+4.*b['fpfs_e1']*a['fpfs_N00N22c']/(a['fpfs_M00']+C)**2.)/(1.+3*ratio))\n",
    "e2sq=np.average((b['fpfs_e2']**2.-a['fpfs_N22sN22s']/(a['fpfs_M00']+C)**2.+4.*b['fpfs_e2']*a['fpfs_N00N22s']/(a['fpfs_M00']+C)**2.)/(1.+3*ratio))\n",
    "print(e1sq-np.average(b0['fpfs_e1']**2.),e1sq/np.average(b0['fpfs_e1']**2.)-1)\n",
    "print(e2sq-np.average(b0['fpfs_e2']**2.),e2sq/np.average(b0['fpfs_e2']**2.)-1)"
   ]
  },
  {
   "cell_type": "code",
   "execution_count": 14,
   "metadata": {},
   "outputs": [
    {
     "name": "stdout",
     "output_type": "stream",
     "text": [
      "-6.465727351745443e-06\n",
      "0.0008006943198874822\n",
      "-0.0005057092273829111\n"
     ]
    }
   ],
   "source": [
    "#s0 s4\n",
    "s0=np.average((a['fpfs_M00']/(a['fpfs_M00']+C)+a['fpfs_N00N00']/(a['fpfs_M00']+C)**2.)/(1+ratio))\n",
    "s4=np.average((a['fpfs_M40']/(a['fpfs_M00']+C)+a['fpfs_N00N40']/(a['fpfs_M00']+C)**2.)/(1+ratio))\n",
    "RE=(s0-s4+e1sq+e2sq)/np.sqrt(2.)\n",
    "print(s0-np.average(a0['fpfs_M00']/(a0['fpfs_M00']+C)))\n",
    "print(s4-np.average(a0['fpfs_M40']/(a0['fpfs_M00']+C)))\n",
    "print(RE-np.average(b0['fpfs_RE']))"
   ]
  },
  {
   "cell_type": "code",
   "execution_count": 15,
   "metadata": {},
   "outputs": [
    {
     "name": "stdout",
     "output_type": "stream",
     "text": [
      "0.0004825813937189465\n",
      "4.207505340431128e-05\n"
     ]
    }
   ],
   "source": [
    "print(e1/RE-np.average(b0['fpfs_e1'])/np.average(b0['fpfs_RE']))\n",
    "print(e2/RE-np.average(b0['fpfs_e2'])/np.average(b0['fpfs_RE']))"
   ]
  },
  {
   "cell_type": "code",
   "execution_count": 16,
   "metadata": {},
   "outputs": [
    {
     "data": {
      "text/plain": [
       "0.00045130227695113195"
      ]
     },
     "execution_count": 16,
     "metadata": {},
     "output_type": "execute_result"
    }
   ],
   "source": [
    "np.average(b['fpfs_e1'])/np.average(b['fpfs_RE'])-np.average(b0['fpfs_e1'])/np.average(b0['fpfs_RE'])"
   ]
  },
  {
   "cell_type": "code",
   "execution_count": 17,
   "metadata": {},
   "outputs": [
    {
     "data": {
      "text/plain": [
       "-0.00027423999488246364"
      ]
     },
     "execution_count": 17,
     "metadata": {},
     "output_type": "execute_result"
    }
   ],
   "source": [
    "np.average(b['fpfs_e2'])/np.average(b['fpfs_RE'])-np.average(b0['fpfs_e2'])/np.average(b0['fpfs_RE'])"
   ]
  },
  {
   "cell_type": "code",
   "execution_count": 18,
   "metadata": {},
   "outputs": [
    {
     "data": {
      "text/plain": [
       "('fpfs_M00',\n",
       " 'fpfs_M22c',\n",
       " 'fpfs_M22s',\n",
       " 'fpfs_M40',\n",
       " 'fpfs_N00N00',\n",
       " 'fpfs_N22cN22c',\n",
       " 'fpfs_N22sN22s',\n",
       " 'fpfs_N40N40',\n",
       " 'fpfs_N00N22c',\n",
       " 'fpfs_N00N22s',\n",
       " 'fpfs_N00N40')"
      ]
     },
     "execution_count": 18,
     "metadata": {},
     "output_type": "execute_result"
    }
   ],
   "source": [
    "a.dtype.names"
   ]
  },
  {
   "cell_type": "code",
   "execution_count": 20,
   "metadata": {},
   "outputs": [],
   "source": [
    "def fpfsM2E(moments,const=1.,mcalib=0.,rev=False):\n",
    "    \"\"\"\n",
    "    # Estimate FPFS ellipticities from fpfs moments\n",
    "\n",
    "    Parameters:\n",
    "    -----------\n",
    "    moments:    input FPFS moments     [float array]\n",
    "    const:      the weighting Constant [float]\n",
    "    mcalib:     multiplicative bias [float array]\n",
    "\n",
    "    Returns:\n",
    "    -------------\n",
    "    out :       an array of FPFS ellipticities,\n",
    "                FPFS ellipticity response,\n",
    "                FPFS flux ratio, and FPFS selection response\n",
    "    \"\"\"\n",
    "    #Get weight\n",
    "    weight  =   moments['fpfs_M00']+const\n",
    "    #Ellipticity\n",
    "    e1      =   moments['fpfs_M22c']/weight\n",
    "    e2      =   moments['fpfs_M22s']/weight\n",
    "    e1sq    =   e1*e1\n",
    "    e2sq    =   e2*e2\n",
    "    #FPFS flux ratio\n",
    "    s0      =   moments['fpfs_M00']/weight\n",
    "    s4      =   moments['fpfs_M40']/weight\n",
    "\n",
    "    if rev:\n",
    "        assert 'fpfs_N00N00' in moments.dtype.names\n",
    "        assert 'fpfs_N00N22c' in moments.dtype.names\n",
    "        assert 'fpfs_N00N22s' in moments.dtype.names\n",
    "        ratio=  moments['fpfs_N00N00']/weight**2.\n",
    "        e1  =   (e1+moments['fpfs_N00N22c']\\\n",
    "                /weight**2.)/(1+ratio)\n",
    "        e2  =   (e2+moments['fpfs_N00N22s']\\\n",
    "                /weight**2.)/(1+ratio)\n",
    "        e1sq=   (e1sq-moments['fpfs_N22cN22c']/weight**2.\\\n",
    "                +4.*e1*moments['fpfs_N00N22c']/weight**2.)\\\n",
    "                /(1.+3*ratio)\n",
    "        e2sq=   (e2sq-moments['fpfs_N22sN22s']/weight**2.\\\n",
    "                +4.*e2*moments['fpfs_N00N22s']/weight**2.)\\\n",
    "                /(1.+3*ratio)\n",
    "        s0  =   (s0+moments['fpfs_N00N00']\\\n",
    "                /weight**2.)/(1+ratio)\n",
    "        s4  =   (s4+moments['fpfs_N00N40']\\\n",
    "                /weight**2.)/(1+ratio)\n",
    "\n",
    "    #Response factor\n",
    "    RE      =   1./np.sqrt(2.)*(s0-s4+e1sq+e2sq)\n",
    "    types   =   [('fpfs_e1','>f8'),('fpfs_e2','>f8'),('fpfs_RE','>f8'),('fpfs_s0','>f8')]\n",
    "    ellDat  =   np.array(np.zeros(moments.size),dtype=types)\n",
    "    ellDat['fpfs_e1']=e1\n",
    "    ellDat['fpfs_e2']=e2\n",
    "    ellDat['fpfs_RE']=RE\n",
    "    ellDat['fpfs_s0']=s0\n",
    "    return ellDat\n",
    "\n",
    "b2=fpfsM2E(a,C,rev=True)"
   ]
  },
  {
   "cell_type": "code",
   "execution_count": 21,
   "metadata": {},
   "outputs": [
    {
     "name": "stdout",
     "output_type": "stream",
     "text": [
      "0.0003187367866051827\n",
      "-6.063483670141656e-05\n",
      "-0.0005057408135595503\n",
      "-6.465727351738515e-06\n",
      "0.0004825816338914846\n",
      "4.208337603256451e-05\n"
     ]
    }
   ],
   "source": [
    "print(np.average(b2['fpfs_e1']-b0['fpfs_e1']))\n",
    "print(np.average(b2['fpfs_e2']-b0['fpfs_e2']))\n",
    "print(np.average(b2['fpfs_RE']-b0['fpfs_RE']))\n",
    "print(np.average(b2['fpfs_s0']-b0['fpfs_s0']))\n",
    "print(np.average(b2['fpfs_e1'])/np.average(b2['fpfs_RE'])-np.average(b0['fpfs_e1'])/np.average(b0['fpfs_RE']))\n",
    "print(np.average(b2['fpfs_e2'])/np.average(b2['fpfs_RE'])-np.average(b0['fpfs_e2'])/np.average(b0['fpfs_RE']))"
   ]
  },
  {
   "cell_type": "code",
   "execution_count": 22,
   "metadata": {},
   "outputs": [
    {
     "name": "stdout",
     "output_type": "stream",
     "text": [
      "0.0003054423058776284\n",
      "-9.515566575081147e-06\n",
      "0.000989092678122004\n",
      "-6.094939470732178e-05\n",
      "0.00045130227695113195\n",
      "-0.00027423999488246364\n"
     ]
    }
   ],
   "source": [
    "print(np.average(b['fpfs_e1']-b0['fpfs_e1']))\n",
    "print(np.average(b['fpfs_e2']-b0['fpfs_e2']))\n",
    "print(np.average(b['fpfs_RE']-b0['fpfs_RE']))\n",
    "print(np.average(b['fpfs_s0']-b0['fpfs_s0']))\n",
    "print(np.average(b['fpfs_e1'])/np.average(b['fpfs_RE'])-np.average(b0['fpfs_e1'])/np.average(b0['fpfs_RE']))\n",
    "print(np.average(b['fpfs_e2'])/np.average(b['fpfs_RE'])-np.average(b0['fpfs_e2'])/np.average(b0['fpfs_RE']))"
   ]
  },
  {
   "cell_type": "code",
   "execution_count": null,
   "metadata": {},
   "outputs": [],
   "source": []
  }
 ],
 "metadata": {
  "kernelspec": {
   "display_name": "Python 3",
   "language": "python",
   "name": "python3"
  },
  "language_info": {
   "codemirror_mode": {
    "name": "ipython",
    "version": 3
   },
   "file_extension": ".py",
   "mimetype": "text/x-python",
   "name": "python",
   "nbconvert_exporter": "python",
   "pygments_lexer": "ipython3",
   "version": "3.7.8"
  }
 },
 "nbformat": 4,
 "nbformat_minor": 4
}
