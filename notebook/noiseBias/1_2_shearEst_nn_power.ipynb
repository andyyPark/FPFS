{
 "cells": [
  {
   "cell_type": "code",
   "execution_count": 1,
   "metadata": {},
   "outputs": [
    {
     "name": "stdout",
     "output_type": "stream",
     "text": [
      "Populating the interactive namespace from numpy and matplotlib\n"
     ]
    }
   ],
   "source": [
    "%pylab inline\n",
    "import galsim\n",
    "import numpy as np\n",
    "%load_ext autoreload\n",
    "%autoreload 2\n",
    "%reload_ext fpfsBase\n",
    "import fpfsBase\n",
    "import astropy.io.fits as pyfits"
   ]
  },
  {
   "cell_type": "code",
   "execution_count": 2,
   "metadata": {},
   "outputs": [
    {
     "name": "stdout",
     "output_type": "stream",
     "text": [
      "/home/xiangchong/work/gw_ipmu/work/FPFS2/sim\n"
     ]
    }
   ],
   "source": [
    "cd wrkDir/FPFS2/sim"
   ]
  },
  {
   "cell_type": "code",
   "execution_count": 3,
   "metadata": {},
   "outputs": [],
   "source": [
    "# PSF preparation\n",
    "ifield=1\n",
    "psfPre='psfPre'\n",
    "# Basic parameters\n",
    "ngrid       =   64\n",
    "nrot        =   4\n",
    "nx          =   nrot \n",
    "ny          =   1\n",
    "ndata       =   nx*ny\n",
    "scale       =   0.168\n",
    "bigfft      =   galsim.GSParams(maximum_fft_size=10240)\n",
    "flux_scaling=   2.587\n",
    "\n",
    "# Get the psf and nosie information \n",
    "psfFname    =   os.path.join(psfPre,'psf%04d.fits'%(ifield))\n",
    "psfImg      =   galsim.fits.read(psfFname)\n",
    "noiseHead   =   pyfits.getheader(psfFname)\n",
    "psfInt      =   galsim.InterpolatedImage(psfImg,scale=scale,flux = 1.) \n",
    "# Get the shear information\n",
    "g1          =   noiseHead['g1']\n",
    "g2          =   noiseHead['g2']\n",
    "fwhm        =   noiseHead['fwhm'] \n",
    "variance    =   noiseHead['var']\n",
    "rescale     =   noiseHead['rescale']\n",
    "ud          =   galsim.UniformDeviate(ifield*10000+1)\n",
    "np.random.seed(ifield*10000+1)"
   ]
  },
  {
   "cell_type": "code",
   "execution_count": 4,
   "metadata": {},
   "outputs": [
    {
     "name": "stderr",
     "output_type": "stream",
     "text": [
      "/home/xiangchong/work/ana/lsstsw/miniconda/envs/lsst-scipipe-0.4.1/lib/python3.8/site-packages/galsim/deprecated/__init__.py:48: GalSimDeprecationWarning: RandomWalk has been deprecated since GalSim version 2.2.  Use RandomKnots instead.\n",
      "  warnings.warn(s, GalSimDeprecationWarning)\n"
     ]
    }
   ],
   "source": [
    "# setup the galaxy image and the noise image\n",
    "gal_image   =   galsim.ImageF(nx*ngrid,ny*ngrid,scale=scale)\n",
    "gal_image.setOrigin(0,0)\n",
    "var_image   =   galsim.ImageF(nx*ngrid,ny*ngrid,scale=scale)\n",
    "var_image.setOrigin(0,0)\n",
    "data_rows   =   []\n",
    "\n",
    "# Get the  galaxy generator      \n",
    "# Load data\n",
    "catName     =   'real_galaxy_catalog_23.5.fits'\n",
    "directory   =   '/home/xiangchong/work/gw_ipmu/work/galsim_train/COSMOS_23.5_training_sample/'\n",
    "cosmos_cat  =   galsim.COSMOSCatalog(catName, dir=directory)\n",
    "# index\n",
    "index_use   =   cosmos_cat.orig_index\n",
    "# parametric catalog\n",
    "param_cat   =   cosmos_cat.param_cat[index_use]\n",
    "index       =   ifield%81400\n",
    "record      =   param_cat[index]\n",
    "# prepare the galaxies\n",
    "gal0        =   cosmos_cat.makeGalaxy(gal_type='parametric',index=index,gsparams=bigfft)\n",
    "gal0        *=  flux_scaling\n",
    "use_bulgefit=   record['use_bulgefit']\n",
    "if use_bulgefit:\n",
    "    bparams = record['bulgefit']\n",
    "    gal_q   = bparams[3]\n",
    "    gal_beta= bparams[7]*galsim.radians\n",
    "    hlr     = record['hlr'][2]\n",
    "    bulge_flux= record['flux'][1]\n",
    "    disk_flux= record['flux'][2]\n",
    "    flux    = (bulge_flux+disk_flux)*flux_scaling\n",
    "else:\n",
    "    sparams =   record['sersicfit']\n",
    "    gal_q   =   sparams[3]\n",
    "    gal_beta=   sparams[7]*galsim.radians\n",
    "    hlr     =   record['hlr'][0]\n",
    "    flux    =   record['flux'][0]*flux_scaling\n",
    "# Get the SNR\n",
    "fluxRadius  =   record['flux_radius']\n",
    "snr         =   flux/fluxRadius/np.sqrt(np.pi)/np.sqrt(variance)\n",
    "npoints     =   ud()*50+50\n",
    "gal_not0    =   galsim.RandomWalk(half_light_radius=0.4,npoints=npoints,flux=flux)\n",
    "gal_not0    =   gal_not0.shear(q=gal_q,beta=gal_beta)\n",
    "for i in range(nrot):\n",
    "    # Prepare the subimage\n",
    "    ix      =   int(i%nx)\n",
    "    iy      =   int(i/nx)\n",
    "    b       =   galsim.BoundsI(ix*ngrid, (ix+1)*ngrid-1,iy*ngrid,(iy+1)*ngrid-1)\n",
    "    sub_gal_image = gal_image[b]\n",
    "    if i%nrot==0:\n",
    "        # Get the galaxy image\n",
    "        notRat  =   0.1#ud()*0.1\n",
    "        gal     =   gal0*(1.-notRat)+gal_not0*notRat\n",
    "        # Dilate the galaxy\n",
    "        dilatS  =   1.+(ud()-0.5)*0.1\n",
    "        gal     =   gal.dilate(dilatS)\n",
    "        # Rotate the galaxy\n",
    "        ang     =   ud()*2.*np.pi * galsim.radians\n",
    "        gal     =   gal.rotate(ang)\n",
    "        final   =   gal.shear(g1=g1,g2=g2)\n",
    "    else:\n",
    "        gal     =   gal.rotate(1./nrot*np.pi*galsim.radians)\n",
    "        final   =   gal.shear(g1=g1,g2=g2)\n",
    "    # Shear the galaxy\n",
    "    final     =   galsim.Convolve([psfInt,final],gsparams=bigfft)\n",
    "    # Draw the galaxy image\n",
    "    final.drawImage(sub_gal_image,method='no_pixel')"
   ]
  },
  {
   "cell_type": "code",
   "execution_count": 5,
   "metadata": {},
   "outputs": [],
   "source": [
    "ngrid=64\n",
    "xy1d=np.fft.fftshift(np.fft.fftfreq(ngrid,d=1./ngrid))\n",
    "xfun,yfun=  np.meshgrid(xy1d,xy1d)"
   ]
  },
  {
   "cell_type": "code",
   "execution_count": 6,
   "metadata": {},
   "outputs": [
    {
     "data": {
      "text/plain": [
       "<matplotlib.image.AxesImage at 0x7faade14cd90>"
      ]
     },
     "execution_count": 6,
     "metadata": {},
     "output_type": "execute_result"
    },
    {
     "data": {
      "image/png": "[encoded data removed]",
      "text/plain": [
       "<Figure size 432x288 with 1 Axes>"
      ]
     },
     "metadata": {
      "needs_background": "light"
     },
     "output_type": "display_data"
    }
   ],
   "source": [
    "plt.imshow(gal_image.array)"
   ]
  },
  {
   "cell_type": "code",
   "execution_count": 7,
   "metadata": {},
   "outputs": [
    {
     "name": "stdout",
     "output_type": "stream",
     "text": [
      "(64, 64)\n"
     ]
    }
   ],
   "source": [
    "psfData=np.pad(psfImg.array,(11,10))\n",
    "print(psfData.shape)\n",
    "fpTask=fpfsBase.fpfsTask(psfData)"
   ]
  },
  {
   "cell_type": "code",
   "execution_count": 8,
   "metadata": {},
   "outputs": [
    {
     "data": {
      "text/plain": [
       "array([[5.00724823e-07, 5.00724823e-07, 5.00724823e-07, ...,\n",
       "        5.00724823e-07, 5.00724823e-07, 5.00724823e-07],\n",
       "       [5.00724823e-07, 5.00724823e-07, 5.00724823e-07, ...,\n",
       "        5.00724823e-07, 5.00724823e-07, 5.00724823e-07],\n",
       "       [5.00724823e-07, 5.00724823e-07, 5.00724823e-07, ...,\n",
       "        5.00724823e-07, 5.00724823e-07, 5.00724823e-07],\n",
       "       ...,\n",
       "       [5.00724823e-07, 5.00724823e-07, 5.00724823e-07, ...,\n",
       "        5.00724823e-07, 5.00724823e-07, 5.00724823e-07],\n",
       "       [5.00724823e-07, 5.00724823e-07, 5.00724823e-07, ...,\n",
       "        5.00724823e-07, 5.00724823e-07, 5.00724823e-07],\n",
       "       [5.00724823e-07, 5.00724823e-07, 5.00724823e-07, ...,\n",
       "        5.00724823e-07, 5.00724823e-07, 5.00724823e-07]])"
      ]
     },
     "execution_count": 8,
     "metadata": {},
     "output_type": "execute_result"
    }
   ],
   "source": [
    "%reload_ext imgutil\n",
    "import imgutil\n",
    "galPow=imgutil.getFouPow(psfData)\n",
    "imgutil.fitNoiPow(ngrid,galPow,np.ones((1,ngrid,ngrid)),26)"
   ]
  },
  {
   "cell_type": "code",
   "execution_count": 9,
   "metadata": {},
   "outputs": [
    {
     "name": "stdout",
     "output_type": "stream",
     "text": [
      "-0.00497867971784556 0.01321946960652948\n",
      "(68979.07962207, 8458.32212023, 16.0421978, 5507.13719398)\n",
      "(69184.12788624, -402.98884011, 7674.1472048, 5386.82887665)\n"
     ]
    }
   ],
   "source": [
    "print(g1,g2)\n",
    "mm1=fpTask.measure(gal_image.array[:,0*ngrid:1*ngrid])\n",
    "mm2=fpTask.measure(gal_image.array[:,1*ngrid:2*ngrid])\n",
    "mm3=fpTask.measure(gal_image.array[:,2*ngrid:3*ngrid])\n",
    "mm4=fpTask.measure(gal_image.array[:,3*ngrid:4*ngrid])\n",
    "print(mm1)\n",
    "print(mm2)"
   ]
  },
  {
   "cell_type": "code",
   "execution_count": 10,
   "metadata": {},
   "outputs": [
    {
     "name": "stdout",
     "output_type": "stream",
     "text": [
      "8.920710619841551e-07\n",
      "-1.3446482995619485e-06\n"
     ]
    }
   ],
   "source": [
    "ee=fpfsBase.fpfsM2E(np.vstack([mm1,mm2,mm3,mm4]),ver=1)\n",
    "print(np.sum(ee['fpfs_e1'])/np.sum(ee['fpfs_RA'])-g1)\n",
    "print(np.sum(ee['fpfs_e2'])/np.sum(ee['fpfs_RA'])-g2)"
   ]
  },
  {
   "cell_type": "markdown",
   "metadata": {},
   "source": [
    "# Speed Test"
   ]
  },
  {
   "cell_type": "code",
   "execution_count": 11,
   "metadata": {},
   "outputs": [],
   "source": [
    "def test_speed():\n",
    "    fpTask=fpfsBase.fpfsTask(psfData)\n",
    "    for i in range(10000):\n",
    "        fpTask.measure(gal_image.array[:,0*ngrid:1*ngrid])\n",
    "    return"
   ]
  },
  {
   "cell_type": "code",
   "execution_count": 108,
   "metadata": {},
   "outputs": [
    {
     "name": "stdout",
     "output_type": "stream",
     "text": [
      "CPU times: user 13.4 s, sys: 10 ms, total: 13.4 s\n",
      "Wall time: 13.4 s\n"
     ]
    }
   ],
   "source": [
    "# old code\n",
    "%time test_speed()"
   ]
  },
  {
   "cell_type": "code",
   "execution_count": 139,
   "metadata": {},
   "outputs": [
    {
     "name": "stdout",
     "output_type": "stream",
     "text": [
      "CPU times: user 4.38 s, sys: 3.38 ms, total: 4.39 s\n",
      "Wall time: 4.39 s\n"
     ]
    }
   ],
   "source": [
    "# new code\n",
    "%time test_speed()"
   ]
  },
  {
   "cell_type": "code",
   "execution_count": 12,
   "metadata": {},
   "outputs": [
    {
     "name": "stdout",
     "output_type": "stream",
     "text": [
      "CPU times: user 2.27 s, sys: 0 ns, total: 2.27 s\n",
      "Wall time: 2.28 s\n"
     ]
    }
   ],
   "source": [
    "# new code 2\n",
    "%time test_speed()"
   ]
  },
  {
   "cell_type": "code",
   "execution_count": null,
   "metadata": {},
   "outputs": [],
   "source": []
  }
 ],
 "metadata": {
  "kernelspec": {
   "display_name": "Python 3",
   "language": "python",
   "name": "python3"
  },
  "language_info": {
   "codemirror_mode": {
    "name": "ipython",
    "version": 3
   },
   "file_extension": ".py",
   "mimetype": "text/x-python",
   "name": "python",
   "nbconvert_exporter": "python",
   "pygments_lexer": "ipython3",
   "version": "3.8.6"
  }
 },
 "nbformat": 4,
 "nbformat_minor": 4
}
