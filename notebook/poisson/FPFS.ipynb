{
 "cells": [
  {
   "cell_type": "code",
   "execution_count": 1,
   "id": "ec2d446f-677d-4fe5-ace5-776239f5faa2",
   "metadata": {},
   "outputs": [
    {
     "name": "stdout",
     "output_type": "stream",
     "text": [
      "Do not have galsim or hst images for fpfs.simutil!\n",
      "Do not have lsst pipeline!\n"
     ]
    }
   ],
   "source": [
    "%matplotlib inline\n",
    "\n",
    "import gc\n",
    "import fpfs\n",
    "import galsim\n",
    "\n",
    "import numpy as np\n",
    "import matplotlib.pyplot as plt\n",
    "import numpy.lib.recfunctions as rfn"
   ]
  },
  {
   "cell_type": "code",
   "execution_count": 2,
   "id": "e93fd6d5",
   "metadata": {},
   "outputs": [],
   "source": [
    "def make_ngmix_data(im,psf_im):\n",
    "    '''\n",
    "    Returns\n",
    "    -------\n",
    "    ngmix.Observation\n",
    "    '''\n",
    "    cen     = (np.array(im.shape)-1.0)/2.0\n",
    "    psf_cen = (np.array(psf_im.shape)-1.0)/2.0\n",
    "    jacobian= ngmix.DiagonalJacobian(\n",
    "        row=cen[0] + dy/scale, col=cen[1] + dx/scale, scale=scale,\n",
    "    )\n",
    "    psf_jacobian = ngmix.DiagonalJacobian(\n",
    "        row=psf_cen[0], col=psf_cen[1], scale=scale,\n",
    "    )\n",
    "\n",
    "    # noise variance map\n",
    "    wt     =  im*0 + 1.0/noise**2\n",
    "    psf_wt =  psf_im*0 + 1.0/psf_noise**2\n",
    "\n",
    "    psf_obs=  ngmix.Observation(\n",
    "        psf_im,\n",
    "        weight=psf_wt,\n",
    "        jacobian=psf_jacobian,\n",
    "    )\n",
    "    obs    =  ngmix.Observation(\n",
    "        im,\n",
    "        weight=wt,\n",
    "        jacobian=jacobian,\n",
    "        psf=psf_obs,\n",
    "    )\n",
    "    return obs\n",
    "\n",
    "def analyze_FPFS(rng, num_tests, num_gals, noi_std, shear_true):\n",
    "    data     =   []\n",
    "    y        =   []\n",
    "    y_err    =   []\n",
    "    # initialize FPFS task with psf\n",
    "    gal,psf  =   fpfs.testing.make_data(rng=rng,noise=0.,shear=[0.,0.])\n",
    "    ngrid=psf.shape[0]\n",
    "    rcut   =  16\n",
    "    beg    =  ngrid//2-rcut\n",
    "    end    =  beg+2*rcut\n",
    "    psf    =  psf[beg:end,beg:end]\n",
    "    gc.collect()\n",
    "    for i in range(num_tests):\n",
    "        fpTask   =   fpfs.fpfsBase.fpfsTask(psf,noiFit=noi_std[i]**2.,beta=0.75)\n",
    "        #fpTask   =   fpfs.fpfsBase.fpfsTask(psf,beta=0.75)\n",
    "        results=[]\n",
    "        for j in range(num_gals):\n",
    "            gal  =   fpfs.testing.make_data(rng=rng, noise=noi_std[i], shear=shear_true)[0]\n",
    "            #gal =   make_data(rng=rng, noise=0., shear=shear_true)[0]\n",
    "            ngrid=   gal.shape[0]\n",
    "            beg  =   ngrid//2-rcut\n",
    "            end  =   beg+2*rcut\n",
    "            gal  =   gal[beg:end,beg:end]\n",
    "            modes=   fpTask.measure(gal)\n",
    "            results.append(modes)\n",
    "            del gal,modes\n",
    "            gc.collect()\n",
    "        mms =   rfn.stack_arrays(results,usemask=False)\n",
    "        ells=   fpfs.fpfsBase.fpfsM2E(mms,const=2000,noirev=False)\n",
    "        del mms,results\n",
    "        resp=np.average(ells['fpfs_RE'])\n",
    "        print(np.average(ells['fpfs_e1'])/resp)\n",
    "        print(np.std(ells['fpfs_e1'])/np.abs(resp))\n",
    "        y.append(ells['fpfs_e1']/np.abs(resp))\n",
    "        y_err.append(np.std(ells['fpfs_e1'])/np.abs(resp))\n",
    "    return (y, y_err)"
   ]
  },
  {
   "cell_type": "code",
   "execution_count": 3,
   "id": "1bbc6a71-e94c-41a1-b131-aea3184b9a48",
   "metadata": {},
   "outputs": [
    {
     "name": "stdout",
     "output_type": "stream",
     "text": [
      "0.029581414567693993\n",
      "0.0028606210695786534\n",
      "0.030454437306573386\n",
      "0.005591328714197228\n",
      "0.029896514669666287\n",
      "0.010036681746870313\n",
      "0.030586654471403685\n",
      "0.018355225430553398\n",
      "0.0327845329071154\n",
      "0.02857016884613944\n"
     ]
    }
   ],
   "source": [
    "rng = np.random.RandomState(1024)\n",
    "noise_arr = np.logspace(-4, -3, 5, base=10.0)\n",
    "num_tests = len(noise_arr)\n",
    "num_gals = 100\n",
    "shear_true = [0.03, 0.00]\n",
    "ans = analyze_FPFS(rng, num_tests, num_gals, noise_arr, shear_true)"
   ]
  }
 ],
 "metadata": {
  "kernelspec": {
   "display_name": "Python 3 (ipykernel)",
   "language": "python",
   "name": "python3"
  },
  "language_info": {
   "codemirror_mode": {
    "name": "ipython",
    "version": 3
   },
   "file_extension": ".py",
   "mimetype": "text/x-python",
   "name": "python",
   "nbconvert_exporter": "python",
   "pygments_lexer": "ipython3",
   "version": "3.9.7"
  }
 },
 "nbformat": 4,
 "nbformat_minor": 5
}
