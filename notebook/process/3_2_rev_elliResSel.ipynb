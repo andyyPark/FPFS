{
 "cells": [
  {
   "cell_type": "code",
   "execution_count": 1,
   "metadata": {},
   "outputs": [
    {
     "name": "stdout",
     "output_type": "stream",
     "text": [
      "Populating the interactive namespace from numpy and matplotlib\n"
     ]
    }
   ],
   "source": [
    "%pylab inline\n",
    "import gc\n",
    "import galsim\n",
    "import numpy as np\n",
    "import astropy.io.fits as pyfits\n",
    "\n",
    "import fpfsBase"
   ]
  },
  {
   "cell_type": "code",
   "execution_count": 2,
   "metadata": {},
   "outputs": [
    {
     "data": {
      "text/latex": [
       "$\\displaystyle 6 a^{2} b x^{2} - 3 a^{2} b x + a^{2} b - 3 a^{2} x^{2} + a^{2} x + y^{2} \\left(6 b x^{2} - 3 b x + b - 3 x^{2} + x\\right) + y \\left(12 a b x^{2} - 6 a b x + 2 a b - 6 a x^{2} + 2 a x\\right)$"
      ],
      "text/plain": [
       "6*a**2*b*x**2 - 3*a**2*b*x + a**2*b - 3*a**2*x**2 + a**2*x + y**2*(6*b*x**2 - 3*b*x + b - 3*x**2 + x) + y*(12*a*b*x**2 - 6*a*b*x + 2*a*b - 6*a*x**2 + 2*a*x)"
      ]
     },
     "execution_count": 2,
     "metadata": {},
     "output_type": "execute_result"
    }
   ],
   "source": [
    "import sympy\n",
    "from sympy.series import series\n",
    "x,y,a,b = sympy.var('x,y,a,b')\n",
    "expr=(a+y)**2*(b+x)/(1+x)**3\n",
    "expr.series(x,x0=0,n=3).removeO().series(y,x0=0,n=3).removeO()"
   ]
  },
  {
   "cell_type": "code",
   "execution_count": 3,
   "metadata": {},
   "outputs": [
    {
     "data": {
      "text/latex": [
       "$\\displaystyle 3 a^{2} x^{2} - 2 a^{2} x + a^{2} + y^{2} \\left(3 x^{2} - 2 x + 1\\right) + y \\left(6 a x^{2} - 4 a x + 2 a\\right)$"
      ],
      "text/plain": [
       "3*a**2*x**2 - 2*a**2*x + a**2 + y**2*(3*x**2 - 2*x + 1) + y*(6*a*x**2 - 4*a*x + 2*a)"
      ]
     },
     "execution_count": 3,
     "metadata": {},
     "output_type": "execute_result"
    }
   ],
   "source": [
    "x,y,a,b = sympy.var('x,y,a,b')\n",
    "expr=(a+y)**2/(1+x)**2\n",
    "expr.series(x,x0=0,n=3).removeO().series(y,x0=0,n=3).removeO()"
   ]
  },
  {
   "cell_type": "code",
   "execution_count": 4,
   "metadata": {},
   "outputs": [
    {
     "name": "stdout",
     "output_type": "stream",
     "text": [
      "/lustre/work/xiangchong.li/work/FPFS2/sim\n"
     ]
    }
   ],
   "source": [
    "cd wrkDir/FPFS2/sim"
   ]
  },
  {
   "cell_type": "markdown",
   "metadata": {},
   "source": [
    "+ corrections for ellipticity, response and flux ratio \n",
    "\n",
    "$\\frac{x}{1+x}=x-x^2$\n",
    "\n",
    "$\\frac{y}{1+x}=y(1-x)$\n",
    "\n",
    "$\\frac{a}{1+x}=a(1-x+x^2)$\n",
    "\n",
    "$\\frac{a^2}{(1+x)^2}=a^2(1-2x+3x^2)$\n",
    "\n",
    "$\\frac{(a+y)^2}{(1+x)^2}=a^2(1-2x+3x^2)+y^2+2ay(1-2x)$\n",
    "\n",
    "$\\frac{(a+y)^2(b+x)}{(1+x)^3}=(a+y)^2(b+x)(1-3x+6x^2)$\n",
    "\n",
    "$(a^2b+2aby+by^2+a^2x+2axy+xy^2)(1-3x+6x^2)$\n",
    "\n",
    "\n",
    "$a^2b(1+6x^2)+2aby(1-3x)+a^2x(1-3x)+by^2+2axy$\n",
    "\n",
    "\n",
    "$a^2b(1+6x^2)-3a^2x^2+by^2+2a(1-3b)xy$\n"
   ]
  },
  {
   "cell_type": "code",
   "execution_count": 5,
   "metadata": {},
   "outputs": [
    {
     "data": {
      "text/plain": [
       "<matplotlib.image.AxesImage at 0x2af8d79c77d0>"
      ]
     },
     "execution_count": 5,
     "metadata": {},
     "output_type": "execute_result"
    },
    {
     "data": {
      "image/png": "[encoded data removed]",
      "text/plain": [
       "<Figure size 432x288 with 1 Axes>"
      ]
     },
     "metadata": {
      "needs_background": "light"
     },
     "output_type": "display_data"
    }
   ],
   "source": [
    "ngrid=64\n",
    "nx=100;ny=100\n",
    "ngal=nx*ny\n",
    "psfFWHM=0.60\n",
    "scale=0.168\n",
    "igal=89\n",
    "beta=0.75\n",
    "\n",
    "hsmCat=pyfits.getdata('galaxy_basic_psf%d/hsm-0-g1-2222.fits' %(psfFWHM*100))\n",
    "rcutArray=np.maximum(np.minimum(np.int_(hsmCat['regauss_detR']*5),15),11)\n",
    "rcut=rcutArray[igal]\n",
    "    \n",
    "beg=ngrid//2-rcut\n",
    "end=beg+2*rcut\n",
    "galImgAll=pyfits.getdata('galaxy_basic_psf%d/image-0-g1-2222.fits' %(psfFWHM*100))\n",
    "img=galImgAll[igal//nx*ngrid+beg:igal//nx*ngrid+end,igal%nx*ngrid+beg:igal%nx*ngrid+end]/10.\n",
    "plt.imshow(img)"
   ]
  },
  {
   "cell_type": "code",
   "execution_count": 6,
   "metadata": {},
   "outputs": [
    {
     "name": "stdout",
     "output_type": "stream",
     "text": [
      "(505.61906161, 1.57699595, 60.39571237, 25.30104185) ('fpfs_M00', 'fpfs_M22c', 'fpfs_M22s', 'fpfs_M40')\n",
      "[(0.00304663, 0.11667985, 0.66578398, 0.97681693, 0.01362347, 0.00022333)] ('fpfs_e1', 'fpfs_e2', 'fpfs_RE', 'fpfs_s0', 'fpfs_eSquare', 'fpfs_RS')\n"
     ]
    }
   ],
   "source": [
    "# Initialize the fpfsTask\n",
    "psfInt  =   galsim.Moffat(beta=3.5,fwhm=psfFWHM,trunc=psfFWHM*4.)\n",
    "psfInt  =   psfInt.shear(e1=0.02,e2=-0.02)\n",
    "psfImg  =   psfInt.drawImage(nx=64,ny=64,scale=scale)\n",
    "psfData =   psfImg.array[beg:end,beg:end]\n",
    "fpTask0=fpfsBase.fpfsTask(psfData,beta=beta)\n",
    "\n",
    "a0=fpTask0.measure(img)\n",
    "C=12\n",
    "b0=fpfsBase.fpfsM2E(a0,C)\n",
    "print(a0,a0.dtype.names)\n",
    "print(b0,b0.dtype.names)"
   ]
  },
  {
   "cell_type": "code",
   "execution_count": 22,
   "metadata": {},
   "outputs": [],
   "source": [
    "# Noise\n",
    "corPre      =   'corPre'\n",
    "corFname    =   os.path.join(corPre,'correlation.fits')\n",
    "variance    =   8e-3\n",
    "ngrid=64\n",
    "\n",
    "if False:\n",
    "    corIn=pyfits.getdata(corFname)*variance\n",
    "    corIn=np.pad(corIn,(23-32+rcut,22-32+rcut))\n",
    "\n",
    "    corNum=np.fft.fftshift(np.fft.ifft2(np.abs(np.fft.fft2(np.ones(img.shape)))**2.)).real\n",
    "    corIn=corIn*corNum\n",
    "    powIn=np.fft.fftshift(np.fft.fft2(np.fft.fftshift(corIn)).real)\n",
    "else:\n",
    "    powIn=np.load('corPre/noiPows2.npy',allow_pickle=True).item()['%s'%rcut]*variance*100\n",
    "powModel=np.zeros((1,img.shape[0],img.shape[1]))\n",
    "powModel[0]=powIn\n",
    "#fpTask=fpfsBase.fpfsTask(psfData,noiModel=powModel)\n",
    "fpTask=fpfsBase.fpfsTask(psfData,noiFit=powModel[0],beta=beta)"
   ]
  },
  {
   "cell_type": "code",
   "execution_count": 23,
   "metadata": {},
   "outputs": [
    {
     "name": "stdout",
     "output_type": "stream",
     "text": [
      "CPU times: user 3min 36s, sys: 13.6 s, total: 3min 49s\n",
      "Wall time: 3min 49s\n"
     ]
    }
   ],
   "source": [
    "%%time\n",
    "\n",
    "import numpy.lib.recfunctions as rfn\n",
    "a=[]\n",
    "for j in range(0,40):\n",
    "    noiAll=pyfits.getdata('noise/noi%04d.fits' %j)*np.sqrt(variance*100.)\n",
    "    imgList=[noiAll[i//nx*ngrid+beg:i//nx*ngrid+end,i%nx*ngrid+beg:i%nx*ngrid+end]+img for i in range(ngal)]\n",
    "    #plt.imshow(imgList[5])\n",
    "    res=fpTask.measure(imgList)\n",
    "    a.append(res)\n",
    "    del noiAll,imgList\n",
    "    gc.collect()\n",
    "a =   rfn.stack_arrays(a,usemask=False)"
   ]
  },
  {
   "cell_type": "code",
   "execution_count": 24,
   "metadata": {},
   "outputs": [
    {
     "name": "stdout",
     "output_type": "stream",
     "text": [
      "variance of N00 from simulation and equation:\n",
      "5050.225702106892 5286.8136477831595\n",
      "variance of N40 from simulation and equation:\n",
      "18374.855854047288 18213.530682010078\n",
      "variance of N22c from simulation and equation:\n",
      "3683.6595921280546 3509.828368022964\n",
      "variance of N22s from simulation and equation:\n",
      "3595.500484121538 3542.2743725562777\n",
      "cov of N22cN00 from simulation and equation:\n",
      "60.16223833030108 58.98813318469724\n",
      "cov of N22cN00 from simulation and equation:\n",
      "476.18565066403244 463.95659345556925\n",
      "cov of N40N00 from simulation and equation:\n",
      "-403.56907060438243 -96.74389497240918\n"
     ]
    }
   ],
   "source": [
    "print('variance of N00 from simulation and equation:')\n",
    "print(np.var(a['fpfs_M00']),np.average(a['fpfs_N00N00']))\n",
    "print('variance of N40 from simulation and equation:')\n",
    "print(np.var(a['fpfs_M40']),np.average(a['fpfs_N40N40']))\n",
    "print('variance of N22c from simulation and equation:')\n",
    "print(np.var(a['fpfs_M22c']),np.average(a['fpfs_N22cN22c']))\n",
    "print('variance of N22s from simulation and equation:')\n",
    "print(np.var(a['fpfs_M22s']),np.average(a['fpfs_N22sN22s']))\n",
    "print('cov of N22cN00 from simulation and equation:')\n",
    "print(np.average(a['fpfs_M22c']*a['fpfs_M00'])-np.average(a['fpfs_M22c'])*np.average(a['fpfs_M00']),np.average(a['fpfs_N00N22c']))\n",
    "print('cov of N22cN00 from simulation and equation:')\n",
    "print(np.average(a['fpfs_M22s']*a['fpfs_M00'])-np.average(a['fpfs_M22s'])*np.average(a['fpfs_M00']),np.average(a['fpfs_N00N22s']))\n",
    "print('cov of N40N00 from simulation and equation:')\n",
    "print(np.average(a['fpfs_M40']*a['fpfs_M00'])-np.average(a['fpfs_M40'])*np.average(a['fpfs_M00']),np.average(a['fpfs_N00N40']))"
   ]
  },
  {
   "cell_type": "code",
   "execution_count": 25,
   "metadata": {},
   "outputs": [
    {
     "name": "stdout",
     "output_type": "stream",
     "text": [
      "CPU times: user 36.5 ms, sys: 7.92 ms, total: 44.4 ms\n",
      "Wall time: 43.6 ms\n"
     ]
    }
   ],
   "source": [
    "%%time\n",
    "b=fpfsBase.fpfsM2E(a,C)"
   ]
  },
  {
   "cell_type": "code",
   "execution_count": 26,
   "metadata": {},
   "outputs": [
    {
     "name": "stdout",
     "output_type": "stream",
     "text": [
      "Discrepancy in ellipticities and Response\n",
      "e1: 9.052564915531906e-05\n",
      "e2: 0.000625889304633101\n",
      "esq1: 0.013869219478191752\n",
      "esq2: 0.01357726403197622\n",
      "s0: -0.0004475274542624641\n",
      "s4: 0.002929547773575257\n",
      "RE: 0.01701964181558313\n",
      "e1sqS: 0.013536676471046064\n",
      "e2sqS: 0.013242542913471387\n"
     ]
    }
   ],
   "source": [
    "print('Discrepancy in ellipticities and Response')\n",
    "print('e1:',np.average(b['fpfs_e1'])-np.average(b0['fpfs_e1']))\n",
    "print('e2:',np.average(b['fpfs_e2'])-np.average(b0['fpfs_e2']))\n",
    "print('esq1:',np.average(b['fpfs_e1']**2.)-np.average(b0['fpfs_e1']**2.))\n",
    "print('esq2:',np.average(b['fpfs_e2']**2.)-np.average(b0['fpfs_e2']**2.))\n",
    "print('s0:',np.average(a['fpfs_M00']/(a['fpfs_M00']+C))-np.average(a0['fpfs_M00']/(a0['fpfs_M00']+C)))\n",
    "print('s4:',np.average(a['fpfs_M40']/(a['fpfs_M00']+C))-np.average(a0['fpfs_M40']/(a0['fpfs_M00']+C)))\n",
    "print('RE:',np.average(b['fpfs_RE'])-np.average(b0['fpfs_RE']))\n",
    "print('e1sqS:',np.average(b['fpfs_e1']**2.*(a['fpfs_M00']/(a['fpfs_M00']+C)))-np.average(b0['fpfs_e1']**2.*(a0['fpfs_M00']/(a0['fpfs_M00']+C))))\n",
    "print('e2sqS:',np.average(b['fpfs_e2']**2.*(a['fpfs_M00']/(a['fpfs_M00']+C)))-np.average(b0['fpfs_e2']**2.*(a0['fpfs_M00']/(a0['fpfs_M00']+C))))"
   ]
  },
  {
   "cell_type": "code",
   "execution_count": 27,
   "metadata": {},
   "outputs": [
    {
     "name": "stdout",
     "output_type": "stream",
     "text": [
      "0.00024537463335484646 0.08053957726842453\n",
      "4.4810054714516934e-05 0.0003840427997707785\n"
     ]
    }
   ],
   "source": [
    "# e\n",
    "ratio=a['fpfs_N00N00']/(a['fpfs_M00']+C)**2.\n",
    "e1=np.average((b['fpfs_e1']+a['fpfs_N00N22c']/(a['fpfs_M00']+C)**2.)/(1+ratio))\n",
    "e2=np.average((b['fpfs_e2']+a['fpfs_N00N22s']/(a['fpfs_M00']+C)**2.)/(1+ratio))\n",
    "print(e1-np.average(b0['fpfs_e1']),e1/np.average(b0['fpfs_e1'])-1)\n",
    "print(e2-np.average(b0['fpfs_e2']),e2/np.average(b0['fpfs_e2'])-1)"
   ]
  },
  {
   "cell_type": "code",
   "execution_count": 28,
   "metadata": {},
   "outputs": [
    {
     "name": "stdout",
     "output_type": "stream",
     "text": [
      "0.0013083040874938222 140.95096788926455\n",
      "0.0008261670784884753 0.06068427823445943\n"
     ]
    }
   ],
   "source": [
    "e1sq=np.average((b['fpfs_e1']**2.-a['fpfs_N22cN22c']/(a['fpfs_M00']+C)**2.+4.*b['fpfs_e1']*a['fpfs_N00N22c']/(a['fpfs_M00']+C)**2.)/(1.+3*ratio))\n",
    "e2sq=np.average((b['fpfs_e2']**2.-a['fpfs_N22sN22s']/(a['fpfs_M00']+C)**2.+4.*b['fpfs_e2']*a['fpfs_N00N22s']/(a['fpfs_M00']+C)**2.)/(1.+3*ratio))\n",
    "print(e1sq-np.average(b0['fpfs_e1']**2.),e1sq/np.average(b0['fpfs_e1']**2.)-1)\n",
    "print(e2sq-np.average(b0['fpfs_e2']**2.),e2sq/np.average(b0['fpfs_e2']**2.)-1)"
   ]
  },
  {
   "cell_type": "code",
   "execution_count": 29,
   "metadata": {},
   "outputs": [
    {
     "name": "stdout",
     "output_type": "stream",
     "text": [
      "2.7407407201529566e-05\n",
      "0.0017363134056021315\n",
      "0.00030092001583381656\n"
     ]
    }
   ],
   "source": [
    "#s0 s4\n",
    "s0=np.average((a['fpfs_M00']/(a['fpfs_M00']+C)+a['fpfs_N00N00']/(a['fpfs_M00']+C)**2.)/(1+ratio))\n",
    "s4=np.average((a['fpfs_M40']/(a['fpfs_M00']+C)+a['fpfs_N00N40']/(a['fpfs_M00']+C)**2.)/(1+ratio))\n",
    "RE=(s0-s4+e1sq+e2sq)/np.sqrt(2.)\n",
    "print(s0-np.average(a0['fpfs_M00']/(a0['fpfs_M00']+C)))\n",
    "print(s4-np.average(a0['fpfs_M40']/(a0['fpfs_M00']+C)))\n",
    "print(RE-np.average(b0['fpfs_RE']))"
   ]
  },
  {
   "cell_type": "code",
   "execution_count": 30,
   "metadata": {},
   "outputs": [
    {
     "name": "stdout",
     "output_type": "stream",
     "text": [
      "0.0003663160939207733\n",
      "-1.1900467364100997e-05\n"
     ]
    }
   ],
   "source": [
    "print(e1/RE-np.average(b0['fpfs_e1'])/np.average(b0['fpfs_RE']))\n",
    "print(e2/RE-np.average(b0['fpfs_e2'])/np.average(b0['fpfs_RE']))"
   ]
  },
  {
   "cell_type": "code",
   "execution_count": 31,
   "metadata": {},
   "outputs": [
    {
     "name": "stdout",
     "output_type": "stream",
     "text": [
      "1.8517178088869185e-05\n",
      "-0.0034517005758934183\n"
     ]
    }
   ],
   "source": [
    "print(np.average(b['fpfs_e1'])/np.average(b['fpfs_RE'])-np.average(b0['fpfs_e1'])/np.average(b0['fpfs_RE']))\n",
    "print(np.average(b['fpfs_e2'])/np.average(b['fpfs_RE'])-np.average(b0['fpfs_e2'])/np.average(b0['fpfs_RE']))"
   ]
  },
  {
   "cell_type": "markdown",
   "metadata": {},
   "source": [
    "$a^2b(1+6x^2)-3a^2x^2+by^2+2a(1-3b)xy$"
   ]
  },
  {
   "cell_type": "code",
   "execution_count": 32,
   "metadata": {},
   "outputs": [
    {
     "name": "stdout",
     "output_type": "stream",
     "text": [
      "0.0011704319273318782\n",
      "5.6424438635455446e-05\n"
     ]
    }
   ],
   "source": [
    "tmp=a['fpfs_M00']/(a['fpfs_M00']+C)\n",
    "e1sqS=b['fpfs_e1']**2.*tmp+3.*b['fpfs_e1']**2.*a['fpfs_N00N00']/(a['fpfs_M00']+C)**2.-tmp*a['fpfs_N22cN22c']/(a['fpfs_M00']+C)**2.\n",
    "e1sqS=np.average(e1sqS/(1+6.*ratio))\n",
    "e2sqS=b['fpfs_e2']**2.*tmp+3.*b['fpfs_e2']**2.*a['fpfs_N00N00']/(a['fpfs_M00']+C)**2.-tmp*a['fpfs_N22sN22s']/(a['fpfs_M00']+C)**2.\n",
    "e2sqS=np.average(e2sqS/(1+6.*ratio))\n",
    "print(e1sqS-np.average(b0['fpfs_e1']**2.*a0['fpfs_M00']/(a0['fpfs_M00']+C)))\n",
    "print(e2sqS-np.average(b0['fpfs_e2']**2.*a0['fpfs_M00']/(a0['fpfs_M00']+C)))"
   ]
  },
  {
   "cell_type": "code",
   "execution_count": 33,
   "metadata": {},
   "outputs": [],
   "source": [
    "b2=fpfsBase.fpfsM2E(a,C,rev=True)"
   ]
  },
  {
   "cell_type": "code",
   "execution_count": 34,
   "metadata": {},
   "outputs": [
    {
     "name": "stdout",
     "output_type": "stream",
     "text": [
      "0.00024537463335484424\n",
      "4.481005471455383e-05\n",
      "0.00029576956160980936\n",
      "2.74074072018549e-05\n",
      "0.0003663543104026126\n",
      "-1.0545426756658483e-05\n",
      "0.002127187323765911\n",
      "0.0016245225410272005\n"
     ]
    }
   ],
   "source": [
    "print(np.average(b2['fpfs_e1']-b0['fpfs_e1']))\n",
    "print(np.average(b2['fpfs_e2']-b0['fpfs_e2']))\n",
    "print(np.average(b2['fpfs_RE']-b0['fpfs_RE']))\n",
    "print(np.average(b2['fpfs_s0']-b0['fpfs_s0']))\n",
    "print(np.average(b2['fpfs_e1'])/np.average(b2['fpfs_RE'])-np.average(b0['fpfs_e1'])/np.average(b0['fpfs_RE']))\n",
    "print(np.average(b2['fpfs_e2'])/np.average(b2['fpfs_RE'])-np.average(b0['fpfs_e2'])/np.average(b0['fpfs_RE']))\n",
    "print(np.average(b2['fpfs_eSquare'])-np.average(b0['fpfs_eSquare']))\n",
    "print(np.average(b2['fpfs_RS'])-np.average(b0['fpfs_RS']))"
   ]
  },
  {
   "cell_type": "code",
   "execution_count": 35,
   "metadata": {},
   "outputs": [
    {
     "name": "stdout",
     "output_type": "stream",
     "text": [
      "9.052564915531798e-05\n",
      "0.0006258893046331005\n",
      "0.01701964181558338\n",
      "-0.00044752745426254194\n",
      "1.8517178088869185e-05\n",
      "-0.0034517005758934183\n",
      "0.027446483510167985\n",
      "0.0004718269880900021\n"
     ]
    }
   ],
   "source": [
    "print(np.average(b['fpfs_e1']-b0['fpfs_e1']))\n",
    "print(np.average(b['fpfs_e2']-b0['fpfs_e2']))\n",
    "print(np.average(b['fpfs_RE']-b0['fpfs_RE']))\n",
    "print(np.average(b['fpfs_s0']-b0['fpfs_s0']))\n",
    "print(np.average(b['fpfs_e1'])/np.average(b['fpfs_RE'])-np.average(b0['fpfs_e1'])/np.average(b0['fpfs_RE']))\n",
    "print(np.average(b['fpfs_e2'])/np.average(b['fpfs_RE'])-np.average(b0['fpfs_e2'])/np.average(b0['fpfs_RE']))\n",
    "print(np.average(b['fpfs_eSquare'])-np.average(b0['fpfs_eSquare']))\n",
    "print(np.average(b['fpfs_RS'])-np.average(b0['fpfs_RS']))"
   ]
  }
 ],
 "metadata": {
  "kernelspec": {
   "display_name": "Python 3",
   "language": "python",
   "name": "python3"
  },
  "language_info": {
   "codemirror_mode": {
    "name": "ipython",
    "version": 3
   },
   "file_extension": ".py",
   "mimetype": "text/x-python",
   "name": "python",
   "nbconvert_exporter": "python",
   "pygments_lexer": "ipython3",
   "version": "3.7.8"
  }
 },
 "nbformat": 4,
 "nbformat_minor": 4
}
