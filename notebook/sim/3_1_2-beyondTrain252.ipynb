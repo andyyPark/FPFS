{
 "cells": [
  {
   "cell_type": "code",
   "execution_count": 24,
   "metadata": {},
   "outputs": [
    {
     "name": "stdout",
     "output_type": "stream",
     "text": [
      "Populating the interactive namespace from numpy and matplotlib\n"
     ]
    }
   ],
   "source": [
    "%pylab inline\n",
    "import os\n",
    "import gc\n",
    "import scipy\n",
    "import smatch\n",
    "import healpy as hp\n",
    "import numpy as np\n",
    "import catutil as utilities\n",
    "import imgSimutil as hscimgUtil\n",
    "import astropy.table as astTable\n",
    "import numpy.lib.recfunctions as rfn"
   ]
  },
  {
   "cell_type": "markdown",
   "metadata": {},
   "source": [
    "## First, Divide into three catalogs"
   ]
  },
  {
   "cell_type": "code",
   "execution_count": 2,
   "metadata": {},
   "outputs": [],
   "source": [
    "import galsim\n",
    "import fitsio\n",
    "import healpy as hp\n",
    "\n",
    "nside=512\n",
    "hpInfo=fitsio.read(hscimgUtil.hpInfofname %nside)\n",
    "cosmo252=hscimgUtil.cosmoHSTGal('252')\n",
    "cosmo252.readHSTsample()\n",
    "cat=cosmo252.catused"
   ]
  },
  {
   "cell_type": "code",
   "execution_count": 3,
   "metadata": {},
   "outputs": [],
   "source": [
    "bds=np.linspace(17,28,15)\n",
    "bdc=(bds[1:]+bds[:-1])/2.\n",
    "nums,bds=np.histogram(cat['mag_auto'],bins=bds,density=False)"
   ]
  },
  {
   "cell_type": "code",
   "execution_count": 4,
   "metadata": {},
   "outputs": [],
   "source": [
    "fname=os.path.join(os.environ['homeWrk'],'COSMOS/cosmos_leauthaud_2007/COSMOS_ACS_catalog/acs_clean_only.fits')\n",
    "data=astTable.Table.read(fname)\n",
    "data=data[(data['MU_CLASS']==1)&(data['NEARSTAR']==1)&data['MASKED']==1]\n",
    "nums2,bds2=np.histogram(data['MAG_AUTO'],bins=bds,density=False)"
   ]
  },
  {
   "cell_type": "code",
   "execution_count": 5,
   "metadata": {},
   "outputs": [
    {
     "data": {
      "text/plain": [
       "Text(0, 0.5, 'log(N)')"
      ]
     },
     "execution_count": 5,
     "metadata": {},
     "output_type": "execute_result"
    },
    {
     "data": {
      "image/png": "[encoded data removed]",
      "text/plain": [
       "<Figure size 432x288 with 1 Axes>"
      ]
     },
     "metadata": {
      "needs_background": "light"
     },
     "output_type": "display_data"
    }
   ],
   "source": [
    "plt.plot(bdc,np.log10(nums+0.000001),label='Galsim Train')\n",
    "plt.plot(bdc,np.log10(nums2+0.00001),label='L07')\n",
    "plt.legend()\n",
    "plt.ylim(0,6)\n",
    "plt.xlabel('magnitude')\n",
    "plt.ylabel('log(N)')"
   ]
  },
  {
   "cell_type": "code",
   "execution_count": 6,
   "metadata": {},
   "outputs": [
    {
     "name": "stderr",
     "output_type": "stream",
     "text": [
      "WARNING: UnitsWarning: 'erg/cm2/s' contains multiple slashes, which is discouraged by the FITS standard [astropy.units.format.generic]\n"
     ]
    }
   ],
   "source": [
    "zname=os.path.join(os.environ['homeWrk'],'COSMOS/cosmos_laigle2015/COSMOS2015_Laigle+_v1.1.fits')\n",
    "zata=astTable.Table.read(zname)\n",
    "msk=(zata['PHOTOZ']>1e-5)&(zata['PHOTOZ']<5.4)\n",
    "zata=zata[msk]"
   ]
  },
  {
   "cell_type": "code",
   "execution_count": 7,
   "metadata": {},
   "outputs": [],
   "source": [
    "nside=4096 # healpix nside\n",
    "maxmatch=1 # return closest match\n",
    "\n",
    "# ra,dec,radius in degrees\n",
    "matches = smatch.match(cat['ra'],cat['dec'], 0.3/3600.,\n",
    "                       data['ALPHA_J2000'],data['DELTA_J2000'],\n",
    "                       nside=nside, maxmatch=maxmatch)\n",
    "data['TRAIN_IND']=-99\n",
    "data['TRAIN_IND'][matches['i2']]=cat['index'][matches['i1']]\n",
    "data['L2015_num']=-99"
   ]
  },
  {
   "cell_type": "code",
   "execution_count": 8,
   "metadata": {},
   "outputs": [],
   "source": [
    "matched=data[data['TRAIN_IND']>-1]\n",
    "unmatched=data[data['TRAIN_IND']<-1]"
   ]
  },
  {
   "cell_type": "code",
   "execution_count": 9,
   "metadata": {},
   "outputs": [],
   "source": [
    "# ra,dec,radius in degrees\n",
    "matches = smatch.match(zata['ALPHA_J2000'],zata['DELTA_J2000'], 0.5/3600.,\n",
    "                       unmatched['ALPHA_J2000'],unmatched['DELTA_J2000'],\n",
    "                       nside=nside, maxmatch=maxmatch)\n",
    "final=unmatched[matches['i2']]\n",
    "final['zphot']=zata[matches['i1']]['PHOTOZ']\n",
    "final['L2015_num']=zata[matches['i1']]['NUMBER']"
   ]
  },
  {
   "cell_type": "code",
   "execution_count": 10,
   "metadata": {},
   "outputs": [],
   "source": [
    "sel=np.ones(len(unmatched),dtype=bool)\n",
    "sel[matches['i2']]=False\n",
    "unmatchedF=unmatched[sel]"
   ]
  },
  {
   "cell_type": "code",
   "execution_count": 11,
   "metadata": {},
   "outputs": [
    {
     "name": "stdout",
     "output_type": "stream",
     "text": [
      "77.13383838383838\n",
      "113.50791245791247\n"
     ]
    }
   ],
   "source": [
    "print((len(final)+len(matched))/1.65/3600.)\n",
    "print(len(unmatchedF)/1.65/3600.)"
   ]
  },
  {
   "cell_type": "code",
   "execution_count": 12,
   "metadata": {},
   "outputs": [],
   "source": [
    "oname1=os.path.join(os.environ['homeWrk'],'COSMOS/galsim_train/COSMOS_25.2_extended','L07xG3train252.fits')\n",
    "matched.write(oname1,overwrite=True)"
   ]
  },
  {
   "cell_type": "code",
   "execution_count": 13,
   "metadata": {},
   "outputs": [],
   "source": [
    "oname3=os.path.join(os.environ['homeWrk'],'COSMOS/galsim_train/COSMOS_25.2_extended','L07_left.fits')\n",
    "unmatchedF.write(oname3,overwrite=True)"
   ]
  },
  {
   "cell_type": "markdown",
   "metadata": {},
   "source": [
    "## Then, match L07x15z to the traning sample by radius"
   ]
  },
  {
   "cell_type": "code",
   "execution_count": 14,
   "metadata": {},
   "outputs": [],
   "source": [
    "e1M=(matched['CXX_IMAGE']-matched['CYY_IMAGE'])/(matched['CXX_IMAGE']+matched['CYY_IMAGE'])\n",
    "e2M=2*matched['CXY_IMAGE']/(matched['CXX_IMAGE']+matched['CYY_IMAGE'])\n",
    "absEM=np.sqrt(e1M**2.+e2M**2.)\n",
    "xyRef=np.vstack([absEM,matched['FWHM_IMAGE']/25]).T\n",
    "\n",
    "e1=(final['CXX_IMAGE']-final['CYY_IMAGE'])/(final['CXX_IMAGE']+final['CYY_IMAGE'])\n",
    "e2=2*final['CXY_IMAGE']/(final['CXX_IMAGE']+final['CYY_IMAGE'])\n",
    "absE=np.sqrt(e1**2.+e2**2.)\n",
    "xyDat   =   np.vstack([absE,final['FWHM_IMAGE']/25]).T\n",
    "\n",
    "#plt.hist(absE,bins=50)\n",
    "#plt.hist(final['FWHM_IMAGE']/25,bins=50,range=(0,2))"
   ]
  },
  {
   "cell_type": "code",
   "execution_count": 15,
   "metadata": {},
   "outputs": [],
   "source": [
    "tree    =   scipy.spatial.cKDTree(xyRef)\n",
    "dis,inds=tree.query(xyDat,k=1)\n",
    "final['TRAIN_IND']=matched['TRAIN_IND'][inds]\n",
    "\n",
    "oname2=os.path.join(os.environ['homeWrk'],'COSMOS/galsim_train/COSMOS_25.2_extended','L07xL15z.fits')\n",
    "final.write(oname2,overwrite=True)"
   ]
  },
  {
   "cell_type": "markdown",
   "metadata": {},
   "source": [
    "## Healpix "
   ]
  },
  {
   "cell_type": "code",
   "execution_count": 2,
   "metadata": {},
   "outputs": [
    {
     "name": "stdout",
     "output_type": "stream",
     "text": [
      "/lustre/work/xiangchong.li/work/FPFS2/sim\n"
     ]
    }
   ],
   "source": [
    "cd wrkDir/FPFS2/sim"
   ]
  },
  {
   "cell_type": "code",
   "execution_count": 17,
   "metadata": {},
   "outputs": [],
   "source": [
    "from pixel3D import cartesianGrid3D\n",
    "from configparser import ConfigParser\n",
    "names=['ALPHA_J2000','DELTA_J2000','MAG_AUTO','TRAIN_IND','zphot']\n",
    "\n",
    "oname2=os.path.join(os.environ['homeWrk'],'COSMOS/galsim_train/COSMOS_25.2_extended','L07xL15z.fits')\n",
    "final=astTable.Table.read(oname2)[names]\n",
    "final.rename_column('ALPHA_J2000','ra')\n",
    "final.rename_column('DELTA_J2000','dec')\n",
    "final.rename_column('TRAIN_IND','index')\n",
    "final.rename_column('MAG_AUTO','mag_auto')"
   ]
  },
  {
   "cell_type": "code",
   "execution_count": 20,
   "metadata": {},
   "outputs": [],
   "source": [
    "nside=512\n",
    "hpInfo=pyfits.getdata(hscimgUtil.hpInfofname %nside)\n",
    "\n",
    "parser  =   ConfigParser()\n",
    "configName='config-pix-nl1.ini'\n",
    "parser.read(configName)\n",
    "gridInfo=   cartesianGrid3D(parser)\n",
    "# prepare healPIX inds\n",
    "for pixId in hscimgUtil.cosmoHSThpix:\n",
    "    # setup projected plane\n",
    "    dd =  hpInfo[hpInfo['pix']==pixId]\n",
    "    nx =  int(dd['dra']/gridInfo.delta)\n",
    "    ny =  int(dd['ddec']/gridInfo.delta)\n",
    "    gridInfo.setupNaivePlane(nx,ny,dd['raMin'],dd['decMin'])\n",
    "    mask  =   (final['ra']>dd['raMin'])\\\n",
    "            &(final['ra']<dd['raMax'])\\\n",
    "            &(final['dec']>dd['decMin'])\\\n",
    "            &(final['dec']<dd['decMax'])\n",
    "    out   =   final[mask]\n",
    "    del mask\n",
    "    x,y=  gridInfo.project_tan(out['ra'],out['dec'],pix=True)\n",
    "    xI =  np.int_(x+0.5)\n",
    "    yI =  np.int_(y+0.5)\n",
    "    np.random.seed(pixId)\n",
    "    dx =  np.random.rand(len(x))-0.5\n",
    "    dy =  np.random.rand(len(y))-0.5\n",
    "    out['xI']=xI\n",
    "    out['yI']=yI\n",
    "    out['dx']=dx\n",
    "    out['dy']=dy\n",
    "    ofname  =   os.path.join(os.environ['homeWrk'],\\\n",
    "             'COSMOS/galsim_train/COSMOS_25.2_extended/healpix-nside512','cat-%d-25.2.fits' %pixId)\n",
    "    out.write(ofname,overwrite=True)\n",
    "    del out\n",
    "    gc.collect()"
   ]
  },
  {
   "cell_type": "code",
   "execution_count": 3,
   "metadata": {},
   "outputs": [
    {
     "name": "stdout",
     "output_type": "stream",
     "text": [
      "1744591\n",
      "1744611\n"
     ]
    }
   ],
   "source": [
    "for pixId in hscimgUtil.cosmoHSThpix:\n",
    "    ofname  =   os.path.join(os.environ['homeWrk'],\\\n",
    "             'COSMOS/galsim_train/COSMOS_25.2_extended/healpix-nside512','cat-%d-25.2.fits' %pixId)\n",
    "    aa=pyfits.getdata(ofname)\n",
    "    if len(aa)<5:\n",
    "        print(pixId)\n",
    "        os.popen('rm ofname')\n",
    "    del aa\n",
    "    gc.collect()"
   ]
  },
  {
   "cell_type": "code",
   "execution_count": 3,
   "metadata": {},
   "outputs": [],
   "source": [
    "# Stack with the 252 catalog"
   ]
  },
  {
   "cell_type": "code",
   "execution_count": 54,
   "metadata": {},
   "outputs": [],
   "source": [
    "pix_scale=  0.168/3600.\n",
    "pixId=1743742\n",
    "cosmo252 =  hscimgUtil.cosmoHSTGal('252')\n",
    "cosmo252E=  hscimgUtil.cosmoHSTGal('252E')\n",
    "\n",
    "info    =   cosmo252.hpInfo[cosmo252.hpInfo['pix']==pixId]\n",
    "nx      =   int(info['dra']/pix_scale)\n",
    "ny      =   int(info['ddec']/pix_scale)\n",
    "\n",
    "cat_tmp1=   cosmo252.readHpixSample(pixId)\n",
    "cat_tmp2=   cosmo252E.readHpixSample(pixId)\n",
    "hstcat  =   rfn.stack_arrays([cat_tmp1,cat_tmp2],usemask=False,autoconvert=True)"
   ]
  },
  {
   "cell_type": "code",
   "execution_count": 55,
   "metadata": {},
   "outputs": [
    {
     "name": "stdout",
     "output_type": "stream",
     "text": [
      "4623\n",
      "4622\n",
      "3515\n",
      "127.37122719999999\n",
      "56.786765417927924\n"
     ]
    }
   ],
   "source": [
    "print(hstcat['xI'].max())\n",
    "print(hstcat['xI'].max()-hstcat['xI'].min())\n",
    "print(hstcat['yI'].max()-hstcat['yI'].min())\n",
    "area=(hstcat['yI'].max()-hstcat['yI'].min())*(hstcat['xI'].max()-hstcat['xI'].min())*(0.168/60.)**2.\n",
    "print(area)\n",
    "print(len(hstcat)/area)"
   ]
  },
  {
   "cell_type": "code",
   "execution_count": 56,
   "metadata": {},
   "outputs": [
    {
     "data": {
      "text/plain": [
       "<matplotlib.collections.PathCollection at 0x2aadf71b9a90>"
      ]
     },
     "execution_count": 56,
     "metadata": {},
     "output_type": "execute_result"
    },
    {
     "data": {
      "image/png": "[encoded data removed]",
      "text/plain": [
       "<Figure size 432x288 with 1 Axes>"
      ]
     },
     "metadata": {
      "needs_background": "light"
     },
     "output_type": "display_data"
    }
   ],
   "source": [
    "plt.scatter(cat_tmp2['xI'],cat_tmp2['yI'],s=0.01)"
   ]
  },
  {
   "cell_type": "code",
   "execution_count": 57,
   "metadata": {},
   "outputs": [
    {
     "data": {
      "text/plain": [
       "<matplotlib.collections.PathCollection at 0x2aadf72a6f50>"
      ]
     },
     "execution_count": 57,
     "metadata": {},
     "output_type": "execute_result"
    },
    {
     "data": {
      "image/png": "[encoded data removed]",
      "text/plain": [
       "<Figure size 432x288 with 1 Axes>"
      ]
     },
     "metadata": {
      "needs_background": "light"
     },
     "output_type": "display_data"
    }
   ],
   "source": [
    "plt.scatter(cat_tmp1['xI'],cat_tmp1['yI'],s=0.01)"
   ]
  },
  {
   "cell_type": "code",
   "execution_count": 20,
   "metadata": {},
   "outputs": [
    {
     "data": {
      "text/plain": [
       "(array([156., 384., 389., 147.,  88.,  72.,  64.,  20.,   8.,   6.]),\n",
       " array([0.0239    , 0.45175001, 0.87960002, 1.30745003, 1.73530005,\n",
       "        2.16315006, 2.59100007, 3.01885008, 3.44670009, 3.8745501 ,\n",
       "        4.30240011]),\n",
       " <a list of 10 Patch objects>)"
      ]
     },
     "execution_count": 20,
     "metadata": {},
     "output_type": "execute_result"
    },
    {
     "data": {
      "image/png": "[encoded data removed]",
      "text/plain": [
       "<Figure size 432x288 with 1 Axes>"
      ]
     },
     "metadata": {
      "needs_background": "light"
     },
     "output_type": "display_data"
    }
   ],
   "source": [
    "plt.hist(cat_tmp1['zphot'])"
   ]
  },
  {
   "cell_type": "code",
   "execution_count": 21,
   "metadata": {},
   "outputs": [
    {
     "data": {
      "text/plain": [
       "(array([1068., 1867., 1270., 1053.,  698.,  438.,  300.,  152.,   73.,\n",
       "          43.]),\n",
       " array([5.1000002e-03, 5.4170001e-01, 1.0783000e+00, 1.6149000e+00,\n",
       "        2.1515000e+00, 2.6880999e+00, 3.2247000e+00, 3.7612998e+00,\n",
       "        4.2978997e+00, 4.8344998e+00, 5.3710999e+00], dtype=float32),\n",
       " <a list of 10 Patch objects>)"
      ]
     },
     "execution_count": 21,
     "metadata": {},
     "output_type": "execute_result"
    },
    {
     "data": {
      "image/png": "[encoded data removed]",
      "text/plain": [
       "<Figure size 432x288 with 1 Axes>"
      ]
     },
     "metadata": {
      "needs_background": "light"
     },
     "output_type": "display_data"
    }
   ],
   "source": [
    "plt.hist(cat_tmp2['zphot'])"
   ]
  },
  {
   "cell_type": "code",
   "execution_count": null,
   "metadata": {},
   "outputs": [],
   "source": []
  }
 ],
 "metadata": {
  "kernelspec": {
   "display_name": "Python 3",
   "language": "python",
   "name": "python3"
  },
  "language_info": {
   "codemirror_mode": {
    "name": "ipython",
    "version": 3
   },
   "file_extension": ".py",
   "mimetype": "text/x-python",
   "name": "python",
   "nbconvert_exporter": "python",
   "pygments_lexer": "ipython3",
   "version": "3.7.8"
  }
 },
 "nbformat": 4,
 "nbformat_minor": 4
}
