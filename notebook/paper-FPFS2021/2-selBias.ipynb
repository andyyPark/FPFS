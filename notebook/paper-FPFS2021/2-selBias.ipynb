{
 "cells": [
  {
   "cell_type": "code",
   "execution_count": 1,
   "metadata": {},
   "outputs": [
    {
     "name": "stdout",
     "output_type": "stream",
     "text": [
      "Populating the interactive namespace from numpy and matplotlib\n"
     ]
    }
   ],
   "source": [
    "%pylab inline\n",
    "import gc\n",
    "import numpy as np\n",
    "import astropy.io.fits as pyfits\n",
    "\n",
    "import fpfsBase"
   ]
  },
  {
   "cell_type": "code",
   "execution_count": 2,
   "metadata": {},
   "outputs": [
    {
     "name": "stdout",
     "output_type": "stream",
     "text": [
      "/lustre/work/xiangchong.li/work/FPFS2/sim\n"
     ]
    }
   ],
   "source": [
    "cd wrkDir/FPFS2/sim"
   ]
  },
  {
   "cell_type": "code",
   "execution_count": 22,
   "metadata": {},
   "outputs": [
    {
     "name": "stdout",
     "output_type": "stream",
     "text": [
      "0.0316003083315497\n"
     ]
    }
   ],
   "source": [
    "vdir='outcome-var7em3'\n",
    "gest=[]\n",
    "C=100\n",
    "slow=0.5\n",
    "noiRev=True\n",
    "dss=0.01\n",
    "for ifield in range(200):\n",
    "    igroup=ifield//250\n",
    "    fname1=os.path.join(vdir,'fpfs-psfRcut-psf60-%d/src%04d-g1-2222.fits' %(igroup,ifield))\n",
    "    moments1=pyfits.getdata(fname1)\n",
    "    elli1=fpfsBase.fpfsM2E(moments1,C,rev=noiRev)\n",
    "    mask=elli1['fpfs_s0']>slow\n",
    "    elli1=elli1[mask]\n",
    "    mask2=elli1['fpfs_s0']<slow+dss\n",
    "    RS=-np.sqrt(2.)*np.sum((1-elli1[mask2]['fpfs_s0'])*elli1[mask2]['fpfs_e1']**2./dss)\n",
    "    g1p=np.sum(elli1['fpfs_e1'])/(np.sum(elli1['fpfs_RE'])+RS)\n",
    "    \n",
    "    \n",
    "    fname2=os.path.join(vdir,'fpfs-psfRcut-psf60-%d/src%04d-g1-0000.fits' %(igroup,ifield))\n",
    "    moments2=pyfits.getdata(fname2)\n",
    "    elli2=fpfsBase.fpfsM2E(moments2,C,rev=noiRev)\n",
    "    mask=elli2['fpfs_s0']>slow\n",
    "    elli2=elli2[mask]\n",
    "    mask2=elli2['fpfs_s0']<slow+dss\n",
    "    RS=-np.sqrt(2.)*np.sum((1-elli2[mask2]['fpfs_s0'])*elli2[mask2]['fpfs_e1']**2./dss)\n",
    "    g1m=np.sum(elli2['fpfs_e1'])/(np.sum(elli2['fpfs_RE'])+RS)\n",
    "    \n",
    "    gest.append(g1m-g1p)\n",
    "    del elli1,elli2,moments1,moments2,mask,mask2\n",
    "    gc.collect\n",
    "print(np.average(gest)/0.04-1)"
   ]
  },
  {
   "cell_type": "code",
   "execution_count": 25,
   "metadata": {},
   "outputs": [
    {
     "name": "stdout",
     "output_type": "stream",
     "text": [
      "-16.433294506621188\n"
     ]
    },
    {
     "data": {
      "image/png": "[encoded data removed]",
      "text/plain": [
       "<Figure size 432x288 with 1 Axes>"
      ]
     },
     "metadata": {
      "needs_background": "light"
     },
     "output_type": "display_data"
    }
   ],
   "source": [
    "moments1=pyfits.getdata(fname1)\n",
    "plt.hist(moments1['fpfs_M00'],bins=50,range=(0,1e3))\n",
    "print(moments1['fpfs_M00'].min())"
   ]
  },
  {
   "cell_type": "code",
   "execution_count": 28,
   "metadata": {},
   "outputs": [
    {
     "name": "stdout",
     "output_type": "stream",
     "text": [
      "-0.17628191368357532\n"
     ]
    },
    {
     "data": {
      "image/png": "[encoded data removed]",
      "text/plain": [
       "<Figure size 432x288 with 1 Axes>"
      ]
     },
     "metadata": {
      "needs_background": "light"
     },
     "output_type": "display_data"
    }
   ],
   "source": [
    "elli1=fpfsBase.fpfsM2E(moments1,C,rev=noiRev)\n",
    "plt.hist(elli1['fpfs_s0'],bins=50,range=(0.4,0.99))\n",
    "print(elli1['fpfs_s0'].min())"
   ]
  },
  {
   "cell_type": "code",
   "execution_count": 62,
   "metadata": {},
   "outputs": [
    {
     "name": "stdout",
     "output_type": "stream",
     "text": [
      "0.041\n"
     ]
    }
   ],
   "source": [
    "print(np.sum(elli['fpfs_s0']>0.999)/len(elli))"
   ]
  }
 ],
 "metadata": {
  "kernelspec": {
   "display_name": "Python 3",
   "language": "python",
   "name": "python3"
  },
  "language_info": {
   "codemirror_mode": {
    "name": "ipython",
    "version": 3
   },
   "file_extension": ".py",
   "mimetype": "text/x-python",
   "name": "python",
   "nbconvert_exporter": "python",
   "pygments_lexer": "ipython3",
   "version": "3.7.8"
  }
 },
 "nbformat": 4,
 "nbformat_minor": 4
}
