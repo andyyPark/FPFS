{
 "cells": [
  {
   "cell_type": "code",
   "execution_count": 1,
   "metadata": {},
   "outputs": [
    {
     "name": "stdout",
     "output_type": "stream",
     "text": [
      "Populating the interactive namespace from numpy and matplotlib\n"
     ]
    }
   ],
   "source": [
    "%pylab inline\n",
    "import gc\n",
    "import galsim\n",
    "import numpy as np\n",
    "import fpfsBase\n",
    "import astropy.io.fits as pyfits\n",
    "\n",
    "import numpy.lib.recfunctions as rfn\n",
    "\n",
    "import fpfsBase\n",
    "\n",
    "pltDir='plot/errors/'\n",
    "vdir='outcome-var7em3'\n",
    "def measure(galImgAll):\n",
    "    imgList=[galImgAll[i//nx*ngrid+beg:i//nx*ngrid+end,i%nx*ngrid+beg:i%nx*ngrid+end] for i in range(ngal)]\n",
    "    a=fpTask.measure(imgList)\n",
    "    del imgList\n",
    "    gc.collect()\n",
    "    return a"
   ]
  },
  {
   "cell_type": "code",
   "execution_count": 2,
   "metadata": {},
   "outputs": [
    {
     "name": "stdout",
     "output_type": "stream",
     "text": [
      "/lustre/work/xiangchong.li/work/FPFS2/sim\n"
     ]
    }
   ],
   "source": [
    "cd wrkDir/FPFS2/sim"
   ]
  },
  {
   "cell_type": "code",
   "execution_count": 3,
   "metadata": {},
   "outputs": [
    {
     "data": {
      "image/png": "[encoded data removed]",
      "text/plain": [
       "<Figure size 432x288 with 1 Axes>"
      ]
     },
     "metadata": {
      "needs_background": "light"
     },
     "output_type": "display_data"
    }
   ],
   "source": [
    "ngrid=64\n",
    "nx=100;ny=100\n",
    "ngal=nx*ny\n",
    "scale=0.168\n",
    "beta=0.75\n",
    "psfFWHM=0.60\n",
    "rcut=16\n",
    "beg=ngrid//2-rcut\n",
    "end=beg+2*rcut\n",
    "# Initialize the fpfsTask\n",
    "psfInt  =   galsim.Moffat(beta=3.5,fwhm=psfFWHM,trunc=psfFWHM*4.)\n",
    "psfInt  =   psfInt.shear(e1=0.02,e2=-0.02)\n",
    "psfImg  =   psfInt.drawImage(nx=64,ny=64,scale=scale)\n",
    "psfData =   psfImg.array[beg:end,beg:end]\n",
    "plt.imshow(psfData)\n",
    "fpTask=fpfsBase.fpfsTask(psfData,beta=beta)"
   ]
  },
  {
   "cell_type": "code",
   "execution_count": 4,
   "metadata": {},
   "outputs": [],
   "source": [
    "mms=[]\n",
    "mms2=[]\n",
    "mmsN=[]\n",
    "mmsN2=[]\n",
    "for igroup in range(16):\n",
    "    # read galaxy image\n",
    "    galImgAll=pyfits.getdata('galaxy_basic_psf%d/image-%d-g1-1111.fits' %(psfFWHM*100,igroup))\n",
    "    mm=measure(galImgAll)\n",
    "    mms.append(mm)\n",
    "    del mm,galImgAll\n",
    "    \n",
    "    galImgAll=pyfits.getdata('galaxy_basic_psf%d/image-%d-g1-1111.fits' %(psfFWHM*100,igroup))\n",
    "    mm=measure(galImgAll)\n",
    "    mms2.append(mm)\n",
    "    del mm,galImgAll\n",
    "    \n",
    "for igroup in range(16):\n",
    "    for ii in range(50):\n",
    "        ifield=igroup*250+ii\n",
    "        fname=os.path.join(vdir,'fpfs-rcut16-psf60-%d/src%04d-g1-1111.fits' %(igroup,ifield))\n",
    "        mm=pyfits.getdata(fname)\n",
    "        mmsN.append(mm)\n",
    "        del mm,fname\n",
    "        fname=os.path.join(vdir,'fpfs-rcut16-psf60-%d/src%04d-g1-2222.fits' %(igroup,ifield))\n",
    "        mm=pyfits.getdata(fname)\n",
    "        mmsN2.append(mm)\n",
    "        del mm,fname\n",
    "        gc.collect()\n",
    "        \n",
    "mms=rfn.stack_arrays(mms,usemask=False)\n",
    "mms2=rfn.stack_arrays(mms2,usemask=False)\n",
    "mmsN=rfn.stack_arrays(mmsN,usemask=False)\n",
    "mmsN2=rfn.stack_arrays(mmsN2,usemask=False)"
   ]
  },
  {
   "cell_type": "code",
   "execution_count": 5,
   "metadata": {},
   "outputs": [],
   "source": [
    "C=2000.\n",
    "b=fpfsBase.fpfsM2E(mms,C)\n",
    "b2=fpfsBase.fpfsM2E(mms2,C)\n",
    "bN=fpfsBase.fpfsM2E(mmsN,C,rev=True)\n",
    "bN2=fpfsBase.fpfsM2E(mmsN2,C,rev=True)\n",
    "cN=fpfsBase.fpfsM2Err(mmsN,C)\n",
    "cN2=fpfsBase.fpfsM2Err(mmsN2,C)"
   ]
  },
  {
   "cell_type": "code",
   "execution_count": 6,
   "metadata": {},
   "outputs": [
    {
     "name": "stdout",
     "output_type": "stream",
     "text": [
      "4.064246538270578e-05\n",
      "-4.545094716451054e-05\n",
      "4.780248572270686e-06\n",
      "0.0001907089041417312\n",
      "-2.043272187862747e-06\n",
      "-0.00020996658747772078\n"
     ]
    }
   ],
   "source": [
    "mask=(b['fpfs_s0']>0.1)\n",
    "maskN=(bN['fpfs_s0']>0.1)\n",
    "\n",
    "print(np.average(bN[maskN]['fpfs_e1'])-np.average(b[mask]['fpfs_e1']))\n",
    "print(np.average(bN[maskN]['fpfs_e2'])-np.average(b[mask]['fpfs_e2']))\n",
    "print(np.average(b[mask]['fpfs_e1'])/np.average(b[mask]['fpfs_RE']))\n",
    "print(np.average(bN[maskN]['fpfs_e1'])/np.average(bN[maskN]['fpfs_RE']))\n",
    "print(np.average(b[mask]['fpfs_e2'])/np.average(b[mask]['fpfs_RE']))\n",
    "print(np.average(bN[maskN]['fpfs_e2'])/np.average(bN[maskN]['fpfs_RE']))"
   ]
  },
  {
   "cell_type": "code",
   "execution_count": 7,
   "metadata": {},
   "outputs": [
    {
     "name": "stdout",
     "output_type": "stream",
     "text": [
      "0.000724865874570801\n",
      "0.0007041878148790826\n",
      "9.063410186238716e-05\n",
      "3.3866499341315387e-06\n",
      "-3.033430320198431e-06\n"
     ]
    }
   ],
   "source": [
    "print(np.average(cN['fpfs_e1Err']))\n",
    "print(np.average(cN['fpfs_e2Err']))\n",
    "print(np.average(cN['fpfs_s0Err']))\n",
    "print(np.average(cN['fpfs_e1s0Cov']))\n",
    "print(np.average(cN['fpfs_e2s0Cov']))"
   ]
  },
  {
   "cell_type": "code",
   "execution_count": 8,
   "metadata": {},
   "outputs": [
    {
     "name": "stdout",
     "output_type": "stream",
     "text": [
      "0.013212824380568294\n"
     ]
    },
    {
     "data": {
      "image/png": "[encoded data removed]",
      "text/plain": [
       "<Figure size 432x288 with 1 Axes>"
      ]
     },
     "metadata": {
      "needs_background": "light"
     },
     "output_type": "display_data"
    }
   ],
   "source": [
    "hist,ebins,sbins=np.histogram2d(bN['fpfs_e1'],bN['fpfs_RE'],range=((-0.6,0.6),(-0.,0.5)),bins=(5000,5000))\n",
    "ePix=ebins[1]-ebins[0]\n",
    "sPix=sbins[1]-sbins[0]\n",
    "sCenter,eCenter=np.meshgrid((sbins[:-1]+sbins[1:])/2.,(ebins[:-1]+ebins[1:])/2.)\n",
    "plt.imshow(hist,origin='lower')\n",
    "sigma_x = np.sqrt(np.average(cN['fpfs_s0Err']))/sPix\n",
    "sigma_y = np.sqrt(np.average(cN['fpfs_e1Err']))/ePix\n",
    "rho=np.average(cN['fpfs_e1s0Cov'])/sigma_x/sigma_y/sPix/ePix\n",
    "print(rho)"
   ]
  },
  {
   "cell_type": "code",
   "execution_count": 9,
   "metadata": {},
   "outputs": [
    {
     "data": {
      "text/plain": [
       "3.3866499341315387e-06"
      ]
     },
     "execution_count": 9,
     "metadata": {},
     "output_type": "execute_result"
    }
   ],
   "source": [
    "np.average(cN['fpfs_e1s0Cov'])"
   ]
  },
  {
   "cell_type": "code",
   "execution_count": 10,
   "metadata": {},
   "outputs": [
    {
     "data": {
      "image/png": "[encoded data removed]",
      "text/plain": [
       "<Figure size 432x288 with 1 Axes>"
      ]
     },
     "metadata": {
      "needs_background": "light"
     },
     "output_type": "display_data"
    }
   ],
   "source": [
    "size = 200\n",
    "nx=len(sbins)-1\n",
    "ny=len(ebins)-1\n",
    "x=np.array([np.fft.fftfreq(nx)*nx])\n",
    "y=np.fft.fftfreq(ny)*ny\n",
    "y=np.transpose(np.array([y]))\n",
    "psf  = 1./(2*np.pi*sigma_x*sigma_y)*np.exp(-(x**2/(2*sigma_x**2)-2.*rho*x*y/sigma_x/sigma_y/2. + y**2/(2*sigma_y**2)))\n",
    "test=np.zeros(psf.shape)\n",
    "test[150,150]=1.\n",
    "test2=np.real(np.fft.ifft2(np.fft.fft2(test)*np.fft.fft2(psf)))\n",
    "plt.imshow(test2[120:180,120:180],origin='lower')\n",
    "hist2=np.real(np.fft.ifft2(np.fft.fft2(hist)*np.fft.fft2(psf)))"
   ]
  },
  {
   "cell_type": "code",
   "execution_count": 14,
   "metadata": {},
   "outputs": [
    {
     "name": "stdout",
     "output_type": "stream",
     "text": [
      "1.99801972612146e-05\n"
     ]
    }
   ],
   "source": [
    "msk=sCenter>0.1\n",
    "#print((np.sum(eCenter[msk]*hist2[msk])/np.sum(hist2[msk])))\n",
    "#print((np.sum(eCenter[msk]*hist[msk])/np.sum(hist[msk])))\n",
    "print((np.sum(eCenter[msk]*hist2[msk])/np.sum(hist2[msk])-np.sum(eCenter[msk]*hist[msk])/np.sum(hist[msk])))"
   ]
  },
  {
   "cell_type": "code",
   "execution_count": 15,
   "metadata": {},
   "outputs": [
    {
     "data": {
      "text/plain": [
       "4.168832528797333e-05"
      ]
     },
     "execution_count": 15,
     "metadata": {},
     "output_type": "execute_result"
    }
   ],
   "source": [
    "mskA=bN['fpfs_s0']>0.1\n",
    "np.average(bN['fpfs_e1'][mskA])"
   ]
  },
  {
   "cell_type": "code",
   "execution_count": 13,
   "metadata": {},
   "outputs": [
    {
     "data": {
      "text/plain": [
       "1.045859905267544e-06"
      ]
     },
     "execution_count": 13,
     "metadata": {},
     "output_type": "execute_result"
    }
   ],
   "source": [
    "mskA=b['fpfs_s0']>0.10\n",
    "np.average(b['fpfs_e1'][mskA])"
   ]
  }
 ],
 "metadata": {
  "kernelspec": {
   "display_name": "Python 3",
   "language": "python",
   "name": "python3"
  },
  "language_info": {
   "codemirror_mode": {
    "name": "ipython",
    "version": 3
   },
   "file_extension": ".py",
   "mimetype": "text/x-python",
   "name": "python",
   "nbconvert_exporter": "python",
   "pygments_lexer": "ipython3",
   "version": "3.7.8"
  }
 },
 "nbformat": 4,
 "nbformat_minor": 4
}
