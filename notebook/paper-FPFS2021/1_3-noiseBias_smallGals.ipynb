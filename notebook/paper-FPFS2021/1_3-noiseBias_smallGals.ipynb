{
 "cells": [
  {
   "cell_type": "code",
   "execution_count": 51,
   "metadata": {},
   "outputs": [
    {
     "name": "stdout",
     "output_type": "stream",
     "text": [
      "Populating the interactive namespace from numpy and matplotlib\n"
     ]
    }
   ],
   "source": [
    "%pylab inline\n",
    "import gc\n",
    "import numpy as np\n",
    "import fitsio\n",
    "import astropy.io.fits as pyfits\n",
    "import numpy.lib.recfunctions as rfn\n",
    "import astropy.table as astTable\n",
    "\n",
    "import fpfs\n",
    "from fpfs import fpfsBase"
   ]
  },
  {
   "cell_type": "code",
   "execution_count": 2,
   "metadata": {},
   "outputs": [
    {
     "name": "stdout",
     "output_type": "stream",
     "text": [
      "/lustre/work/xiangchong.li/work/FPFS2/sim\n"
     ]
    }
   ],
   "source": [
    "cd wrkDir/FPFS2/sim"
   ]
  },
  {
   "cell_type": "code",
   "execution_count": 3,
   "metadata": {},
   "outputs": [],
   "source": [
    "pltDir='plot/smallcat/'\n",
    "if not os.path.isdir(pltDir):\n",
    "    os.mkdir(pltDir)"
   ]
  },
  {
   "cell_type": "code",
   "execution_count": 65,
   "metadata": {},
   "outputs": [],
   "source": [
    "ngrid       =  64\n",
    "rcut         =   16\n",
    "beg         =   ngrid//2-rcut\n",
    "end         =   beg+2*rcut\n",
    "img=pyfits.getdata('small0_psf60/image-0-g1-0000.fits')[beg:end,beg:end]\n",
    "noiAll    =   pyfits.getdata('noise/noi0000.fits')\n",
    "noiList   =   np.stack([noiAll[i*ngrid+beg:i*ngrid+end,j*ngrid+beg:j*ngrid+end] for i in range(100) for j in range(100)])"
   ]
  },
  {
   "cell_type": "code",
   "execution_count": 57,
   "metadata": {},
   "outputs": [
    {
     "data": {
      "text/plain": [
       "<matplotlib.image.AxesImage at 0x2ae5212e3f90>"
      ]
     },
     "execution_count": 57,
     "metadata": {},
     "output_type": "execute_result"
    },
    {
     "data": {
      "image/png": "[encoded data removed]",
      "text/plain": [
       "<Figure size 432x288 with 1 Axes>"
      ]
     },
     "metadata": {
      "needs_background": "light"
     },
     "output_type": "display_data"
    }
   ],
   "source": [
    "plt.imshow(img)"
   ]
  },
  {
   "cell_type": "code",
   "execution_count": 59,
   "metadata": {},
   "outputs": [
    {
     "data": {
      "image/png": "[encoded data removed]",
      "text/plain": [
       "<Figure size 432x288 with 1 Axes>"
      ]
     },
     "metadata": {
      "needs_background": "light"
     },
     "output_type": "display_data"
    }
   ],
   "source": [
    "power=fpfs.imgutil.getFouPow(img)\n",
    "plt.imshow(power)\n",
    "pyfits.writeto('a.fits',power)"
   ]
  },
  {
   "cell_type": "code",
   "execution_count": 8,
   "metadata": {},
   "outputs": [
    {
     "name": "stdout",
     "output_type": "stream",
     "text": [
      "-0.08234059337404942\n",
      "4.033060196408718e-05\n"
     ]
    }
   ],
   "source": [
    "vdir='outSmall0-var7em3'\n",
    "ngroup=16\n",
    "igroup=0\n",
    "C=2000.\n",
    "noiRev=False\n",
    "g1p=0.;g1m=0.\n",
    "downp=0.;downm=0.\n",
    "for ifield in range(1000):\n",
    "    fname1=os.path.join(vdir,'psf60/fpfs-cut16-%04d-g1-2222.fits' %(ifield))\n",
    "    moments1=pyfits.getdata(fname1)\n",
    "    elli1=fpfsBase.fpfsM2E(moments1,C,rev=noiRev)\n",
    "    g1p+=np.sum(elli1['fpfs_e1'])\n",
    "    downp+=np.sum(elli1['fpfs_RE'])\n",
    "\n",
    "    fname2=os.path.join(vdir,'psf60/fpfs-cut16-%04d-g1-0000.fits' %(ifield))\n",
    "    moments2=pyfits.getdata(fname2)\n",
    "    elli2=fpfsBase.fpfsM2E(moments2,C,rev=noiRev)\n",
    "    g1m+=np.sum(elli2['fpfs_e1'])\n",
    "    downm+=np.sum(elli2['fpfs_RE'])\n",
    "    del elli1,elli2,moments1,moments2\n",
    "    gc.collect()\n",
    "print((g1p-g1m)/(downm+downp)*2./0.04-1)\n",
    "print((g1p+g1m)/(downm+downp))"
   ]
  },
  {
   "cell_type": "code",
   "execution_count": 26,
   "metadata": {},
   "outputs": [
    {
     "name": "stdout",
     "output_type": "stream",
     "text": [
      "8.90564529449911e-05\n",
      "-0.0001807748027638628\n",
      "-0.06547835402345302\n",
      "0.0013215183654919584\n"
     ]
    }
   ],
   "source": [
    "vdir='outSmall2-var7em3'\n",
    "ngroup=16\n",
    "igroup=0\n",
    "C=2000.\n",
    "noiRev=True\n",
    "g1p=0.;g1m=0.\n",
    "downp=0.;downm=0.\n",
    "for ifield in range(1000):\n",
    "    fname1=os.path.join(vdir,'psf60/fpfs-cut16-%04d-g1-2222.fits' %(ifield))\n",
    "    moments1=pyfits.getdata(fname1)\n",
    "    elli1=fpfsBase.fpfsM2E(moments1,C,rev=noiRev)\n",
    "    g1p+=np.sum(elli1['fpfs_e1'])\n",
    "    downp+=np.sum(elli1['fpfs_RE'])\n",
    "\n",
    "    fname2=os.path.join(vdir,'psf60/fpfs-cut16-%04d-g1-0000.fits' %(ifield))\n",
    "    moments2=pyfits.getdata(fname2)\n",
    "    elli2=fpfsBase.fpfsM2E(moments2,C,rev=noiRev)\n",
    "    g1m+=np.sum(elli2['fpfs_e1'])\n",
    "    downm+=np.sum(elli2['fpfs_RE'])\n",
    "    del elli1,elli2,moments1,moments2\n",
    "    gc.collect()\n",
    "print((g1p-g1m)/(downm+downp)*2./0.04-1)\n",
    "print((g1p+g1m)/(downm+downp))\n",
    "print(downm/1e7)\n",
    "print(g1m/1e7)"
   ]
  },
  {
   "cell_type": "code",
   "execution_count": 18,
   "metadata": {},
   "outputs": [],
   "source": [
    "vdir='outSmall0-var7em3'\n",
    "ngroup=16\n",
    "igroup=0\n",
    "C=2000.\n",
    "noiRev=False\n",
    "del allStack\n",
    "allStack=[]\n",
    "\n",
    "for ifield in range(100):\n",
    "    fname1=os.path.join(vdir,'psf60/fpfs-cut16-%04d-g1-2222.fits' %(ifield))\n",
    "    moments1=pyfits.getdata(fname1)\n",
    "    weight=moments1['fpfs_M00']+C\n",
    "    ratio=  moments1['fpfs_N00N00']/weight**2.\n",
    "    cc1=np.average(moments1['fpfs_N00N22c']/weight**2./(1+ratio))\n",
    "\n",
    "    fname2=os.path.join(vdir,'psf60/fpfs-cut16-%04d-g1-0000.fits' %(ifield))\n",
    "    moments2=pyfits.getdata(fname2)\n",
    "    weight=moments2['fpfs_M00']+C\n",
    "    ratio=  moments2['fpfs_N00N00']/weight**2.\n",
    "    cc2=np.average(moments2['fpfs_N00N22c']/weight**2./(1+ratio))\n",
    "    allStack.append((cc1+cc2)/2.)\n",
    "    del moments1,moments2,ratio,weight,cc1,cc2\n",
    "    gc.collect()"
   ]
  },
  {
   "cell_type": "code",
   "execution_count": 44,
   "metadata": {},
   "outputs": [],
   "source": [
    "fname1=os.path.join(vdir,'psf60/fpfs-cut16-%04d-g1-2222.fits' %(ifield))\n",
    "moments1=pyfits.getdata(fname1)\n",
    "weight=moments1['fpfs_M00']+C\n",
    "ratio=  moments1['fpfs_N00N00']/weight**2.\n",
    "cc1=moments1['fpfs_N00N22c']/weight**2./(1+ratio)\n",
    "ee1=moments1['fpfs_M22c']/weight"
   ]
  },
  {
   "cell_type": "code",
   "execution_count": 49,
   "metadata": {},
   "outputs": [
    {
     "data": {
      "image/png": "[encoded data removed]",
      "text/plain": [
       "<Figure size 432x288 with 1 Axes>"
      ]
     },
     "metadata": {
      "needs_background": "light"
     },
     "output_type": "display_data"
    }
   ],
   "source": [
    "_=plt.hist(cc1*1e5,bins=100,alpha=0.2)"
   ]
  },
  {
   "cell_type": "code",
   "execution_count": 50,
   "metadata": {},
   "outputs": [
    {
     "data": {
      "image/png": "[encoded data removed]",
      "text/plain": [
       "<Figure size 432x288 with 1 Axes>"
      ]
     },
     "metadata": {
      "needs_background": "light"
     },
     "output_type": "display_data"
    }
   ],
   "source": [
    "_=plt.hist(ee1*1e5,bins=100,alpha=0.4)\n"
   ]
  },
  {
   "cell_type": "code",
   "execution_count": 22,
   "metadata": {},
   "outputs": [
    {
     "name": "stdout",
     "output_type": "stream",
     "text": [
      "1.2673668635700298e-05\n"
     ]
    },
    {
     "data": {
      "image/png": "[encoded data removed]",
      "text/plain": [
       "<Figure size 432x288 with 1 Axes>"
      ]
     },
     "metadata": {
      "needs_background": "light"
     },
     "output_type": "display_data"
    }
   ],
   "source": [
    "plt.hist(np.array(allStack)*1e5)\n",
    "print(np.average(allStack))"
   ]
  }
 ],
 "metadata": {
  "kernelspec": {
   "display_name": "Python 3",
   "language": "python",
   "name": "python3"
  },
  "language_info": {
   "codemirror_mode": {
    "name": "ipython",
    "version": 3
   },
   "file_extension": ".py",
   "mimetype": "text/x-python",
   "name": "python",
   "nbconvert_exporter": "python",
   "pygments_lexer": "ipython3",
   "version": "3.7.8"
  }
 },
 "nbformat": 4,
 "nbformat_minor": 4
}
