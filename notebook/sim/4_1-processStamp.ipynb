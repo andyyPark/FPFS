{
 "cells": [
  {
   "cell_type": "code",
   "execution_count": 2,
   "metadata": {},
   "outputs": [
    {
     "name": "stdout",
     "output_type": "stream",
     "text": [
      "Populating the interactive namespace from numpy and matplotlib\n"
     ]
    }
   ],
   "source": [
    "%pylab inline\n",
    "import gc\n",
    "import galsim\n",
    "import numpy as np\n",
    "import fpfsBase\n",
    "import astropy.io.fits as pyfits"
   ]
  },
  {
   "cell_type": "code",
   "execution_count": 3,
   "metadata": {},
   "outputs": [
    {
     "name": "stdout",
     "output_type": "stream",
     "text": [
      "/lustre/work/xiangchong.li/work/FPFS2/sim\n"
     ]
    }
   ],
   "source": [
    "cd wrkDir/FPFS2/sim"
   ]
  },
  {
   "cell_type": "code",
   "execution_count": 67,
   "metadata": {},
   "outputs": [],
   "source": [
    "ngrid       =   64\n",
    "nx          =   100\n",
    "ny          =   100\n",
    "ndata       =   nx*ny\n",
    "scale       =   0.168\n",
    "gal_image=galsim.fits.read('sim20210301/galaxy_basic_psf60/image-0-g1-0000.fits')"
   ]
  },
  {
   "cell_type": "code",
   "execution_count": 81,
   "metadata": {},
   "outputs": [
    {
     "name": "stdout",
     "output_type": "stream",
     "text": [
      "PSF FWHM: 0.678 arcsec\n"
     ]
    }
   ],
   "source": [
    "psfFWHM =   0.6\n",
    "psfInt  =   galsim.Moffat(beta=3.5,fwhm=psfFWHM,trunc=psfFWHM*4.)\n",
    "psfInt  =   psfInt.shear(e1=0.02,e2=-0.02)\n",
    "psfImg  =   psfInt.drawImage(nx=45,ny=45,scale=scale)\n",
    "print('PSF FWHM: %.3f arcsec' % (psfImg.FindAdaptiveMom().moments_sigma*scale*2.355))"
   ]
  },
  {
   "cell_type": "code",
   "execution_count": 101,
   "metadata": {},
   "outputs": [
    {
     "name": "stdout",
     "output_type": "stream",
     "text": [
      "galaxy radius: 1.92\n",
      "galaxy radius: 1.88\n",
      "galaxy radius: 2.01\n",
      "galaxy radius: 1.96\n",
      "galaxy radius: 2.79\n",
      "galaxy radius: 2.67\n",
      "galaxy radius: 2.68\n",
      "galaxy radius: 2.58\n",
      "galaxy radius: 1.92\n",
      "galaxy radius: 1.88\n",
      "galaxy radius: 2.10\n",
      "galaxy radius: 2.04\n",
      "galaxy radius: 1.97\n",
      "galaxy radius: 1.92\n",
      "galaxy radius: 3.25\n",
      "galaxy radius: 3.15\n",
      "galaxy radius: 1.96\n",
      "galaxy radius: 1.92\n",
      "galaxy radius: 2.88\n",
      "galaxy radius: 2.75\n",
      "galaxy radius: 3.23\n",
      "galaxy radius: 3.10\n",
      "galaxy radius: 1.93\n",
      "galaxy radius: 1.90\n",
      "galaxy radius: 2.20\n",
      "galaxy radius: 2.12\n",
      "galaxy radius: 2.91\n",
      "galaxy radius: 2.79\n",
      "galaxy radius: 3.45\n",
      "galaxy radius: 3.29\n",
      "galaxy radius: 1.90\n",
      "galaxy radius: 1.86\n",
      "galaxy radius: 2.40\n",
      "galaxy radius: 2.32\n",
      "galaxy radius: 2.68\n",
      "galaxy radius: 2.59\n",
      "galaxy radius: 1.96\n",
      "galaxy radius: 1.92\n",
      "galaxy radius: 2.30\n",
      "galaxy radius: 2.21\n"
     ]
    },
    {
     "data": {
      "image/png": "[encoded data removed]",
      "text/plain": [
       "<Figure size 432x288 with 1 Axes>"
      ]
     },
     "metadata": {
      "needs_background": "light"
     },
     "output_type": "display_data"
    }
   ],
   "source": [
    "for i in range(20):\n",
    "    ix      =   i%nx\n",
    "    iy      =   i//nx\n",
    "    b       =   galsim.BoundsI(ix*ngrid,(ix+1)*ngrid-1,iy*ngrid,(iy+1)*ngrid-1)\n",
    "    sub_img =   gal_image[b]\n",
    "    plt.imshow(sub_img.array)\n",
    "    print('galaxy radius: %.2f' %sub_img.FindAdaptiveMom().moments_sigma)\n",
    "    print('galaxy radius: %.2f' %galsim.hsm.EstimateShear(sub_img,psfImg).moments_sigma)"
   ]
  },
  {
   "cell_type": "code",
   "execution_count": 104,
   "metadata": {},
   "outputs": [],
   "source": [
    "a=sub_img.FindAdaptiveMom()"
   ]
  },
  {
   "cell_type": "code",
   "execution_count": 106,
   "metadata": {},
   "outputs": [],
   "source": [
    "b=galsim.hsm.EstimateShear(sub_img,psfImg)"
   ]
  },
  {
   "cell_type": "code",
   "execution_count": 107,
   "metadata": {},
   "outputs": [
    {
     "data": {
      "text/plain": [
       "2.2955451011657715"
      ]
     },
     "execution_count": 107,
     "metadata": {},
     "output_type": "execute_result"
    }
   ],
   "source": [
    "a.moments_sigma"
   ]
  },
  {
   "cell_type": "code",
   "execution_count": 108,
   "metadata": {},
   "outputs": [
    {
     "data": {
      "text/plain": [
       "2.212294101715088"
      ]
     },
     "execution_count": 108,
     "metadata": {},
     "output_type": "execute_result"
    }
   ],
   "source": [
    "b.moments_sigma"
   ]
  },
  {
   "cell_type": "code",
   "execution_count": 120,
   "metadata": {},
   "outputs": [],
   "source": [
    "galaxy = galsim.Gaussian(flux=1.0, sigma=1.0)\n",
    "psf = galsim.Gaussian(flux=1.0, sigma=0.4)\n",
    "final = galsim.Convolve(galaxy, psf)"
   ]
  },
  {
   "cell_type": "code",
   "execution_count": 130,
   "metadata": {},
   "outputs": [],
   "source": [
    "final_image = final.drawImage(scale=0.1,method='no_pixel')\n",
    "final_epsf_image = psf.drawImage(scale=0.1,method='no_pixel')\n",
    "result = galsim.hsm.EstimateShear(final_image, final_epsf_image)\n",
    "result2= galsim.hsm.FindAdaptiveMom(final_image)"
   ]
  },
  {
   "cell_type": "code",
   "execution_count": 129,
   "metadata": {},
   "outputs": [
    {
     "data": {
      "text/plain": [
       "10.770329475402832"
      ]
     },
     "execution_count": 129,
     "metadata": {},
     "output_type": "execute_result"
    }
   ],
   "source": [
    "result.moments_sigma"
   ]
  },
  {
   "cell_type": "code",
   "execution_count": 131,
   "metadata": {},
   "outputs": [
    {
     "data": {
      "text/plain": [
       "10.770329475402832"
      ]
     },
     "execution_count": 131,
     "metadata": {},
     "output_type": "execute_result"
    }
   ],
   "source": [
    "result2.moments_sigma"
   ]
  },
  {
   "cell_type": "code",
   "execution_count": null,
   "metadata": {},
   "outputs": [],
   "source": [
    "result2.resolution_factor"
   ]
  },
  {
   "cell_type": "code",
   "execution_count": 133,
   "metadata": {},
   "outputs": [
    {
     "data": {
      "text/plain": [
       "0.1"
      ]
     },
     "execution_count": 133,
     "metadata": {},
     "output_type": "execute_result"
    }
   ],
   "source": [
    "final_image.scale"
   ]
  },
  {
   "cell_type": "code",
   "execution_count": 135,
   "metadata": {},
   "outputs": [],
   "source": [
    "result = galsim.hsm.EstimateShear(final_epsf_image, final_epsf_image,strict=False)"
   ]
  }
 ],
 "metadata": {
  "kernelspec": {
   "display_name": "Python 3",
   "language": "python",
   "name": "python3"
  },
  "language_info": {
   "codemirror_mode": {
    "name": "ipython",
    "version": 3
   },
   "file_extension": ".py",
   "mimetype": "text/x-python",
   "name": "python",
   "nbconvert_exporter": "python",
   "pygments_lexer": "ipython3",
   "version": "3.7.8"
  }
 },
 "nbformat": 4,
 "nbformat_minor": 4
}
