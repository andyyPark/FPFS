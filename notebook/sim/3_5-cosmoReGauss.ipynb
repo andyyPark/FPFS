{
 "cells": [
  {
   "cell_type": "code",
   "execution_count": 1,
   "metadata": {},
   "outputs": [
    {
     "name": "stdout",
     "output_type": "stream",
     "text": [
      "Populating the interactive namespace from numpy and matplotlib\n"
     ]
    }
   ],
   "source": [
    "%pylab inline\n",
    "import os\n",
    "import gc\n",
    "import scipy\n",
    "import numpy as np\n",
    "import catutil as utilities\n",
    "import imgSimutil as imgUtil\n",
    "import astropy.io.fits as pyfits\n",
    "from astropy.table import Table,vstack,hstack"
   ]
  },
  {
   "cell_type": "code",
   "execution_count": 2,
   "metadata": {},
   "outputs": [
    {
     "name": "stdout",
     "output_type": "stream",
     "text": [
      "/lustre/work/xiangchong.li/work/FPFS2/sim\n"
     ]
    }
   ],
   "source": [
    "cd wrkDir/FPFS2/sim/"
   ]
  },
  {
   "cell_type": "code",
   "execution_count": 18,
   "metadata": {},
   "outputs": [],
   "source": [
    "www=False\n",
    "zbound  =   np.array([0.,0.561,0.906,1.374,5.410])\n",
    "nz=len(zbound)-1\n",
    "bAll=[]\n",
    "for psz in ['45','60','75']:\n",
    "    out=[]\n",
    "    for xx in ['0000','2222']:\n",
    "        dataAll=[]\n",
    "        for pixId in imgUtil.cosmoHSThpix[:-1]:\n",
    "            data= pyfits.getdata('outCosmo-var36em4/src-psf%s-%d/stackAll-g1-%s_2.fits' %(psz,pixId,xx))\n",
    "            dataAll.append(data[data['wlmask']])\n",
    "            del data\n",
    "            gc.collect()\n",
    "        dataAll=np.hstack(dataAll)\n",
    "        #del msk\n",
    "        e1,e2=utilities.get_gal_ellip(dataAll)\n",
    "        if www:\n",
    "            weight  =   dataAll['i_hsmshaperegauss_derived_weight']\n",
    "        else:\n",
    "            weight  =   np.ones(len(dataAll))\n",
    "        #dataAll['i_hsmshaperegauss_derived_rms_e']=0.365\n",
    "        ooo=np.zeros(nz)\n",
    "        for iz in range(nz):\n",
    "            #msk=utilities.get_snr(dataAll)<30.\n",
    "            msk=(dataAll['zphot']>zbound[iz])&(dataAll['zphot']<zbound[iz+1])\n",
    "            w_A     =   np.sum(weight[msk])\n",
    "            #Res_A   =   1.-np.sum(dataAll['i_hsmshaperegauss_derived_rms_e'][msk]**2.*weight[msk])/w_A\n",
    "            ooo[iz] =   np.sum(weight[msk]*e1[msk])/w_A\n",
    "            del msk\n",
    "        out.append(ooo)\n",
    "        del e1,e2,weight,w_A,ooo\n",
    "        gc.collect()\n",
    "\n",
    "    response1=(out[1]-out[0])/0.04\n",
    "\n",
    "    pList=['2000','0200','0020','0002']\n",
    "    outZd=np.zeros(nz)\n",
    "    for iz in range(4):\n",
    "        xx=pList[iz]\n",
    "        dataAll=[]\n",
    "        for pixId in imgUtil.cosmoHSThpix[:-1]:\n",
    "            data= pyfits.getdata('outCosmo-var36em4/src-psf%s-%d/stackAll-g1-%s_2.fits' %(psz,pixId,xx))\n",
    "            dataAll.append(data[data['wlmask']])\n",
    "            del data\n",
    "            gc.collect()\n",
    "        dataAll=np.hstack(dataAll)\n",
    "        #del msk\n",
    "        e1,e2=utilities.get_gal_ellip(dataAll)\n",
    "        if www:\n",
    "            weight  =   dataAll['i_hsmshaperegauss_derived_weight']\n",
    "        else:\n",
    "            weight  =   np.ones(len(dataAll))\n",
    "        #dataAll['i_hsmshaperegauss_derived_rms_e']=0.365\n",
    "        msk=(dataAll['zphot']>zbound[iz])&(dataAll['zphot']<zbound[iz+1])\n",
    "        w_A     =   np.sum(weight[msk])\n",
    "        outZd[iz]=np.sum(weight[msk]*e1[msk])/w_A\n",
    "        del msk\n",
    "\n",
    "    response2=(outZd-out[0])/0.04\n",
    "    bias=response2/response1-1\n",
    "    bAll.append(bias)"
   ]
  },
  {
   "cell_type": "code",
   "execution_count": 37,
   "metadata": {},
   "outputs": [
    {
     "data": {
      "text/plain": [
       "array([0.3404947 , 0.34000278, 0.34251299, 0.39272814])"
      ]
     },
     "execution_count": 37,
     "metadata": {},
     "output_type": "execute_result"
    }
   ],
   "source": [
    "np.sqrt(1-response2/2.)"
   ]
  },
  {
   "cell_type": "code",
   "execution_count": 19,
   "metadata": {},
   "outputs": [
    {
     "name": "stdout",
     "output_type": "stream",
     "text": [
      "[array([-7.60867408e-05, -4.76873535e-04, -7.32587330e-05,  2.97795564e-04]), array([-3.77331447e-05, -4.22631866e-04, -8.17585495e-04, -7.95351481e-04]), array([-0.00022273, -0.00048845, -0.00105539, -0.00189647])]\n"
     ]
    }
   ],
   "source": [
    "print(bAll)"
   ]
  },
  {
   "cell_type": "code",
   "execution_count": 38,
   "metadata": {},
   "outputs": [
    {
     "data": {
      "text/plain": [
       "(-0.3, 0.1)"
      ]
     },
     "execution_count": 38,
     "metadata": {},
     "output_type": "execute_result"
    },
    {
     "data": {
      "image/png": "[encoded data removed]",
      "text/plain": [
       "<Figure size 432x288 with 1 Axes>"
      ]
     },
     "metadata": {
      "needs_background": "light"
     },
     "output_type": "display_data"
    }
   ],
   "source": [
    "lList=['45','60','75']\n",
    "for i in range(3):\n",
    "    plt.plot((zbound[:-1]+zbound[1:])/2.,bAll[i]*100,'--',label=lList[i])\n",
    "plt.legend(loc='lower left')\n",
    "plt.ylabel(r'$m [10^{-2}]$')\n",
    "plt.xlabel('redshift')\n",
    "plt.ylim(-0.3,0.1)"
   ]
  }
 ],
 "metadata": {
  "kernelspec": {
   "display_name": "Python 3",
   "language": "python",
   "name": "python3"
  },
  "language_info": {
   "codemirror_mode": {
    "name": "ipython",
    "version": 3
   },
   "file_extension": ".py",
   "mimetype": "text/x-python",
   "name": "python",
   "nbconvert_exporter": "python",
   "pygments_lexer": "ipython3",
   "version": "3.7.8"
  }
 },
 "nbformat": 4,
 "nbformat_minor": 4
}
