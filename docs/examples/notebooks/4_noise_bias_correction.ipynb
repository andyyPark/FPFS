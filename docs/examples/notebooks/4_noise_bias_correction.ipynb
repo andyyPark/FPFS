{
 "cells": [
  {
   "cell_type": "code",
   "execution_count": 1,
   "id": "d03db39a-a790-4037-b03e-87635e2d1f36",
   "metadata": {},
   "outputs": [],
   "source": [
    "%load_ext autoreload\n",
    "%autoreload 2\n",
    "%matplotlib inline\n",
    "\n",
    "\n",
    "import gc\n",
    "import os \n",
    "import fpfs\n",
    "import fitsio\n",
    "import galsim\n",
    "import matplotlib.pylab as plt\n",
    "from astropy.visualization import simple_norm\n",
    "from mpl_toolkits.axes_grid1 import ImageGrid\n",
    "\n",
    "import matplotlib as mpl\n",
    "mpl.rcParams['axes.linewidth'] = 2.0 #set the value globally"
   ]
  },
  {
   "cell_type": "code",
   "execution_count": 2,
   "id": "5735e2a3-89d2-4f2f-934c-517e8771d357",
   "metadata": {},
   "outputs": [
    {
     "name": "stderr",
     "output_type": "stream",
     "text": [
      "2023/01/10 21:01:46 ---  Processing for g1-0000, and shears for four redshift bins are [-0.02 -0.02 -0.02 -0.02].\n"
     ]
    },
    {
     "name": "stdout",
     "output_type": "stream",
     "text": [
      "Making Basic Simulation. ID: 2\n"
     ]
    },
    {
     "data": {
      "text/plain": [
       "15"
      ]
     },
     "execution_count": 2,
     "metadata": {},
     "output_type": "execute_result"
    },
    {
     "data": {
      "image/png": "[encoded data removed]",
      "text/plain": [
       "<Figure size 432x288 with 1 Axes>"
      ]
     },
     "metadata": {
      "needs_background": "light"
     },
     "output_type": "display_data"
    }
   ],
   "source": [
    "scale = 0.168\n",
    "outDir='galaxy_basicCenter_psf60'\n",
    "psfInt = galsim.Moffat(\n",
    "    beta=3.5, fwhm=0.6, trunc=0.6 * 4.0\n",
    ").shear(e1=0.02, e2=-0.02)\n",
    "psfData = psfInt.shift(0.5 * scale, 0.5 * scale).drawImage(nx=64, ny=64, scale=scale).array\n",
    "\n",
    "gal_data = fpfs.simutil.make_basic_sim(\n",
    "    outDir,psf_obj=psfInt,gname='g1-0000',\n",
    "    ind0=2,ny=64,nx=256, scale=scale,\n",
    "    do_write=False,return_array=True)\n",
    "plt.close()\n",
    "plt.imshow(gal_data,aspect='equal',cmap='RdYlBu_r',origin='lower',interpolation='None',\\\n",
    "             norm=simple_norm(gal_data,'asinh',asinh_a=0.1,min_cut=-0.01,max_cut=0.3))\n",
    "gc.collect()"
   ]
  },
  {
   "cell_type": "code",
   "execution_count": 3,
   "id": "3af4cb42-bf5a-4418-819e-a73714d237ab",
   "metadata": {},
   "outputs": [],
   "source": [
    "rcut = 32\n",
    "\n",
    "# fake detection\n",
    "indX = np.arange(32, 256, 64)\n",
    "indY = np.arange(32, 64, 64)\n",
    "inds = np.meshgrid(indY, indX, indexing=\"ij\")\n",
    "coords = np.array(\n",
    "    np.zeros(inds[0].size),\n",
    "    dtype=[(\"fpfs_y\", \"i4\"), (\"fpfs_x\", \"i4\")],\n",
    ")\n",
    "coords[\"fpfs_y\"] = np.ravel(inds[0])\n",
    "coords[\"fpfs_x\"] = np.ravel(inds[1])\n",
    "imgList = [\n",
    "    gal_data[\n",
    "        cc[\"fpfs_y\"] - rcut : cc[\"fpfs_y\"] + rcut,\n",
    "        cc[\"fpfs_x\"] - rcut : cc[\"fpfs_x\"] + rcut,\n",
    "    ]\n",
    "    for cc in coords\n",
    "]\n"
   ]
  },
  {
   "cell_type": "code",
   "execution_count": 4,
   "id": "cdb7bb27-e022-48d5-b246-50c8b60bb5df",
   "metadata": {},
   "outputs": [
    {
     "name": "stderr",
     "output_type": "stream",
     "text": [
      "2023/01/10 21:01:47 ---  Gaussian kernel in configuration space: sigma= 0.7000 arcsec\n",
      "2023/01/10 21:01:47 ---  measurement covariance will not be calculated\n"
     ]
    }
   ],
   "source": [
    "fpTask  =   fpfs.image.measure_source(psfData, sigma_arcsec=0.7)\n",
    "mms =  fpTask.measure(imgList)\n",
    "ells=   fpfs.catalog.fpfs_m2e(mms,const=2000,noirev=False)\n",
    "resp=np.average(ells['fpfs_R1E'])\n",
    "shear=np.average(ells['fpfs_e1'])/resp"
   ]
  },
  {
   "cell_type": "code",
   "execution_count": 5,
   "id": "5b3b6764-ac54-4eed-92b2-f1ecfa0d626c",
   "metadata": {},
   "outputs": [
    {
     "data": {
      "text/plain": [
       "-0.020001147821483375"
      ]
     },
     "execution_count": 5,
     "metadata": {},
     "output_type": "execute_result"
    }
   ],
   "source": [
    "shear"
   ]
  },
  {
   "cell_type": "code",
   "execution_count": null,
   "id": "064170c1-b8a0-4cbe-870c-1f60222a39cc",
   "metadata": {},
   "outputs": [],
   "source": [
    "scale = 0.168\n",
    "seeing = 0.6\n",
    "rcut = 32\n",
    "psfInt = galsim.Moffat(\n",
    "    beta=3.5, fwhm=seeing, trunc=seeing * 4.0\n",
    ").shear(e1=0.02, e2=-0.02)\n",
    "psf_data = psfInt.shift(0.5 * scale, 0.5 * scale).drawImage(nx=64, ny=64, scale=scale).array"
   ]
  },
  {
   "cell_type": "code",
   "execution_count": null,
   "id": "a5648c95-75d4-439d-b084-2bdbe22111ba",
   "metadata": {},
   "outputs": [],
   "source": [
    "noise_fname = os.path.join(fpfs.__data_dir__, 'noiPows3.npy')\n",
    "noi_var = 7e-3\n",
    "noise_pow = (\n",
    "    np.load(noise_fname, allow_pickle=True).item()[\"%s\" % rcut]\n",
    "    * noi_var\n",
    "    * 100\n",
    ")"
   ]
  },
  {
   "cell_type": "code",
   "execution_count": null,
   "id": "2b779928-b270-4f66-9c59-436d00451200",
   "metadata": {},
   "outputs": [
    {
     "name": "stderr",
     "output_type": "stream",
     "text": [
      "2023/01/10 21:01:47 ---  Gaussian kernel in configuration space: sigma= 0.4500 arcsec\n",
      "2023/01/10 21:01:47 ---  measurement error covariance will be calculated\n"
     ]
    }
   ],
   "source": [
    "source_task  =   fpfs.image.measure_source(psfData, noise_ps=noise_pow, sigma_arcsec=0.45)"
   ]
  },
  {
   "cell_type": "code",
   "execution_count": null,
   "id": "d7689f07-32d8-4764-8906-d8c7ea998065",
   "metadata": {},
   "outputs": [],
   "source": [
    "mms = source_task.measure(imgList)"
   ]
  },
  {
   "cell_type": "code",
   "execution_count": null,
   "id": "2ae7155a-f33a-41c2-8f47-3dbb15bdfe28",
   "metadata": {},
   "outputs": [
    {
     "data": {
      "text/plain": [
       "0.25276049971580505"
      ]
     },
     "execution_count": 10,
     "metadata": {},
     "output_type": "execute_result"
    }
   ],
   "source": [
    "mms['fpfs_N00N00'][0]"
   ]
  },
  {
   "cell_type": "code",
   "execution_count": null,
   "id": "84722d83-f762-4484-a41c-841fcdfd57c4",
   "metadata": {},
   "outputs": [],
   "source": [
    "cat_fname = os.path.join(fpfs.__data_dir__, 'fpfs-cut32-0000-g1-0000.fits')"
   ]
  },
  {
   "cell_type": "code",
   "execution_count": null,
   "id": "7041fc9a-9639-45d7-b8d0-8dd38be69fc5",
   "metadata": {},
   "outputs": [
    {
     "data": {
      "text/plain": [
       "0.25276049971580505"
      ]
     },
     "execution_count": 12,
     "metadata": {},
     "output_type": "execute_result"
    }
   ],
   "source": [
    "pyfits.getdata(cat_fname)[0]['fpfs_N00N00']"
   ]
  },
  {
   "cell_type": "code",
   "execution_count": null,
   "id": "f43bae67-1df0-4677-a735-a6be21c15907",
   "metadata": {},
   "outputs": [
    {
     "name": "stderr",
     "output_type": "stream",
     "text": [
      "2023/01/11 00:03:18 ---  Gaussian kernel in configuration space: sigma= 0.4500 arcsec\n"
     ]
    }
   ],
   "source": [
    "noise_task = fpfs.image.measure_noise_cov(\n",
    "    psf_data,\n",
    "    nnord=4,\n",
    "    sigma_arcsec=0.45,\n",
    ")\n",
    "cov_mat = noise_task.measure(noise_pow)\n",
    "\n",
    "cov_mat2 = fpfs.catalog.fpfscov_to_imptcov(mms)\n",
    "for elem1, elem2 in zip(cov_mat.flatten(), cov_mat2.flatten()):\n",
    "    if elem2 != 0.0:\n",
    "        np.testing.assert_array_almost_equal(\n",
    "            elem1,\n",
    "            elem2,\n",
    "        )"
   ]
  },
  {
   "cell_type": "code",
   "execution_count": 27,
   "id": "c968d36d-128a-42d3-9185-bc8b46de4e03",
   "metadata": {},
   "outputs": [
    {
     "data": {
      "image/png": "[encoded data removed]",
      "text/plain": [
       "<Figure size 432x288 with 2 Axes>"
      ]
     },
     "metadata": {
      "needs_background": "light"
     },
     "output_type": "display_data"
    }
   ],
   "source": [
    "plt.close()\n",
    "plt.imshow(cov_mat,vmin=-1.5,vmax=1.5)\n",
    "plt.colorbar()\n",
    "fitsio.write('modes_cov_mat_paper3_045.fits')"
   ]
  },
  {
   "cell_type": "code",
   "execution_count": null,
   "id": "42a08c77-6eb5-4fe6-b03c-c49ead7636ae",
   "metadata": {},
   "outputs": [
    {
     "data": {
      "text/plain": [
       "<matplotlib.colorbar.Colorbar at 0x2b70ad31a100>"
      ]
     },
     "execution_count": 26,
     "metadata": {},
     "output_type": "execute_result"
    },
    {
     "data": {
      "image/png": "[encoded data removed]",
      "text/plain": [
       "<Figure size 432x288 with 2 Axes>"
      ]
     },
     "metadata": {
      "needs_background": "light"
     },
     "output_type": "display_data"
    }
   ],
   "source": [
    "plt.close()\n",
    "plt.imshow(cov_mat2,vmin=-1.5,vmax=1.5)\n",
    "plt.colorbar()"
   ]
  },
  {
   "cell_type": "code",
   "execution_count": null,
   "id": "a98a318e-4c39-491f-b039-ca82f438141f",
   "metadata": {},
   "outputs": [],
   "source": []
  }
 ],
 "metadata": {
  "kernelspec": {
   "display_name": "Python 3 (ipykernel)",
   "language": "python",
   "name": "python3"
  },
  "language_info": {
   "codemirror_mode": {
    "name": "ipython",
    "version": 3
   },
   "file_extension": ".py",
   "mimetype": "text/x-python",
   "name": "python",
   "nbconvert_exporter": "python",
   "pygments_lexer": "ipython3",
   "version": "3.8.15"
  }
 },
 "nbformat": 4,
 "nbformat_minor": 5
}
