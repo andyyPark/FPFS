{
 "cells": [
  {
   "cell_type": "code",
   "execution_count": 1,
   "metadata": {},
   "outputs": [
    {
     "name": "stdout",
     "output_type": "stream",
     "text": [
      "Populating the interactive namespace from numpy and matplotlib\n"
     ]
    }
   ],
   "source": [
    "%pylab inline\n",
    "import galsim\n",
    "import imgSimutil\n",
    "import numpy as np\n",
    "import astropy.io.fits as pyfits\n",
    "\n",
    "import fpfsBase"
   ]
  },
  {
   "cell_type": "code",
   "execution_count": 2,
   "metadata": {},
   "outputs": [
    {
     "name": "stdout",
     "output_type": "stream",
     "text": [
      "/lustre/work/xiangchong.li/work/FPFS2/sim\n"
     ]
    }
   ],
   "source": [
    "cd wrkDir/FPFS2/sim"
   ]
  },
  {
   "cell_type": "code",
   "execution_count": 12,
   "metadata": {},
   "outputs": [],
   "source": [
    "directory  =   os.path.join(os.environ['homeWrk'],'COSMOS/galsim_train/COSMOS_25.2_training_sample/')\n",
    "catName    =   'real_galaxy_catalog_25.2.fits'\n",
    "cosmos_cat  =   galsim.COSMOSCatalog(catName,dir=directory)"
   ]
  },
  {
   "cell_type": "code",
   "execution_count": 30,
   "metadata": {},
   "outputs": [],
   "source": [
    "nside=512\n",
    "cosmo252=imgSimutil.cosmoHSTGal('252')\n",
    "cosmo252.readHSTsample()\n",
    "catused=cosmo252.catused\n",
    "hpInfo=cosmo252.hpInfo\n",
    "ss=catused[12]\n",
    "gal0    =   cosmos_cat.makeGalaxy(gal_type='parametric',index=ss['index'])"
   ]
  },
  {
   "cell_type": "code",
   "execution_count": 11,
   "metadata": {},
   "outputs": [
    {
     "name": "stdout",
     "output_type": "stream",
     "text": [
      "[4.99999989e-03 5.60899973e-01 9.06400025e-01 1.37380004e+00\n",
      " 5.40840006e+00]\n"
     ]
    }
   ],
   "source": [
    "zbound=np.percentile(catused['zphot'],np.linspace(0,100,5))\n",
    "print(zbound)"
   ]
  },
  {
   "cell_type": "code",
   "execution_count": null,
   "metadata": {},
   "outputs": [],
   "source": [
    "gList=np.array([-0.02,0.,0.02])\n",
    "ind=[eval(i) for i in pend.split('-')[-1]]\n",
    "gList=gList[ind]\n",
    "if pend.split('-')[0]=='g1':\n",
    "    g1=gList[np.where((ss['zphot']>zbound[:-1])&(ss['zphot']<=zbound[1:]))[0]][0]\n",
    "    g2=0.\n",
    "elif pend.split('-')[0]=='g2':\n",
    "    g1=0.\n",
    "    g2=gList[np.where((ss['zphot']>zbound[:-1])&(ss['zphot']<=zbound[1:]))[0]][0]\n",
    "else:\n",
    "    pass"
   ]
  },
  {
   "cell_type": "code",
   "execution_count": 73,
   "metadata": {},
   "outputs": [
    {
     "name": "stdout",
     "output_type": "stream",
     "text": [
      "22\n",
      "['g1-0000', 'g1-1111', 'g1-2222', 'g1-2000', 'g1-0200', 'g1-0020', 'g1-0002', 'g1-2111', 'g1-1211', 'g1-1121', 'g1-1112', 'g2-0000', 'g2-1111', 'g2-2222', 'g2-2000', 'g2-0200', 'g2-0020', 'g2-0002', 'g2-2111', 'g2-1211', 'g2-1121', 'g2-1112']\n"
     ]
    }
   ],
   "source": [
    "p2List=['0000','1111','2222','2000','0200','0020','0002','2111','1211','1121','1112']\n",
    "p1List=['g1','g2']\n",
    "pendList=['%s-%s' %(i1,i2) for i1 in p1List for i2 in p2List]\n",
    "print(len(pendList))\n",
    "print(pendList)"
   ]
  },
  {
   "cell_type": "code",
   "execution_count": 82,
   "metadata": {},
   "outputs": [
    {
     "data": {
      "text/plain": [
       "134"
      ]
     },
     "execution_count": 82,
     "metadata": {},
     "output_type": "execute_result"
    }
   ],
   "source": [
    "len(imgSimutil.cosmoHSThpix)"
   ]
  },
  {
   "cell_type": "code",
   "execution_count": 87,
   "metadata": {},
   "outputs": [
    {
     "data": {
      "text/plain": [
       "8.1499"
      ]
     },
     "execution_count": 87,
     "metadata": {},
     "output_type": "execute_result"
    }
   ],
   "source": [
    "len(cosmo252.catused)/1e4"
   ]
  }
 ],
 "metadata": {
  "kernelspec": {
   "display_name": "Python 3",
   "language": "python",
   "name": "python3"
  },
  "language_info": {
   "codemirror_mode": {
    "name": "ipython",
    "version": 3
   },
   "file_extension": ".py",
   "mimetype": "text/x-python",
   "name": "python",
   "nbconvert_exporter": "python",
   "pygments_lexer": "ipython3",
   "version": "3.7.8"
  }
 },
 "nbformat": 4,
 "nbformat_minor": 4
}
