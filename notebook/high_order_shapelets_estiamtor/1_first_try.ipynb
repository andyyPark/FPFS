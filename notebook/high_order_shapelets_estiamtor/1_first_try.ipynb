{
 "cells": [
  {
   "cell_type": "code",
   "execution_count": 25,
   "metadata": {},
   "outputs": [
    {
     "name": "stdout",
     "output_type": "stream",
     "text": [
      "Populating the interactive namespace from numpy and matplotlib\n"
     ]
    }
   ],
   "source": [
    "%pylab inline\n",
    "import galsim\n",
    "import numpy as np\n",
    "import astropy.io.fits as pyfits\n",
    "import lsst.pipe.base as pipeBase"
   ]
  },
  {
   "cell_type": "code",
   "execution_count": 2,
   "metadata": {},
   "outputs": [
    {
     "name": "stdout",
     "output_type": "stream",
     "text": [
      "/home/xiangchong/work/gw_ipmu/work/FPFS2/sim\n"
     ]
    }
   ],
   "source": [
    "cd wrkDir/FPFS2/sim"
   ]
  },
  {
   "cell_type": "code",
   "execution_count": 118,
   "metadata": {},
   "outputs": [],
   "source": [
    "# PSF preparation\n",
    "ifield=1\n",
    "psfPre='psfPre'\n",
    "# Basic parameters\n",
    "ngrid       =   64\n",
    "nrot        =   4\n",
    "nx          =   nrot \n",
    "ny          =   1\n",
    "ndata       =   nx*ny\n",
    "scale       =   0.168\n",
    "ngridTot    =   ngrid*nx\n",
    "bigfft      =   galsim.GSParams(maximum_fft_size=10240)\n",
    "flux_scaling=   2.587\n",
    "\n",
    "# Get the psf and nosie information \n",
    "psfFname    =   os.path.join(psfPre,'psf%04d.fits'%(ifield))\n",
    "psfImg      =   galsim.fits.read(psfFname)\n",
    "noiseHead   =   pyfits.getheader(psfFname)\n",
    "psfInt      =   galsim.InterpolatedImage(psfImg,scale=scale,flux = 1.) \n",
    "# Get the shear information\n",
    "g1          =   noiseHead['g1']\n",
    "g2          =   noiseHead['g2']\n",
    "fwhm        =   noiseHead['fwhm'] \n",
    "variance    =   noiseHead['var']\n",
    "rescale     =   noiseHead['rescale']\n",
    "ud          =   galsim.UniformDeviate(ifield*10000+1)\n",
    "np.random.seed(ifield*10000+1)"
   ]
  },
  {
   "cell_type": "code",
   "execution_count": 120,
   "metadata": {},
   "outputs": [],
   "source": [
    "# setup the galaxy image and the noise image\n",
    "gal_image   =   galsim.ImageF(nx*ngrid,ny*ngrid,scale=scale)\n",
    "gal_image.setOrigin(0,0)\n",
    "var_image   =   galsim.ImageF(nx*ngrid,ny*ngrid,scale=scale)\n",
    "var_image.setOrigin(0,0)\n",
    "data_rows   =   []\n",
    "\n",
    "# Get the  galaxy generator      \n",
    "# Load data\n",
    "catName     =   'real_galaxy_catalog_25.2.fits'\n",
    "directory         =   '/home/xiangchong/work/gw_ipmu/work/galsim_train/COSMOS_25.2_training_sample/'\n",
    "cosmos_cat  =   galsim.COSMOSCatalog(catName, dir=directory)\n",
    "# index\n",
    "index_use   =   cosmos_cat.orig_index\n",
    "# parametric catalog\n",
    "param_cat   =   cosmos_cat.param_cat[index_use]\n",
    "index       =   ifield%81400\n",
    "record      =   param_cat[index]\n",
    "# prepare the galaxies\n",
    "gal0        =   cosmos_cat.makeGalaxy(gal_type='parametric',index=index,gsparams=bigfft)\n",
    "gal0        *=  flux_scaling\n",
    "use_bulgefit=   record['use_bulgefit']\n",
    "if use_bulgefit:\n",
    "    bparams = record['bulgefit']\n",
    "    gal_q   = bparams[3]\n",
    "    gal_beta= bparams[7]*galsim.radians\n",
    "    hlr     = record['hlr'][2]\n",
    "    bulge_flux= record['flux'][1]\n",
    "    disk_flux= record['flux'][2]\n",
    "    flux    = (bulge_flux+disk_flux)*flux_scaling\n",
    "else:\n",
    "    sparams =   record['sersicfit']\n",
    "    gal_q   =   sparams[3]\n",
    "    gal_beta=   sparams[7]*galsim.radians\n",
    "    hlr     =   record['hlr'][0]\n",
    "    flux    =   record['flux'][0]*flux_scaling\n",
    "# Get the SNR\n",
    "fluxRadius  =   record['flux_radius']\n",
    "snr         =   flux/fluxRadius/np.sqrt(np.pi)/np.sqrt(variance)\n",
    "npoints     =   ud()*50+50\n",
    "gal_not0    =   galsim.RandomWalk(half_light_radius=0.4,npoints=npoints,flux=flux)\n",
    "gal_not0    =   gal_not0.shear(q=gal_q,beta=gal_beta)\n",
    "for i in range(nrot):\n",
    "    # Prepare the subimage\n",
    "    ix      =   int(i%nx)\n",
    "    iy      =   int(i/nx)\n",
    "    b       =   galsim.BoundsI(ix*ngrid, (ix+1)*ngrid-1,iy*ngrid,(iy+1)*ngrid-1)\n",
    "    sub_gal_image = gal_image[b]\n",
    "    if i%nrot==0:\n",
    "        # Get the galaxy image\n",
    "        notRat  =   0.1#ud()*0.1\n",
    "        gal     =   gal0*(1.-notRat)+gal_not0*notRat\n",
    "        # Dilate the galaxy\n",
    "        #dilatS  =   1.+(ud()-0.5)*0.1\n",
    "        #gal     =   gal.dilate(dilatS)\n",
    "        # Rotate the galaxy\n",
    "        ang     =   ud()*2.*np.pi * galsim.radians\n",
    "        gal     =   gal.rotate(ang)\n",
    "        final   =   gal.shear(g1=g1,g2=g2)\n",
    "    else:\n",
    "        gal     =   gal.rotate(1./nrot*np.pi*galsim.radians)\n",
    "        final   =   gal.shear(g1=g1,g2=g2)\n",
    "    # Shear the galaxy\n",
    "    final     =   galsim.Convolve([psfInt,final],gsparams=bigfft)\n",
    "    # Draw the galaxy image\n",
    "    final.drawImage(sub_gal_image,method='no_pixel')"
   ]
  },
  {
   "cell_type": "code",
   "execution_count": 121,
   "metadata": {},
   "outputs": [],
   "source": [
    "class fpfsBaseTask():\n",
    "    _DefaultName = \"fpfsBase\"\n",
    "    def __init__(self,psfData):\n",
    "        self.psfPow  =   self.getPow(psfData)\n",
    "\n",
    "        #get PSF power and radius\n",
    "        self.beta    =   0.85\n",
    "        self.sigma   =   self.getHLRnaive(self.psfPow,self.beta)\n",
    "        print(self.sigma)\n",
    "        self.shapeletsBase   =       self.shapeletsPrepare(4,ngrid)\n",
    "        return\n",
    "    \n",
    "    def getHLRnaive(self,imgData,beta):\n",
    "        #Get the half light radius of noiseless PSF\n",
    "        ny = imgData.shape[0]\n",
    "        nx = imgData.shape[1]\n",
    "        thres=imgData.max()*0.5\n",
    "        sigma=0.\n",
    "        for j in range(5,ny-5):\n",
    "            for i in range(5,nx-5):\n",
    "                if imgData[j,i]>thres:\n",
    "                    sigma+=1.\n",
    "        sigma   =   np.sqrt(sigma/np.pi)*beta\n",
    "        sigma   =   max(1.,min(sigma,4.))\n",
    "        return sigma\n",
    "\n",
    "    \n",
    "    def shapeletsPrepare(self,nord,ngrid):\n",
    "        #Prepare the shapelets function\n",
    "        mord    =   nord\n",
    "        rfunc   =   np.zeros((ngrid,ngrid),dtype=np.float64)\n",
    "        afunc   =   np.zeros((ngrid,ngrid),dtype=np.float64)\n",
    "        lfunc   =   np.zeros((nord+1,mord+1,ngrid,ngrid),dtype=np.float64)\n",
    "        chiC    =   np.zeros((nord+1,mord+1,ngrid,ngrid),dtype=np.float64)\n",
    "        chiS    =   np.zeros((nord+1,mord+1,ngrid,ngrid),dtype=np.float64)\n",
    "        #Set up the r*r and theta function\n",
    "        for j in range(ngrid):\n",
    "            for i in range(ngrid):\n",
    "                x   =   (i-ngrid/2.)/self.sigma\n",
    "                y   =   (j-ngrid/2.)/self.sigma\n",
    "                r   =   np.sqrt(x**2.+y**2.)\n",
    "                rfunc[j,i]=r\n",
    "                if r==0:\n",
    "                    afunc[j,i]=0\n",
    "                elif y>=0:\n",
    "                    afunc[j,i]=np.arccos(x/r)\n",
    "                elif y<0:\n",
    "                    afunc[j,i]=-np.arccos(x/r)\n",
    "        #Set up l function\n",
    "        for n in range(nord+1):\n",
    "            for m in range(mord+1):\n",
    "                if n==0:\n",
    "                    lfunc[n,m,:,:]=1.\n",
    "                elif n==1:\n",
    "                    lfunc[n,m,:,:]=m+1.-rfunc*rfunc\n",
    "                elif n>1:\n",
    "                    lfunc[n,m,:,:]=(2.+(m-1.-rfunc*rfunc)/n)*lfunc[n-1,m,:,:]-(1.+(m-1.)/n)*lfunc[n-2,m,:,:]\n",
    "        for nn in range(nord+1):\n",
    "            for mm in range(nn,-1,-2):\n",
    "                c1=(nn-abs(mm))//2\n",
    "                d1=(nn+abs(mm))//2\n",
    "                cc=np.math.factorial(c1)+0.\n",
    "                dd=np.math.factorial(d1)+0.\n",
    "                cc=cc/dd/np.pi\n",
    "                chiC[nn,mm,:,:]=pow(-1.,d1)/self.sigma*pow(cc,0.5)*lfunc[c1,abs(mm),:,:]*pow(rfunc,abs(mm))*np.exp(-rfunc*rfunc/2.)*np.cos(mm*afunc)\n",
    "                chiS[nn,mm,:,:]=pow(-1.,d1)/self.sigma*pow(cc,0.5)*lfunc[c1,abs(mm),:,:]*pow(rfunc,abs(mm))*np.exp(-rfunc*rfunc/2.)*np.sin(mm*afunc)\n",
    "        return pipeBase.Struct(\n",
    "            chiC=chiC,\n",
    "            chiS=chiS\n",
    "            )\n",
    "    \n",
    "    def getPow(self,galData):\n",
    "        galData.astype(np.float64)\n",
    "        #Get power function and subtract noise power\n",
    "        galpow  =   np.abs(np.fft.fft2(galData))**2.\n",
    "        galpow  =   np.fft.fftshift(galpow)\n",
    "        return galpow\n",
    "    \n",
    "    def deconvolvePow(self,galData,noiData=None):\n",
    "        #Deconvolve the galaxy power with the PSF power\n",
    "        ngrid   =   galData.shape[0]\n",
    "        # Get rlim\n",
    "        thres   =   1.e-4\n",
    "        for dist in range(8,30):\n",
    "            rlim=   dist\n",
    "            ave =   0.\n",
    "            ave +=  abs(np.exp(-rlim**2./2./self.sigma**2.)/self.psfPow[ngrid//2+dist,ngrid//2])\n",
    "            ave +=  abs(np.exp(-rlim**2./2./self.sigma**2.)/self.psfPow[ngrid//2-dist,ngrid//2])\n",
    "            ave +=  abs(np.exp(-rlim**2./2./self.sigma**2.)/self.psfPow[ngrid//2,ngrid//2+dist])\n",
    "            ave +=  abs(np.exp(-rlim**2./2./self.sigma**2.)/self.psfPow[ngrid//2,ngrid//2-dist])\n",
    "            ave =   ave/4.\n",
    "            if ave<=thres:\n",
    "                break\n",
    "        print(rlim)\n",
    "        # Subtract the noiPow\n",
    "        if noiData is not None:\n",
    "            minPow,noiPow2  =   self.removeNoiPow(ngrid,galData,noiData,rlim)\n",
    "        else:\n",
    "            minPow=galData\n",
    "            noiPow2=None\n",
    "        decPow  =   np.zeros(galData.shape,dtype=np.float64)\n",
    "        for j in range(ngrid):\n",
    "            jc  =   j-ngrid/2.\n",
    "            for i in range(ngrid):\n",
    "                ic  =   i-ngrid/2.\n",
    "                r   =   np.sqrt(ic**2.+jc**2.)\n",
    "                if r<= rlim and self.psfPow[j,i]>1.e-10:\n",
    "                    decPow[j,i]=minPow[j,i]/self.psfPow[j,i]\n",
    "        return decPow,noiPow2,minPow\n",
    "    \n",
    "    def removeNoiPow(self,ngrid,galPow,noiPowR,rlim):\n",
    "        rlim2       =   max(27,rlim)\n",
    "        noiList     =   []\n",
    "        valList     =   []\n",
    "        if self.config.doFitNoiPow:\n",
    "            for j in range(ngrid):\n",
    "                for i in range(ngrid):\n",
    "                    ii=i-ngrid/2.\n",
    "                    jj=j-ngrid/2.\n",
    "                    r   =   np.sqrt(ii**2.+jj**2.)\n",
    "                    if r>rlim2:\n",
    "                        valList.append(galPow[j,i])\n",
    "                        noiList.append(noiPowR[:,j,i])\n",
    "            vl  =   np.array(valList)\n",
    "            nl  =   np.array(noiList)\n",
    "            nl  =   np.hstack([nl,np.ones((nl.shape[0],1))])\n",
    "            par =   np.linalg.lstsq(nl,vl)[0]\n",
    "            #self.log.info('%s' %par)\n",
    "            noiSub   =   np.zeros((ngrid,ngrid))\n",
    "            npar=   len(par)\n",
    "            for ipc in range(npar-1):\n",
    "                noiSub+=(par[ipc]*noiPowR[ipc])\n",
    "            noiSub  +=  par[-1]\n",
    "        else:\n",
    "            noiSub  =   noiPowR[0]\n",
    "        minPow  =   galPow-noiSub\n",
    "        return minPow,noiSub\n",
    "    \n",
    "    def measMoments(self,data):\n",
    "        height  =   data.shape[0]\n",
    "        width   =   data.shape[1]\n",
    "        chiC    =   self.shapeletsBase.chiC \n",
    "        chiS    =   self.shapeletsBase.chiS\n",
    "        M00     =   0.\n",
    "        M20     =   0.\n",
    "        M22c    =   0.\n",
    "        M22s    =   0.\n",
    "        M40     =   0.\n",
    "        M42c    =   0.\n",
    "        M42s    =   0.\n",
    "        for j in range(height):\n",
    "            for i in range(width):\n",
    "                M00 +=data[j,i]*chiC[0,0,j,i]\n",
    "                M20 +=data[j,i]*chiC[2,0,j,i]\n",
    "                M22c+=data[j,i]*chiC[2,2,j,i]\n",
    "                M22s+=data[j,i]*chiS[2,2,j,i]\n",
    "                M40 +=data[j,i]*chiC[4,0,j,i]\n",
    "                M42c+=data[j,i]*chiC[4,2,j,i]\n",
    "                M42s+=data[j,i]*chiS[4,2,j,i]\n",
    "        return np.array([M00,M20,M22c,M22s,M40,M42c,M42s]) \n",
    "    \n",
    "    def measure(self,galData):\n",
    "        galPow  =   self.getPow(galData)\n",
    "        #get the shapelets file\n",
    "        decPow,noiPowModel,minPow  =   self.deconvolvePow(galPow)\n",
    "        return self.measMoments(decPow)"
   ]
  },
  {
   "cell_type": "code",
   "execution_count": 122,
   "metadata": {},
   "outputs": [
    {
     "data": {
      "text/plain": [
       "<matplotlib.image.AxesImage at 0x7f3fea21aa50>"
      ]
     },
     "execution_count": 122,
     "metadata": {},
     "output_type": "execute_result"
    },
    {
     "data": {
      "image/png": "[encoded data removed]",
      "text/plain": [
       "<Figure size 432x288 with 1 Axes>"
      ]
     },
     "metadata": {
      "needs_background": "light"
     },
     "output_type": "display_data"
    }
   ],
   "source": [
    "plt.imshow(gal_image.array)"
   ]
  },
  {
   "cell_type": "code",
   "execution_count": 123,
   "metadata": {},
   "outputs": [
    {
     "name": "stdout",
     "output_type": "stream",
     "text": [
      "(64, 64)\n",
      "3.0706895973835158\n"
     ]
    }
   ],
   "source": [
    "psfData=np.pad(psfImg.array,(11,10))\n",
    "print(psfData.shape)\n",
    "fpTask=fpfsBaseTask(psfData)"
   ]
  },
  {
   "cell_type": "code",
   "execution_count": 124,
   "metadata": {},
   "outputs": [
    {
     "name": "stdout",
     "output_type": "stream",
     "text": [
      "-0.00497867971784556 0.01321946960652948\n",
      "18\n",
      "18\n",
      "18\n",
      "18\n",
      "[396.48995728 249.16614061 -82.44642019  22.41405659 208.9906972\n",
      " -66.22267861  17.66655112]\n",
      "[394.08534655 245.84950804 -23.32962255 -83.76262525 206.78584488\n",
      " -18.24409511 -66.7370084 ]\n"
     ]
    }
   ],
   "source": [
    "print(g1,g2)\n",
    "mm1=fpTask.measure(gal_image.array[:,0*ngrid:1*ngrid])\n",
    "mm2=fpTask.measure(gal_image.array[:,1*ngrid:2*ngrid])\n",
    "mm3=fpTask.measure(gal_image.array[:,2*ngrid:3*ngrid])\n",
    "mm4=fpTask.measure(gal_image.array[:,3*ngrid:4*ngrid])\n",
    "print(mm1)\n",
    "print(mm2)"
   ]
  },
  {
   "cell_type": "code",
   "execution_count": 134,
   "metadata": {},
   "outputs": [],
   "source": [
    "def momentsToElli(moments, doCalib=True):\n",
    "    const   =   1\n",
    "    #Get weight\n",
    "    weight  =   moments[:,1]+const\n",
    "    #FPFS flux\n",
    "    flux    =   moments[:,0]/weight\n",
    "    #Ellipticity\n",
    "    e1      =   -moments[:,2]/weight\n",
    "    e2      =   -moments[:,3]/weight\n",
    "    e41     =   -moments[:,5]/weight\n",
    "    e42     =   -moments[:,6]/weight\n",
    "    #Response factor \n",
    "    R1      =   1./np.sqrt(2.)*(moments[:,0]-moments[:,4])/weight+np.sqrt(6)*(e1*e41)\n",
    "    R2      =   1./np.sqrt(2.)*(moments[:,0]-moments[:,4])/weight+np.sqrt(6)*(e2*e42)\n",
    "    print(e41*e1)\n",
    "    RA      =   (R1+R2)/2.\n",
    "    e1  =   np.array(e1)\n",
    "    e2  =   np.array(e2)\n",
    "    RA  =   np.array(RA)\n",
    "    flux=   np.array(flux)\n",
    "    ndata=  len(e1)\n",
    "    ellDat      =   np.array(np.zeros(ndata),dtype=[('fpfs_e1','>f8'),('fpfs_e2','>f8'),('fpfs_RA','>f8'),('fpfs_flux','>f8')])\n",
    "    ellDat['fpfs_e1']=   e1\n",
    "    ellDat['fpfs_e2']=   e2\n",
    "    ellDat['fpfs_RA']=   RA\n",
    "    ellDat['fpfs_flux']= flux\n",
    "    return ellDat"
   ]
  },
  {
   "cell_type": "code",
   "execution_count": 135,
   "metadata": {},
   "outputs": [
    {
     "name": "stdout",
     "output_type": "stream",
     "text": [
      "[0.08724117 0.00698499 0.08863716 0.0084852 ]\n"
     ]
    },
    {
     "data": {
      "text/plain": [
       "('fpfs_e1', 'fpfs_e2', 'fpfs_RA', 'fpfs_flux')"
      ]
     },
     "execution_count": 135,
     "metadata": {},
     "output_type": "execute_result"
    }
   ],
   "source": [
    "ee=momentsToElli(np.vstack([mm1,mm2,mm3,mm4]))\n",
    "ee.dtype.names"
   ]
  },
  {
   "cell_type": "code",
   "execution_count": 137,
   "metadata": {},
   "outputs": [
    {
     "name": "stdout",
     "output_type": "stream",
     "text": [
      "1.8935022198691108e-05\n",
      "-1.6886651615592024e-05\n"
     ]
    }
   ],
   "source": [
    "print(np.sum(ee['fpfs_e1'])/np.sum(ee['fpfs_RA'])-g1)\n",
    "print(np.sum(ee['fpfs_e2'])/np.sum(ee['fpfs_RA'])-g2)"
   ]
  },
  {
   "cell_type": "code",
   "execution_count": 6,
   "metadata": {},
   "outputs": [
    {
     "ename": "SyntaxError",
     "evalue": "'return' outside function (<ipython-input-6-bd331ca186fb>, line 30)",
     "output_type": "error",
     "traceback": [
      "\u001b[0;36m  File \u001b[0;32m\"<ipython-input-6-bd331ca186fb>\"\u001b[0;36m, line \u001b[0;32m30\u001b[0m\n\u001b[0;31m    return\u001b[0m\n\u001b[0m    ^\u001b[0m\n\u001b[0;31mSyntaxError\u001b[0m\u001b[0;31m:\u001b[0m 'return' outside function\n"
     ]
    }
   ],
   "source": [
    "rng = galsim.BaseDeviate(ifield)\n",
    "max_variance=   np.max(var_image.array)\n",
    "var_image   =   max_variance - var_image\n",
    "vn          =   galsim.VariableGaussianNoise(rng,var_image)\n",
    "gal_image.addNoise(vn)\n",
    "corNoise    =   galsim.getCOSMOSNoise(file_name='./corPre/correlation.fits',rng=rng,cosmos_scale=scale,variance=variance)\n",
    "unCorNoise  =   galsim.UncorrelatedNoise(max_variance,rng=rng,scale=scale)\n",
    "corNoise    =   corNoise-unCorNoise\n",
    "corNoise.applyTo(gal_image)\n",
    "exposure    =   afwImg.ExposureF(nx*ngrid,ny*ngrid)\n",
    "exposure.getMaskedImage().getImage().getArray()[:,:]=gal_image.array\n",
    "exposure.getMaskedImage().getVariance().getArray()[:,:]=variance*rescale\n",
    "del gal_image\n",
    "del var_image\n",
    "#Set the PSF\n",
    "psfArray    =   psfImg.array\n",
    "ngridPsf    =   psfArray.shape[0]\n",
    "psfLsst     =   afwImg.ImageF(ngridPsf,ngridPsf)\n",
    "psfLsst.getArray()[:,:]= psfArray\n",
    "psfLsst     =   psfLsst.convertD()\n",
    "kernel      =   afwMath.FixedKernel(psfLsst)\n",
    "kernelPSF   =   meaAlg.KernelPsf(kernel)\n",
    "exposure.setPsf(kernelPSF)\n",
    "#prepare the wcs\n",
    "#Rotation\n",
    "cdelt   =   (0.168*afwGeom.arcseconds)\n",
    "CD      =   afwGeom.makeCdMatrix(cdelt, afwGeom.Angle(0.))#no rotation\n",
    "#wcs\n",
    "crval   =   afwCoord.IcrsCoord(0.*afwGeom.degrees, 0.*afwGeom.degrees)\n",
    "crpix   =   afwGeom.Point2D(0.0, 0.0)\n",
    "dataWcs =   afwGeom.makeSkyWcs(crpix,crval,CD)\n",
    "exposure.setWcs(dataWcs)\n",
    "#prepare the frc\n",
    "dataCalib = afwImg.Calib()\n",
    "dataCalib.setFluxMag0(63095734448.0194)\n",
    "exposure.setCalib(dataCalib)\n",
    "exposure.writeFits(outFname)\n",
    "del exposure\n",
    "t = Table(rows=data_rows, names=('ipos','COSMOS_INDEX','IDENT','RA','DEC','COSMOS_MAG','a_i','parent_seeing'))\n",
    "catPreName  =   os.path.join(catPre,'catalog-%04d.fits' %(ifield))\n",
    "t.write(catPreName,overwrite=True)"
   ]
  },
  {
   "cell_type": "code",
   "execution_count": null,
   "metadata": {},
   "outputs": [],
   "source": []
  }
 ],
 "metadata": {
  "kernelspec": {
   "display_name": "Python 3",
   "language": "python",
   "name": "python3"
  },
  "language_info": {
   "codemirror_mode": {
    "name": "ipython",
    "version": 3
   },
   "file_extension": ".py",
   "mimetype": "text/x-python",
   "name": "python",
   "nbconvert_exporter": "python",
   "pygments_lexer": "ipython3",
   "version": "3.7.8"
  }
 },
 "nbformat": 4,
 "nbformat_minor": 4
}
