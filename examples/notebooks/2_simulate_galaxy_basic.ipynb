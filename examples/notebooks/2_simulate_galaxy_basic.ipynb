{
 "cells": [
  {
   "cell_type": "code",
   "execution_count": null,
   "id": "b1d79f65-5e9f-4af9-8bde-0447b8152c9b",
   "metadata": {},
   "outputs": [],
   "source": [
    "%matplotlib inline\n",
    "%reload_ext autoreload\n",
    "%autoreload 2\n",
    "import os\n",
    "import json\n",
    "import fpfs\n",
    "import galsim\n",
    "import astropy.io.fits as pyfits\n",
    "from configparser import ConfigParser"
   ]
  },
  {
   "cell_type": "code",
   "execution_count": null,
   "id": "6889d99a-0f64-46e9-9811-633bb77edb4f",
   "metadata": {},
   "outputs": [],
   "source": [
    "def prepare_psf(pscale, seeing, psf_type, outdir):\n",
    "    psffname = os.path.join(outdir, \"psf-%d.fits\" % (seeing * 100))\n",
    "    if psf_type.lower() == \"moffat\":\n",
    "        psfInt = galsim.Moffat(\n",
    "            beta=3.5, fwhm=seeing, trunc=seeing * 4.0\n",
    "        ).shear(e1=0.02, e2=-0.02)\n",
    "    else:\n",
    "        raise ValueError(\"Only support moffat PSF.\")\n",
    "    psfImg = psfInt.drawImage(nx=45, ny=45, scale=pscale)\n",
    "    psfImg.write(psffname)\n",
    "    return psfInt"
   ]
  },
  {
   "cell_type": "code",
   "execution_count": null,
   "id": "51c95e6d-238c-4dd8-ba70-8123fbf44e9b",
   "metadata": {},
   "outputs": [],
   "source": [
    "Id = 1\n",
    "config_name = 'config_sim_gal.ini'\n",
    "cparser = ConfigParser()\n",
    "cparser.read(config_name)\n",
    "simname = cparser.get(\"simulation\", \"sim_name\")\n",
    "imgdir = cparser.get(\"simulation\", \"img_dir\")\n",
    "infname = cparser.get(\"simulation\", \"input_name\")\n",
    "scale = cparser.getfloat(\"survey\", \"pixel_scale\")\n",
    "image_nx = cparser.getint(\"survey\", \"image_nx\")\n",
    "image_ny = cparser.getint(\"survey\", \"image_ny\")\n",
    "assert image_ny == image_nx, \"'image_nx' must equals 'image_ny'!\"\n",
    "if \"basic\" in simname or \"small\" in simname:\n",
    "    assert image_nx % 256 == 0, \"'image_nx' must be divisible by 256 .\"\n",
    "outdir = os.path.join(imgdir, simname)\n",
    "if not os.path.exists(outdir):\n",
    "    os.makedirs(outdir, exist_ok=True)\n",
    "\n",
    "seeing = cparser.getfloat(\"survey\", \"psf_fwhm\")\n",
    "psfInt = prepare_psf(scale, seeing, psf_type=\"moffat\", outdir=outdir)\n",
    "\n",
    "glist = []\n",
    "if cparser.getboolean(\"distortion\", \"test_g1\"):\n",
    "    glist.append(\"g1\")\n",
    "if cparser.getboolean(\"distortion\", \"test_g2\"):\n",
    "    glist.append(\"g2\")\n",
    "if len(glist) > 0:\n",
    "    zlist = json.loads(cparser.get(\"distortion\", \"shear_z_list\"))\n",
    "    pendList = [\"%s-%s\" % (i1, i2) for i1 in glist for i2 in zlist]\n",
    "else:\n",
    "    # this is for non-distorted image simulation\n",
    "    pendList = [\"g1-1111\"]\n",
    "shear_value = cparser.getfloat(\"distortion\", \"shear_value\")\n",
    "\n",
    "\n",
    "\n",
    "variance = 0.01\n",
    "ud = galsim.UniformDeviate(1)\n",
    "\n",
    "p2List = [\"0000\", \"2222\"]\n",
    "p1List = [\"g1\"]\n",
    "pendList = [\"%s-%s\" % (i1, i2) for i1 in p1List for i2 in p2List]\n",
    "pp = pendList[0]\n",
    "sim_img = fpfs.simutil.make_basic_sim(\n",
    "    outdir,\n",
    "    infname,\n",
    "    psfInt,\n",
    "    pp,\n",
    "    Id,\n",
    "    image_ny,\n",
    "    image_nx,\n",
    "    scale,\n",
    "    shear_value,\n",
    "    return_array=True\n",
    ")"
   ]
  },
  {
   "cell_type": "code",
   "execution_count": 22,
   "id": "da680449-6634-479c-8bab-0734364d4df5",
   "metadata": {},
   "outputs": [
    {
     "data": {
      "text/plain": [
       "<matplotlib.image.AxesImage at 0x151a6b705510>"
      ]
     },
     "execution_count": 22,
     "metadata": {},
     "output_type": "execute_result"
    },
    {
     "data": {
      "image/png": "[encoded data removed]",
      "text/plain": [
       "<Figure size 640x480 with 1 Axes>"
      ]
     },
     "metadata": {},
     "output_type": "display_data"
    }
   ],
   "source": [
    "plt.imshow(sim_img)"
   ]
  }
 ],
 "metadata": {
  "kernelspec": {
   "display_name": "Python 3 (ipykernel)",
   "language": "python",
   "name": "python3"
  },
  "language_info": {
   "codemirror_mode": {
    "name": "ipython",
    "version": 3
   },
   "file_extension": ".py",
   "mimetype": "text/x-python",
   "name": "python",
   "nbconvert_exporter": "python",
   "pygments_lexer": "ipython3",
   "version": "3.10.6"
  }
 },
 "nbformat": 4,
 "nbformat_minor": 5
}
