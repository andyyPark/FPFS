{
 "cells": [
  {
   "cell_type": "code",
   "execution_count": 1,
   "metadata": {},
   "outputs": [
    {
     "name": "stdout",
     "output_type": "stream",
     "text": [
      "Populating the interactive namespace from numpy and matplotlib\n"
     ]
    }
   ],
   "source": [
    "%pylab inline\n",
    "import galsim\n",
    "import numpy as np\n",
    "import astropy.io.fits as pyfits\n",
    "import lsst.pipe.base as pipeBase"
   ]
  },
  {
   "cell_type": "code",
   "execution_count": 2,
   "metadata": {},
   "outputs": [
    {
     "name": "stdout",
     "output_type": "stream",
     "text": [
      "/home/xiangchong/work/gw_ipmu/work/FPFS2/sim\n"
     ]
    }
   ],
   "source": [
    "cd wrkDir/FPFS2/sim"
   ]
  },
  {
   "cell_type": "code",
   "execution_count": 15,
   "metadata": {},
   "outputs": [],
   "source": [
    "# PSF preparation\n",
    "ifield=1\n",
    "psfPre='psfPre'\n",
    "# Basic parameters\n",
    "ngrid       =   64\n",
    "nrot        =   4\n",
    "nx          =   nrot \n",
    "ny          =   1\n",
    "ndata       =   nx*ny\n",
    "scale       =   0.168\n",
    "ngridTot    =   ngrid*nx\n",
    "bigfft      =   galsim.GSParams(maximum_fft_size=10240)\n",
    "flux_scaling=   2.587\n",
    "\n",
    "# Get the psf and nosie information \n",
    "psfFname    =   os.path.join(psfPre,'psf%04d.fits'%(ifield))\n",
    "psfImg      =   galsim.fits.read(psfFname)\n",
    "noiseHead   =   pyfits.getheader(psfFname)\n",
    "psfInt      =   galsim.InterpolatedImage(psfImg,scale=scale,flux = 1.) \n",
    "# Get the shear information\n",
    "g1          =   noiseHead['g1']\n",
    "g2          =   noiseHead['g2']\n",
    "fwhm        =   noiseHead['fwhm'] \n",
    "variance    =   noiseHead['var']\n",
    "rescale     =   noiseHead['rescale']\n",
    "ud          =   galsim.UniformDeviate(ifield*10000+1)\n",
    "np.random.seed(ifield*10000+1)"
   ]
  },
  {
   "cell_type": "code",
   "execution_count": 16,
   "metadata": {},
   "outputs": [
    {
     "name": "stderr",
     "output_type": "stream",
     "text": [
      "/home/xiangchong/work/ana/lsstsw/miniconda/envs/lsst-scipipe-cb4e2dc/lib/python3.7/site-packages/galsim/deprecated/__init__.py:48: GalSimDeprecationWarning: RandomWalk has been deprecated since GalSim version 2.2.  Use RandomKnots instead.\n",
      "  warnings.warn(s, GalSimDeprecationWarning)\n"
     ]
    }
   ],
   "source": [
    "# setup the galaxy image and the noise image\n",
    "gal_image   =   galsim.ImageF(nx*ngrid,ny*ngrid,scale=scale)\n",
    "gal_image.setOrigin(0,0)\n",
    "var_image   =   galsim.ImageF(nx*ngrid,ny*ngrid,scale=scale)\n",
    "var_image.setOrigin(0,0)\n",
    "data_rows   =   []\n",
    "\n",
    "# Get the  galaxy generator      \n",
    "# Load data\n",
    "catName     =   'real_galaxy_catalog_25.2.fits'\n",
    "directory   =   '/home/xiangchong/work/gw_ipmu/work/galsim_train/COSMOS_25.2_training_sample/'\n",
    "cosmos_cat  =   galsim.COSMOSCatalog(catName, dir=directory)\n",
    "# index\n",
    "index_use   =   cosmos_cat.orig_index\n",
    "# parametric catalog\n",
    "param_cat   =   cosmos_cat.param_cat[index_use]\n",
    "index       =   ifield%81400\n",
    "record      =   param_cat[index]\n",
    "# prepare the galaxies\n",
    "gal0        =   cosmos_cat.makeGalaxy(gal_type='parametric',index=index,gsparams=bigfft)\n",
    "gal0        *=  flux_scaling\n",
    "use_bulgefit=   record['use_bulgefit']\n",
    "if use_bulgefit:\n",
    "    bparams = record['bulgefit']\n",
    "    gal_q   = bparams[3]\n",
    "    gal_beta= bparams[7]*galsim.radians\n",
    "    hlr     = record['hlr'][2]\n",
    "    bulge_flux= record['flux'][1]\n",
    "    disk_flux= record['flux'][2]\n",
    "    flux    = (bulge_flux+disk_flux)*flux_scaling\n",
    "else:\n",
    "    sparams =   record['sersicfit']\n",
    "    gal_q   =   sparams[3]\n",
    "    gal_beta=   sparams[7]*galsim.radians\n",
    "    hlr     =   record['hlr'][0]\n",
    "    flux    =   record['flux'][0]*flux_scaling\n",
    "# Get the SNR\n",
    "fluxRadius  =   record['flux_radius']\n",
    "snr         =   flux/fluxRadius/np.sqrt(np.pi)/np.sqrt(variance)\n",
    "npoints     =   ud()*50+50\n",
    "gal_not0    =   galsim.RandomWalk(half_light_radius=0.4,npoints=npoints,flux=flux)\n",
    "gal_not0    =   gal_not0.shear(q=gal_q,beta=gal_beta)\n",
    "for i in range(nrot):\n",
    "    # Prepare the subimage\n",
    "    ix      =   int(i%nx)\n",
    "    iy      =   int(i/nx)\n",
    "    b       =   galsim.BoundsI(ix*ngrid, (ix+1)*ngrid-1,iy*ngrid,(iy+1)*ngrid-1)\n",
    "    sub_gal_image = gal_image[b]\n",
    "    if i%nrot==0:\n",
    "        # Get the galaxy image\n",
    "        notRat  =   0.1#ud()*0.1\n",
    "        gal     =   gal0*(1.-notRat)+gal_not0*notRat\n",
    "        # Dilate the galaxy\n",
    "        #dilatS  =   1.+(ud()-0.5)*0.1\n",
    "        #gal     =   gal.dilate(dilatS)\n",
    "        # Rotate the galaxy\n",
    "        ang     =   ud()*2.*np.pi * galsim.radians\n",
    "        gal     =   gal.rotate(ang)\n",
    "        final   =   gal.shear(g1=g1,g2=g2)\n",
    "    else:\n",
    "        gal     =   gal.rotate(1./nrot*np.pi*galsim.radians)\n",
    "        final   =   gal.shear(g1=g1,g2=g2)\n",
    "    # Shear the galaxy\n",
    "    final     =   galsim.Convolve([psfInt,final],gsparams=bigfft)\n",
    "    # Draw the galaxy image\n",
    "    final.drawImage(sub_gal_image,method='no_pixel')"
   ]
  },
  {
   "cell_type": "code",
   "execution_count": 17,
   "metadata": {},
   "outputs": [],
   "source": [
    "class fpfsBaseTask():\n",
    "    _DefaultName = \"fpfsBase\"\n",
    "    def __init__(self,psfData):\n",
    "        self.ngrid   =   psfData.shape[0]\n",
    "        self.psfPow  =   self.getPow(psfData)\n",
    "        # Get PSF power and radius\n",
    "        self.beta    =   0.85\n",
    "        self.sigma   =   self.getHLRnaive(self.psfPow,self.beta)\n",
    "        self.prepareRlim()\n",
    "        self.chi     =   self.shapeletsPrepare(4)\n",
    "        return\n",
    "    \n",
    "    def getHLRnaive(self,imgData,beta):\n",
    "        # Get the half light radius of noiseless PSF\n",
    "        thres   =   imgData.max()*0.5\n",
    "        sigma   =   np.sum(imgData>thres)\n",
    "        sigma   =   np.sqrt(sigma/np.pi)*beta\n",
    "        sigma   =   max(1.,min(sigma,4.))\n",
    "        return sigma\n",
    "    \n",
    "    def prepareRlim(self):\n",
    "        # Get rlim\n",
    "        thres   =   1.e-4\n",
    "        for dist in range(12,30):\n",
    "            ave =  abs(np.exp(-dist**2./2./self.sigma**2.)/self.psfPow[ngrid//2+dist,ngrid//2])\n",
    "            ave +=  abs(np.exp(-dist**2./2./self.sigma**2.)/self.psfPow[ngrid//2,ngrid//2+dist])\n",
    "            ave =   ave/2.\n",
    "            if ave<=thres:\n",
    "                self.rlim=   dist\n",
    "                break\n",
    "        self.indX=np.arange(self.ngrid//2-self.rlim,self.ngrid//2+self.rlim+1)\n",
    "        self.indY=self.indX[:,None]\n",
    "        self.ind2D=np.ix_(self.indX,self.indX)\n",
    "        return\n",
    "    \n",
    "    def shapeletsPrepare(self,nord):\n",
    "        # Prepare the shapelets function\n",
    "        ngrid   =   self.ngrid\n",
    "        mord    =   nord\n",
    "        # Set up the r and theta function\n",
    "        xy1d    =   np.fft.fftshift(np.fft.fftfreq(ngrid,d=self.sigma/ngrid))\n",
    "        xfunc,yfunc=  np.meshgrid(xy1d,xy1d)\n",
    "        rfunc   =   np.sqrt(xfunc**2.+yfunc**2.)\n",
    "        gaufunc =   np.exp(-rfunc*rfunc/2.)\n",
    "        rmask   =   (rfunc!=0.)\n",
    "        xtfunc  =   np.zeros((ngrid,ngrid),dtype=np.float64)  \n",
    "        ytfunc  =   np.zeros((ngrid,ngrid),dtype=np.float64)\n",
    "        np.divide(xfunc,rfunc,where=rmask,out=xtfunc)\n",
    "        np.divide(yfunc,rfunc,where=rmask,out=ytfunc)\n",
    "        eulfunc = xtfunc+1j*ytfunc   \n",
    "        lfunc   =   np.zeros((nord+1,mord+1,ngrid,ngrid),dtype=np.float64)\n",
    "        chi     =   np.zeros((nord+1,mord+1,ngrid,ngrid),dtype=np.complex64)\n",
    "        # Set up l function\n",
    "        lfunc[0,:,:,:]=1.\n",
    "        lfunc[1,:,:,:]=1.-rfunc*rfunc+np.arange(mord+1)[None,:,None,None]\n",
    "        # \n",
    "        for n in range(2,nord+1):\n",
    "            for m in range(mord+1):\n",
    "                lfunc[n,m,:,:]=(2.+(m-1.-rfunc*rfunc)/n)*lfunc[n-1,m,:,:]-(1.+(m-1.)/n)*lfunc[n-2,m,:,:]\n",
    "        for nn in range(nord+1):\n",
    "            for mm in range(nn,-1,-2):\n",
    "                c1=(nn-abs(mm))//2\n",
    "                d1=(nn+abs(mm))//2\n",
    "                cc=np.math.factorial(c1)+0.\n",
    "                dd=np.math.factorial(d1)+0.\n",
    "                cc=cc/dd/np.pi\n",
    "                chi[nn,mm,:,:]=pow(-1.,d1)/self.sigma*pow(cc,0.5)*lfunc[c1,abs(mm),:,:]*pow(rfunc,abs(mm))*gaufunc*eulfunc**mm\n",
    "        return chi\n",
    "    \n",
    "    def getPow(self,galData):\n",
    "        galData.astype(np.float64)\n",
    "        # Get power function and subtract noise power\n",
    "        galpow  =   np.abs(np.fft.fft2(galData))**2.\n",
    "        galpow  =   np.fft.fftshift(galpow)\n",
    "        return galpow\n",
    "    \n",
    "    def deconvolvePow(self,galData,noiData=None):\n",
    "        # Deconvolve the galaxy power with the PSF power\n",
    "        \n",
    "        # Subtract the noiPow\n",
    "        ngrid   =   galData.shape[0]\n",
    "        if noiData is not None:\n",
    "            minPow,noiPow2  =   self.removeNoiPow(ngrid,galData,noiData,self.rlim)\n",
    "        else:\n",
    "            minPow=galData;noiPow2=None\n",
    "        decPow  =   np.zeros(galData.shape,dtype=np.float64)\n",
    "        decPow[self.ind2D]=minPow[self.ind2D]/self.psfPow[self.ind2D]\n",
    "        return decPow,noiPow2,minPow\n",
    "    \n",
    "    def removeNoiPow(self,ngrid,galPow,noiPowR,rlim):\n",
    "        rlim2       =   max(27,rlim)\n",
    "        noiList     =   []\n",
    "        valList     =   []\n",
    "        for j in range(ngrid):\n",
    "            for i in range(ngrid):\n",
    "                ii=i-ngrid/2.\n",
    "                jj=j-ngrid/2.\n",
    "                r   =   np.sqrt(ii**2.+jj**2.)\n",
    "                if r>rlim2:\n",
    "                    valList.append(galPow[j,i])\n",
    "                    noiList.append(noiPowR[:,j,i])\n",
    "        vl  =   np.array(valList)\n",
    "        nl  =   np.array(noiList)\n",
    "        nl  =   np.hstack([nl,np.ones((nl.shape[0],1))])\n",
    "        par =   np.linalg.lstsq(nl,vl)[0]\n",
    "        #self.log.info('%s' %par)\n",
    "        noiSub   =   np.zeros((ngrid,ngrid))\n",
    "        npar=   len(par)\n",
    "        for ipc in range(npar-1):\n",
    "            noiSub+=(par[ipc]*noiPowR[ipc])\n",
    "        noiSub  +=  par[-1]\n",
    "        minPow  =   galPow-noiSub\n",
    "        return minPow,noiSub\n",
    "    \n",
    "    def measMoments(self,data):\n",
    "        height  =   data.shape[0]\n",
    "        width   =   data.shape[1]\n",
    "        MAll    =   np.sum(data[None,None,self.indY,self.indX]*self.chi[::2,:4:2,self.indY,self.indX],axis=(2,3))\n",
    "        MC      =   MAll.real\n",
    "        MS      =   MAll.imag\n",
    "        types=[('fpfs_M00','>f8'),('fpfs_M20','>f8') ,('fpfs_M22c','>f8'),('fpfs_M22s','>f8'), \\\n",
    "               ('fpfs_M40','>f8'),('fpfs_M42c','>f8'),('fpfs_M42s','>f8')]\n",
    "        M00 =MC[0,0];M20 =MC[1,0];M40 =MC[2,0]\n",
    "        M22c=MC[1,1];M22s=MS[1,1]\n",
    "        M42c=MC[2,1];M42s=MS[2,1]\n",
    "        return np.array((M00,M20,M22c,M22s,M40,M42c,M42s),dtype=types) \n",
    "    \n",
    "    def measure(self,galData):\n",
    "        galPow  =   self.getPow(galData)\n",
    "        #get the shapelets file\n",
    "        decPow,noiPowModel,minPow  =   self.deconvolvePow(galPow)\n",
    "        return self.measMoments(decPow)"
   ]
  },
  {
   "cell_type": "code",
   "execution_count": 18,
   "metadata": {},
   "outputs": [],
   "source": [
    "ngrid=64\n",
    "xy1d=np.fft.fftshift(np.fft.fftfreq(ngrid,d=1./ngrid))\n",
    "xfun,yfun=  np.meshgrid(xy1d,xy1d)"
   ]
  },
  {
   "cell_type": "code",
   "execution_count": 19,
   "metadata": {},
   "outputs": [
    {
     "data": {
      "text/plain": [
       "<matplotlib.image.AxesImage at 0x7f2131277450>"
      ]
     },
     "execution_count": 19,
     "metadata": {},
     "output_type": "execute_result"
    },
    {
     "data": {
      "image/png": "[encoded data removed]",
      "text/plain": [
       "<Figure size 432x288 with 1 Axes>"
      ]
     },
     "metadata": {
      "needs_background": "light"
     },
     "output_type": "display_data"
    }
   ],
   "source": [
    "plt.imshow(gal_image.array)"
   ]
  },
  {
   "cell_type": "code",
   "execution_count": 20,
   "metadata": {},
   "outputs": [
    {
     "name": "stdout",
     "output_type": "stream",
     "text": [
      "(64, 64)\n"
     ]
    }
   ],
   "source": [
    "psfData=np.pad(psfImg.array,(11,10))\n",
    "print(psfData.shape)\n",
    "fpTask=fpfsBaseTask(psfData)"
   ]
  },
  {
   "cell_type": "code",
   "execution_count": 21,
   "metadata": {},
   "outputs": [
    {
     "data": {
      "text/plain": [
       "array((392.69023029, 241.50220884, -86.89885429, 9.98544668, 203.12971192, -67.75758076, 7.65989907),\n",
       "      dtype=[('fpfs_M00', '>f8'), ('fpfs_M20', '>f8'), ('fpfs_M22c', '>f8'), ('fpfs_M22s', '>f8'), ('fpfs_M40', '>f8'), ('fpfs_M42c', '>f8'), ('fpfs_M42s', '>f8')])"
      ]
     },
     "execution_count": 21,
     "metadata": {},
     "output_type": "execute_result"
    }
   ],
   "source": [
    "fpTask.measure(gal_image.array[:,0*ngrid:1*ngrid])"
   ]
  },
  {
   "cell_type": "code",
   "execution_count": 22,
   "metadata": {},
   "outputs": [],
   "source": [
    "def test_speed():\n",
    "    for i in range(10000):\n",
    "        fpTask=fpfsBaseTask(psfData)\n",
    "        fpTask.measure(gal_image.array[:,0*ngrid:1*ngrid])\n",
    "    return"
   ]
  },
  {
   "cell_type": "code",
   "execution_count": 108,
   "metadata": {},
   "outputs": [
    {
     "name": "stdout",
     "output_type": "stream",
     "text": [
      "CPU times: user 13.4 s, sys: 10 ms, total: 13.4 s\n",
      "Wall time: 13.4 s\n"
     ]
    }
   ],
   "source": [
    "# old code\n",
    "%time test_speed()"
   ]
  },
  {
   "cell_type": "code",
   "execution_count": 139,
   "metadata": {},
   "outputs": [
    {
     "name": "stdout",
     "output_type": "stream",
     "text": [
      "CPU times: user 4.38 s, sys: 3.38 ms, total: 4.39 s\n",
      "Wall time: 4.39 s\n"
     ]
    }
   ],
   "source": [
    "# new code\n",
    "%time test_speed()"
   ]
  },
  {
   "cell_type": "code",
   "execution_count": 27,
   "metadata": {},
   "outputs": [
    {
     "name": "stdout",
     "output_type": "stream",
     "text": [
      "CPU times: user 13.1 s, sys: 20.4 ms, total: 13.1 s\n",
      "Wall time: 13.1 s\n"
     ]
    }
   ],
   "source": [
    "# new code 2\n",
    "%time test_speed()"
   ]
  },
  {
   "cell_type": "code",
   "execution_count": 23,
   "metadata": {},
   "outputs": [
    {
     "name": "stdout",
     "output_type": "stream",
     "text": [
      "-0.00497867971784556 0.01321946960652948\n",
      "(392.69023029, 241.50220884, -86.89885429, 9.98544668, 203.12971192, -67.75758076, 7.65989907)\n",
      "(390.31306133, 238.32083964, -11.26069473, -88.20044497, 201.13901118, -8.57178906, -68.19744476)\n"
     ]
    }
   ],
   "source": [
    "print(g1,g2)\n",
    "mm1=fpTask.measure(gal_image.array[:,0*ngrid:1*ngrid])\n",
    "mm2=fpTask.measure(gal_image.array[:,1*ngrid:2*ngrid])\n",
    "mm3=fpTask.measure(gal_image.array[:,2*ngrid:3*ngrid])\n",
    "mm4=fpTask.measure(gal_image.array[:,3*ngrid:4*ngrid])\n",
    "print(mm1)\n",
    "print(mm2)"
   ]
  },
  {
   "cell_type": "code",
   "execution_count": 24,
   "metadata": {},
   "outputs": [],
   "source": [
    "def momentsToElli(moments, doCalib=True):\n",
    "    const   =   1\n",
    "    #Get weight\n",
    "    weight  =   moments['fpfs_M20']+const\n",
    "    #FPFS flux\n",
    "    flux    =   moments['fpfs_M00']/weight\n",
    "    #Ellipticity\n",
    "    e1      =   -moments['fpfs_M22c']/weight\n",
    "    e2      =   -moments['fpfs_M22s']/weight\n",
    "    e41     =   -moments['fpfs_M42c']/weight\n",
    "    e42     =   -moments['fpfs_M42s']/weight\n",
    "    #Response factor \n",
    "    R1      =   1./np.sqrt(2.)*(moments['fpfs_M00']-moments['fpfs_M40'])/weight+np.sqrt(6)*(e1*e41)\n",
    "    R2      =   1./np.sqrt(2.)*(moments['fpfs_M00']-moments['fpfs_M40'])/weight+np.sqrt(6)*(e2*e42)\n",
    "    RA      =   (R1+R2)/2.\n",
    "    ellDat      =   np.array(np.zeros(len(e1)),dtype=[('fpfs_e1','>f8'),('fpfs_e2','>f8'),('fpfs_RA','>f8'),('fpfs_flux','>f8')])\n",
    "    ellDat['fpfs_e1']=e1.transpose()\n",
    "    ellDat['fpfs_e2']=e2.transpose()\n",
    "    ellDat['fpfs_RA']=RA.transpose()\n",
    "    ellDat['fpfs_flux']=flux.transpose()\n",
    "    return ellDat"
   ]
  },
  {
   "cell_type": "code",
   "execution_count": 25,
   "metadata": {},
   "outputs": [],
   "source": [
    "ee=momentsToElli(np.vstack([mm1,mm2,mm3,mm4]))"
   ]
  },
  {
   "cell_type": "code",
   "execution_count": 26,
   "metadata": {},
   "outputs": [
    {
     "name": "stdout",
     "output_type": "stream",
     "text": [
      "1.3809740906002392e-05\n",
      "-1.8572630685017785e-05\n"
     ]
    }
   ],
   "source": [
    "print(np.sum(ee['fpfs_e1'])/np.sum(ee['fpfs_RA'])-g1)\n",
    "print(np.sum(ee['fpfs_e2'])/np.sum(ee['fpfs_RA'])-g2)"
   ]
  },
  {
   "cell_type": "code",
   "execution_count": null,
   "metadata": {},
   "outputs": [],
   "source": [
    "rng = galsim.BaseDeviate(ifield)\n",
    "max_variance=   np.max(var_image.array)\n",
    "var_image   =   max_variance - var_image\n",
    "vn          =   galsim.VariableGaussianNoise(rng,var_image)\n",
    "gal_image.addNoise(vn)\n",
    "corNoise    =   galsim.getCOSMOSNoise(file_name='./corPre/correlation.fits',rng=rng,cosmos_scale=scale,variance=variance)\n",
    "unCorNoise  =   galsim.UncorrelatedNoise(max_variance,rng=rng,scale=scale)\n",
    "corNoise    =   corNoise-unCorNoise\n",
    "corNoise.applyTo(gal_image)\n",
    "exposure    =   afwImg.ExposureF(nx*ngrid,ny*ngrid)\n",
    "exposure.getMaskedImage().getImage().getArray()[:,:]=gal_image.array\n",
    "exposure.getMaskedImage().getVariance().getArray()[:,:]=variance*rescale\n",
    "del gal_image\n",
    "del var_image\n",
    "#Set the PSF\n",
    "psfArray    =   psfImg.array\n",
    "ngridPsf    =   psfArray.shape[0]\n",
    "psfLsst     =   afwImg.ImageF(ngridPsf,ngridPsf)\n",
    "psfLsst.getArray()[:,:]= psfArray\n",
    "psfLsst     =   psfLsst.convertD()\n",
    "kernel      =   afwMath.FixedKernel(psfLsst)\n",
    "kernelPSF   =   meaAlg.KernelPsf(kernel)\n",
    "exposure.setPsf(kernelPSF)\n",
    "#prepare the wcs\n",
    "#Rotation\n",
    "cdelt   =   (0.168*afwGeom.arcseconds)\n",
    "CD      =   afwGeom.makeCdMatrix(cdelt, afwGeom.Angle(0.))#no rotation\n",
    "#wcs\n",
    "crval   =   afwCoord.IcrsCoord(0.*afwGeom.degrees, 0.*afwGeom.degrees)\n",
    "crpix   =   afwGeom.Point2D(0.0, 0.0)\n",
    "dataWcs =   afwGeom.makeSkyWcs(crpix,crval,CD)\n",
    "exposure.setWcs(dataWcs)\n",
    "#prepare the frc\n",
    "dataCalib = afwImg.Calib()\n",
    "dataCalib.setFluxMag0(63095734448.0194)\n",
    "exposure.setCalib(dataCalib)\n",
    "exposure.writeFits(outFname)\n",
    "del exposure\n",
    "t = Table(rows=data_rows, names=('ipos','COSMOS_INDEX','IDENT','RA','DEC','COSMOS_MAG','a_i','parent_seeing'))\n",
    "catPreName  =   os.path.join(catPre,'catalog-%04d.fits' %(ifield))\n",
    "t.write(catPreName,overwrite=True)"
   ]
  },
  {
   "cell_type": "code",
   "execution_count": null,
   "metadata": {},
   "outputs": [],
   "source": []
  }
 ],
 "metadata": {
  "kernelspec": {
   "display_name": "Python 3",
   "language": "python",
   "name": "python3"
  },
  "language_info": {
   "codemirror_mode": {
    "name": "ipython",
    "version": 3
   },
   "file_extension": ".py",
   "mimetype": "text/x-python",
   "name": "python",
   "nbconvert_exporter": "python",
   "pygments_lexer": "ipython3",
   "version": "3.7.8"
  }
 },
 "nbformat": 4,
 "nbformat_minor": 4
}
