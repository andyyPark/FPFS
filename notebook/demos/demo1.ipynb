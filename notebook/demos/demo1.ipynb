{
 "cells": [
  {
   "cell_type": "code",
   "execution_count": 7,
   "id": "ec2d446f-677d-4fe5-ace5-776239f5faa2",
   "metadata": {},
   "outputs": [],
   "source": [
    "%matplotlib inline\n",
    "\n",
    "import gc\n",
    "import time\n",
    "import fpfs\n",
    "\n",
    "import numpy as np\n",
    "import matplotlib.pyplot as plt\n",
    "import numpy.lib.recfunctions as rfn"
   ]
  },
  {
   "cell_type": "code",
   "execution_count": 32,
   "id": "e93fd6d5",
   "metadata": {},
   "outputs": [],
   "source": [
    "def analyze_FPFS(rng:np.random.RandomState, input_shear:np.ndarray, num_gals:int,\\\n",
    "        noi_stds,noi_psf=1e-9) -> tuple[np.ndarray,np.ndarray]:\n",
    "    noi_stds=   np.array(noi_stds)\n",
    "    if len(noi_stds.shape)==0:\n",
    "        noi_stds=np.array([noi_stds])\n",
    "    elif len(noi_stds.shape)>=2:\n",
    "        raise ValueError('The input noi_stds should be float or 1d list')\n",
    "    x       =   []      # SNR\n",
    "    y       =   []      # estimated shear\n",
    "    y_err   =   []      # error on shear\n",
    "    # I am calling this simulation task:\n",
    "    # https://github.com/mr-superonion/FPFS/blob/188ba8679b4db401129e7504ea5126143bafdee4/fpfs/simutil.py#L163\n",
    "    testTask=   fpfs.simutil.sim_test(shear=input_shear,rng=rng)\n",
    "    ngrid   =   testTask.img.shape[0]\n",
    "    flux_gal=   np.sum(testTask.img[ngrid//2-2:ngrid//2+3,ngrid//2-2:ngrid//2+3])\n",
    "    ngrid   =   testTask.psf.shape[0]\n",
    "    rcut    =   16\n",
    "    beg     =   ngrid//2-rcut\n",
    "    end     =   beg+2*rcut\n",
    "    psf     =   testTask.psf[beg:end,beg:end]\n",
    "    gc.collect()\n",
    "    num_tests=  noi_stds.size\n",
    "    for i in range(num_tests):\n",
    "        noii    =   noi_stds[i]\n",
    "        x.append(flux_gal/(noii*5))\n",
    "        # initialize FPFS task with psf and noise variance\n",
    "        # beta<1 is the FPFS scale parameter\n",
    "        fpTask  =   fpfs.fpfsBase.fpfsTask(psf,noiFit=noii**2.,beta=0.75)\n",
    "        if noii<=1e-10:\n",
    "            print('noise level is too small; therefore, we only simulate one galaxy')\n",
    "            num_tmp=1\n",
    "        else:\n",
    "            num_tmp=num_gals\n",
    "        start= time.time()\n",
    "        results =   []\n",
    "        for _ in range(num_tmp):\n",
    "            gal =   testTask.make_image(noise=noii,psf_noise=noi_psf)[0]\n",
    "            ngrid=  gal.shape[0]\n",
    "            beg =   ngrid//2-rcut\n",
    "            end =   beg+2*rcut\n",
    "            gal =   gal[beg:end,beg:end]\n",
    "            modes=  fpTask.measure(gal)\n",
    "            results.append(modes)\n",
    "            del gal,modes,beg,end,ngrid\n",
    "        end =   time.time()\n",
    "        print('%.5f seconds to process %d galaxies' %(end-start,num_tmp))\n",
    "        mms =   rfn.stack_arrays(results,usemask=False)\n",
    "        ells=   fpfs.fpfsBase.fpfsM2E(mms,const=2000,noirev=False)\n",
    "        del mms,results\n",
    "        resp=np.average(ells['fpfs_RE'])\n",
    "        shear=np.average(ells['fpfs_e1'])/resp\n",
    "        shear_err=np.std(ells['fpfs_e1'])/np.abs(resp)/np.sqrt(num_gals)\n",
    "        y.append(shear)\n",
    "        y_err.append(shear_err)\n",
    "    return np.array(x),np.array(y), np.array(y_err)"
   ]
  },
  {
   "cell_type": "code",
   "execution_count": 34,
   "id": "1bbc6a71-e94c-41a1-b131-aea3184b9a48",
   "metadata": {},
   "outputs": [
    {
     "name": "stdout",
     "output_type": "stream",
     "text": [
      "2.81993 seconds to process 10000 galaxies\n",
      "2.76391 seconds to process 10000 galaxies\n",
      "2.68569 seconds to process 10000 galaxies\n",
      "2.68631 seconds to process 10000 galaxies\n",
      "2.69942 seconds to process 10000 galaxies\n"
     ]
    }
   ],
   "source": [
    "rng     =   np.random.RandomState(212)\n",
    "noi_stds=   np.logspace(-4, -2, 5, base=10.0)\n",
    "num_gals=   10000\n",
    "snr,g1,g1err=   analyze_FPFS(rng,np.array([0.03, 0.00]),num_gals,noi_stds)"
   ]
  },
  {
   "cell_type": "code",
   "execution_count": 38,
   "id": "c33bb684-b05d-4eee-8159-8cec0e62b82d",
   "metadata": {},
   "outputs": [
    {
     "data": {
      "image/png": "[encoded data removed]",
      "text/plain": [
       "<Figure size 432x288 with 1 Axes>"
      ]
     },
     "metadata": {
      "needs_background": "light"
     },
     "output_type": "display_data"
    }
   ],
   "source": [
    "plt.close()\n",
    "plt.errorbar(snr,g1,g1err)\n",
    "plt.xlabel('SNR',fontsize=20,weight='bold')\n",
    "plt.ylabel(r'$\\hat{g}_1$')\n",
    "plt.grid()\n",
    "plt.xscale('log')"
   ]
  },
  {
   "cell_type": "code",
   "execution_count": 46,
   "id": "af3737af-c142-4e14-bd1c-95a5f6772776",
   "metadata": {},
   "outputs": [
    {
     "name": "stdout",
     "output_type": "stream",
     "text": [
      "SNR is 26.79\n"
     ]
    },
    {
     "data": {
      "text/plain": [
       "Text(0.5, 1.0, 'SNR=$26.79$')"
      ]
     },
     "execution_count": 46,
     "metadata": {},
     "output_type": "execute_result"
    },
    {
     "data": {
      "image/png": "[encoded data removed]",
      "text/plain": [
       "<Figure size 432x288 with 1 Axes>"
      ]
     },
     "metadata": {
      "needs_background": "light"
     },
     "output_type": "display_data"
    }
   ],
   "source": [
    "testTask=   fpfs.simutil.sim_test(shear=[0,0],rng=rng)\n",
    "ngrid   =   testTask.img.shape[0]\n",
    "flux_gal=   np.sum(testTask.img[ngrid//2-2:ngrid//2+3,ngrid//2-2:ngrid//2+3])\n",
    "noi_std =   3e-3\n",
    "print('SNR is %.2f' %(flux_gal/(noi_std*5)))\n",
    "gal =   testTask.make_image(noise=noi_std,psf_noise=0.)[0]\n",
    "plt.close()\n",
    "plt.imshow(gal)\n",
    "plt.title(r'SNR=$%.2f$'%(flux_gal/(noi_std*5)),fontsize=20)"
   ]
  },
  {
   "cell_type": "code",
   "execution_count": null,
   "id": "5aa129de-6b01-461f-80f0-e4eb1c975b17",
   "metadata": {},
   "outputs": [],
   "source": []
  }
 ],
 "metadata": {
  "kernelspec": {
   "display_name": "Python 3 (ipykernel)",
   "language": "python",
   "name": "python3"
  },
  "language_info": {
   "codemirror_mode": {
    "name": "ipython",
    "version": 3
   },
   "file_extension": ".py",
   "mimetype": "text/x-python",
   "name": "python",
   "nbconvert_exporter": "python",
   "pygments_lexer": "ipython3",
   "version": "3.9.10"
  }
 },
 "nbformat": 4,
 "nbformat_minor": 5
}
