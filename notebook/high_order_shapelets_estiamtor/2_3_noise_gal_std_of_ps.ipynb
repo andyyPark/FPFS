{
 "cells": [
  {
   "cell_type": "code",
   "execution_count": 1,
   "metadata": {},
   "outputs": [
    {
     "name": "stdout",
     "output_type": "stream",
     "text": [
      "Populating the interactive namespace from numpy and matplotlib\n"
     ]
    }
   ],
   "source": [
    "%pylab inline\n",
    "import galsim\n",
    "import numpy as np\n",
    "import astropy.io.fits as pyfits"
   ]
  },
  {
   "cell_type": "code",
   "execution_count": 2,
   "metadata": {},
   "outputs": [
    {
     "name": "stdout",
     "output_type": "stream",
     "text": [
      "/home/xiangchong/work/gw_ipmu/work/FPFS2/sim\n"
     ]
    }
   ],
   "source": [
    "cd wrkDir/FPFS2/sim"
   ]
  },
  {
   "cell_type": "markdown",
   "metadata": {},
   "source": [
    "+ notebook 2_2's conclusion no longer correct when we have both galaxy and noise\n",
    "+ We eq_var_res_noisyGal"
   ]
  },
  {
   "cell_type": "code",
   "execution_count": 16,
   "metadata": {},
   "outputs": [],
   "source": [
    "# PSF preparation\n",
    "ifield=1\n",
    "psfPre='psfPre'\n",
    "# Basic parameters\n",
    "ngrid       =   64\n",
    "nrot        =   1\n",
    "nx          =   nrot \n",
    "ny          =   1\n",
    "ndata       =   nx*ny\n",
    "scale       =   0.168\n",
    "ngridTot    =   ngrid*nx\n",
    "bigfft      =   galsim.GSParams(maximum_fft_size=10240)\n",
    "flux_scaling=   2.587\n",
    "\n",
    "# Get the psf and nosie information \n",
    "psfFname    =   os.path.join(psfPre,'psf%04d.fits'%(ifield))\n",
    "psfImg      =   galsim.fits.read(psfFname)\n",
    "noiseHead   =   pyfits.getheader(psfFname)\n",
    "psfInt      =   galsim.InterpolatedImage(psfImg,scale=scale,flux = 1.) \n",
    "# Get the shear information\n",
    "g1          =   noiseHead['g1']\n",
    "g2          =   noiseHead['g2']\n",
    "fwhm        =   noiseHead['fwhm'] \n",
    "#variance    =   noiseHead['var']\n",
    "variance    =   noiseHead['var']/15.\n",
    "rescale     =   noiseHead['rescale']\n",
    "ud          =   galsim.UniformDeviate(ifield*10000+1)\n",
    "np.random.seed(ifield*10000+1)"
   ]
  },
  {
   "cell_type": "code",
   "execution_count": 17,
   "metadata": {},
   "outputs": [],
   "source": [
    "# setup the galaxy image and the noise image\n",
    "gal_image   =   galsim.ImageF(nx*ngrid,ny*ngrid,scale=scale)\n",
    "gal_image.setOrigin(0,0)\n",
    "data_rows   =   []\n",
    "\n",
    "# Get the  galaxy generator      \n",
    "# Load data\n",
    "catName     =   'real_galaxy_catalog_25.2.fits'\n",
    "directory   =   '/home/xiangchong/work/gw_ipmu/work/galsim_train/COSMOS_25.2_training_sample/'\n",
    "cosmos_cat  =   galsim.COSMOSCatalog(catName, dir=directory)\n",
    "# index\n",
    "index_use   =   cosmos_cat.orig_index\n",
    "# parametric catalog\n",
    "param_cat   =   cosmos_cat.param_cat[index_use]\n",
    "index       =   ifield%81400\n",
    "record      =   param_cat[index]\n",
    "# prepare the galaxies\n",
    "gal0        =   cosmos_cat.makeGalaxy(gal_type='parametric',index=index,gsparams=bigfft)\n",
    "gal0        *=  flux_scaling\n",
    "use_bulgefit=   record['use_bulgefit']\n",
    "if use_bulgefit:\n",
    "    bparams = record['bulgefit']\n",
    "    gal_q   = bparams[3]\n",
    "    gal_beta= bparams[7]*galsim.radians\n",
    "    hlr     = record['hlr'][2]\n",
    "    bulge_flux= record['flux'][1]\n",
    "    disk_flux= record['flux'][2]\n",
    "    flux    = (bulge_flux+disk_flux)*flux_scaling\n",
    "else:\n",
    "    sparams =   record['sersicfit']\n",
    "    gal_q   =   sparams[3]\n",
    "    gal_beta=   sparams[7]*galsim.radians\n",
    "    hlr     =   record['hlr'][0]\n",
    "    flux    =   record['flux'][0]*flux_scaling\n",
    "# Get the SNR\n",
    "fluxRadius  =   record['flux_radius']\n",
    "snr         =   flux/fluxRadius/np.sqrt(np.pi)/np.sqrt(variance)\n",
    "npoints     =   ud()*50+50\n",
    "gal_not0    =   galsim.RandomWalk(half_light_radius=0.4,npoints=npoints,flux=flux)\n",
    "gal_not0    =   gal_not0.shear(q=gal_q,beta=gal_beta)\n",
    "for i in range(nrot):\n",
    "    # Prepare the subimage\n",
    "    ix      =   int(i%nx)\n",
    "    iy      =   int(i/nx)\n",
    "    b       =   galsim.BoundsI(ix*ngrid, (ix+1)*ngrid-1,iy*ngrid,(iy+1)*ngrid-1)\n",
    "    sub_gal_image = gal_image[b]\n",
    "    if i%nrot==0:\n",
    "        # Get the galaxy image\n",
    "        notRat  =   0.1#ud()*0.1\n",
    "        gal     =   gal0*(1.-notRat)+gal_not0*notRat\n",
    "        # Dilate the galaxy\n",
    "        dilatS  =   1.+(ud()-0.5)*0.1\n",
    "        gal     =   gal.dilate(dilatS)\n",
    "        # Rotate the galaxy\n",
    "        ang     =   ud()*2.*np.pi * galsim.radians\n",
    "        gal     =   gal.rotate(ang)\n",
    "        final   =   gal.shear(g1=g1,g2=g2)\n",
    "    else:\n",
    "        gal     =   gal.rotate(1./nrot*np.pi*galsim.radians)\n",
    "        final   =   gal.shear(g1=g1,g2=g2)\n",
    "    # Shear the galaxy\n",
    "    final     =   galsim.Convolve([psfInt,final],gsparams=bigfft)\n",
    "    # Draw the galaxy image\n",
    "    final.drawImage(sub_gal_image,method='no_pixel')"
   ]
  },
  {
   "cell_type": "code",
   "execution_count": 18,
   "metadata": {},
   "outputs": [],
   "source": [
    "corPre='corPre'\n",
    "corFname    =   os.path.join(corPre,'correlation.fits')\n",
    "corNoise    =   galsim.getCOSMOSNoise(file_name=corFname,rng=ud,cosmos_scale=scale,variance=variance)"
   ]
  },
  {
   "cell_type": "code",
   "execution_count": 19,
   "metadata": {},
   "outputs": [
    {
     "data": {
      "text/plain": [
       "<matplotlib.image.AxesImage at 0x7f7f40972bd0>"
      ]
     },
     "execution_count": 19,
     "metadata": {},
     "output_type": "execute_result"
    },
    {
     "data": {
      "image/png": "[encoded data removed]",
      "text/plain": [
       "<Figure size 432x288 with 1 Axes>"
      ]
     },
     "metadata": {
      "needs_background": "light"
     },
     "output_type": "display_data"
    }
   ],
   "source": [
    "ng_image=gal_image.copy()\n",
    "corNoise.applyTo(ng_image)\n",
    "plt.imshow(ng_image.array)"
   ]
  },
  {
   "cell_type": "code",
   "execution_count": 24,
   "metadata": {},
   "outputs": [
    {
     "data": {
      "text/plain": [
       "<matplotlib.image.AxesImage at 0x7f7f31d8fa50>"
      ]
     },
     "execution_count": 24,
     "metadata": {},
     "output_type": "execute_result"
    },
    {
     "data": {
      "image/png": "[encoded data removed]",
      "text/plain": [
       "<Figure size 432x288 with 1 Axes>"
      ]
     },
     "metadata": {
      "needs_background": "light"
     },
     "output_type": "display_data"
    }
   ],
   "source": [
    "gal_array=gal_image.array\n",
    "galPMea=np.abs(np.fft.fft2(gal_array))**2.\n",
    "plt.imshow(galPMea)"
   ]
  },
  {
   "cell_type": "code",
   "execution_count": 29,
   "metadata": {},
   "outputs": [
    {
     "name": "stdout",
     "output_type": "stream",
     "text": [
      "0.9228881887191775\n"
     ]
    }
   ],
   "source": [
    "# Estimate Power spectrum\n",
    "noiPMea=np.zeros((ngrid,ngrid))\n",
    "num=0\n",
    "for i in range(8000):\n",
    "    noi_image   =   galsim.ImageF(ngrid,ngrid,scale=scale)\n",
    "    corNoise.applyTo(noi_image)\n",
    "    noi_array=noi_image.array\n",
    "    noiPMea+=np.abs(np.fft.fft2(noi_array))**2.\n",
    "    num+=1\n",
    "# make sure the <n(k)n(k)>=0\n",
    "noiPMea=noiPMea/num\n",
    "print(np.average(noiPMea))"
   ]
  },
  {
   "cell_type": "code",
   "execution_count": 38,
   "metadata": {},
   "outputs": [
    {
     "name": "stdout",
     "output_type": "stream",
     "text": [
      "0.0003403048825361236\n"
     ]
    },
    {
     "data": {
      "text/plain": [
       "<matplotlib.image.AxesImage at 0x7f7f31a9d990>"
      ]
     },
     "execution_count": 38,
     "metadata": {},
     "output_type": "execute_result"
    },
    {
     "data": {
      "image/png": "[encoded data removed]",
      "text/plain": [
       "<Figure size 432x288 with 1 Axes>"
      ]
     },
     "metadata": {
      "needs_background": "light"
     },
     "output_type": "display_data"
    }
   ],
   "source": [
    "# Estimate Power spectrum\n",
    "ngPMea=np.zeros((ngrid,ngrid))\n",
    "num=0\n",
    "for i in range(10000):\n",
    "    ng_image=gal_image.copy()\n",
    "    corNoise.applyTo(ng_image)\n",
    "    ng_array=ng_image.array\n",
    "    ngPMea+=np.abs(np.fft.fft2(ng_array))**2.\n",
    "    num+=1\n",
    "# make sure the <n(k)n(k)>=0\n",
    "resPMea=ngPMea/num-galPMea-noiPMea\n",
    "print(np.average(resPMea))\n",
    "plt.imshow(np.fft.fftshift(resPMea))"
   ]
  },
  {
   "cell_type": "code",
   "execution_count": 39,
   "metadata": {},
   "outputs": [],
   "source": [
    "# Estimate Power spectrum\n",
    "res2PMea=np.zeros((ngrid,ngrid))\n",
    "num=0\n",
    "for i in range(10000):\n",
    "    ng_image=gal_image.copy()\n",
    "    corNoise.applyTo(ng_image)\n",
    "    ng_array=ng_image.array\n",
    "    res2PMea+=(np.abs(np.fft.fft2(ng_array))**2.-galPMea-noiPMea)**2.\n",
    "    num+=1"
   ]
  },
  {
   "cell_type": "code",
   "execution_count": 40,
   "metadata": {},
   "outputs": [],
   "source": [
    "resStd=res2PMea/num\n",
    "resStd=np.sqrt(resStd)"
   ]
  },
  {
   "cell_type": "code",
   "execution_count": 41,
   "metadata": {},
   "outputs": [
    {
     "name": "stdout",
     "output_type": "stream",
     "text": [
      "1.1399299066862947\n"
     ]
    },
    {
     "data": {
      "image/png": "[encoded data removed]",
      "text/plain": [
       "<Figure size 432x288 with 1 Axes>"
      ]
     },
     "metadata": {
      "needs_background": "light"
     },
     "output_type": "display_data"
    }
   ],
   "source": [
    "plt.imshow(fft.fftshift(resStd))"
   ]
  },
  {
   "cell_type": "code",
   "execution_count": 45,
   "metadata": {},
   "outputs": [
    {
     "data": {
      "text/plain": [
       "<matplotlib.image.AxesImage at 0x7f7f31e38e10>"
      ]
     },
     "execution_count": 45,
     "metadata": {},
     "output_type": "execute_result"
    },
    {
     "data": {
      "image/png": "[encoded data removed]",
      "text/plain": [
       "<Figure size 432x288 with 1 Axes>"
      ]
     },
     "metadata": {
      "needs_background": "light"
     },
     "output_type": "display_data"
    }
   ],
   "source": [
    "predict=2*galPMea*noiPMea+noiPMea**2.\n",
    "plt.imshow(fft.fftshift(np.sqrt(predict)))"
   ]
  },
  {
   "cell_type": "code",
   "execution_count": 47,
   "metadata": {},
   "outputs": [
    {
     "name": "stdout",
     "output_type": "stream",
     "text": [
      "-1.0865459453979842\n"
     ]
    },
    {
     "data": {
      "image/png": "[encoded data removed]",
      "text/plain": [
       "<Figure size 432x288 with 1 Axes>"
      ]
     },
     "metadata": {
      "needs_background": "light"
     },
     "output_type": "display_data"
    }
   ],
   "source": [
    "out=resStd-predict\n",
    "plt.imshow(out)\n",
    "print(np.average(out))"
   ]
  },
  {
   "cell_type": "code",
   "execution_count": null,
   "metadata": {},
   "outputs": [],
   "source": []
  },
  {
   "cell_type": "code",
   "execution_count": null,
   "metadata": {},
   "outputs": [],
   "source": []
  }
 ],
 "metadata": {
  "kernelspec": {
   "display_name": "Python 3",
   "language": "python",
   "name": "python3"
  },
  "language_info": {
   "codemirror_mode": {
    "name": "ipython",
    "version": 3
   },
   "file_extension": ".py",
   "mimetype": "text/x-python",
   "name": "python",
   "nbconvert_exporter": "python",
   "pygments_lexer": "ipython3",
   "version": "3.7.6"
  }
 },
 "nbformat": 4,
 "nbformat_minor": 4
}
