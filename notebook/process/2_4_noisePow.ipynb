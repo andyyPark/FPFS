{
 "cells": [
  {
   "cell_type": "code",
   "execution_count": 1,
   "metadata": {},
   "outputs": [
    {
     "name": "stdout",
     "output_type": "stream",
     "text": [
      "Populating the interactive namespace from numpy and matplotlib\n"
     ]
    }
   ],
   "source": [
    "%pylab inline\n",
    "import gc\n",
    "import galsim\n",
    "import numpy as np\n",
    "import astropy.io.fits as pyfits\n",
    "\n",
    "import fpfsBase"
   ]
  },
  {
   "cell_type": "code",
   "execution_count": 2,
   "metadata": {},
   "outputs": [
    {
     "name": "stdout",
     "output_type": "stream",
     "text": [
      "/lustre/work/xiangchong.li/work/FPFS2/sim\n"
     ]
    }
   ],
   "source": [
    "cd wrkDir/FPFS2/sim"
   ]
  },
  {
   "cell_type": "code",
   "execution_count": 3,
   "metadata": {},
   "outputs": [],
   "source": [
    "ngrid=64\n",
    "nx=100;ny=100\n",
    "ngal=nx*ny\n",
    "psfFWHM=0.60\n",
    "scale=0.168\n",
    "# Noise\n",
    "corPre      =   'corPre'\n",
    "corFname    =   os.path.join(corPre,'correlation.fits')\n",
    "ngrid=64"
   ]
  },
  {
   "cell_type": "code",
   "execution_count": 4,
   "metadata": {},
   "outputs": [
    {
     "name": "stdout",
     "output_type": "stream",
     "text": [
      "CPU times: user 16min 36s, sys: 5min 58s, total: 22min 35s\n",
      "Wall time: 22min 47s\n"
     ]
    }
   ],
   "source": [
    "%%time\n",
    "out={}\n",
    "for icut in range(11,16):\n",
    "    rcut=icut\n",
    "    beg=ngrid//2-rcut\n",
    "    end=beg+2*rcut\n",
    "    fpTestNoi=fpfsBase.fpfsTestNoi(ngrid=2*rcut)\n",
    "    powList=[]\n",
    "    for j in range(200):\n",
    "        noiAll=pyfits.getdata('sim20210301/noise/noi%04d.fits' %j)\n",
    "        imgList=[noiAll[i//nx*ngrid+beg:i//nx*ngrid+end,i%nx*ngrid+beg:i%nx*ngrid+end] for i in range(ngal)]\n",
    "        pp=fpTestNoi.test(imgList)\n",
    "        powList.append(np.average(pp,axis=0))\n",
    "        del pp,imgList\n",
    "        gc.collect()\n",
    "    powList=np.stack(powList)\n",
    "    ppave=np.average(powList,axis=0)\n",
    "    out.update({'%s' %icut:ppave})\n",
    "    del powList,ppave,fpTestNoi\n",
    "    gc.collect()\n",
    "np.save('corPre/noiPows2.npy',out)"
   ]
  },
  {
   "cell_type": "code",
   "execution_count": 11,
   "metadata": {},
   "outputs": [],
   "source": [
    "#out=np.load('corPre/noiPows2.npy',allow_pickle=True)\n",
    "rcut=15\n",
    "beg=ngrid//2-rcut\n",
    "end=beg+2*rcut\n",
    "fpTestNoi=fpfsBase.fpfsTestNoi(ngrid=2*rcut,noiFit=out['%s'%rcut])\n",
    "#fpTestNoi=fpfsBase.fpfsTestNoi(ngrid=2*rcut,noiModel=powModel)\n",
    "powList=[]\n",
    "for j in range(100):\n",
    "    noiAll=pyfits.getdata('sim20210301/noise/noi%04d.fits' %j)\n",
    "    imgList=[noiAll[i//nx*ngrid+beg:i//nx*ngrid+end,i%nx*ngrid+beg:i%nx*ngrid+end] for i in range(ngal)]\n",
    "    pp=fpTestNoi.test(imgList)\n",
    "    powList.append(np.average(pp,axis=0))\n",
    "    del pp,imgList\n",
    "    gc.collect()\n",
    "powList=np.stack(powList)\n",
    "ppave=np.average(powList,axis=0)"
   ]
  },
  {
   "cell_type": "code",
   "execution_count": 12,
   "metadata": {},
   "outputs": [
    {
     "name": "stdout",
     "output_type": "stream",
     "text": [
      "0.07371204700155151\n"
     ]
    },
    {
     "data": {
      "image/png": "[encoded data removed]",
      "text/plain": [
       "<Figure size 432x288 with 1 Axes>"
      ]
     },
     "metadata": {
      "needs_background": "light"
     },
     "output_type": "display_data"
    }
   ],
   "source": [
    "corave=np.fft.fftshift(np.abs(np.fft.ifft2(ppave)))\n",
    "plt.imshow(corave)\n",
    "print(corave.max())"
   ]
  },
  {
   "cell_type": "code",
   "execution_count": 13,
   "metadata": {},
   "outputs": [
    {
     "name": "stdout",
     "output_type": "stream",
     "text": [
      "2.3832320782415626\n"
     ]
    },
    {
     "data": {
      "image/png": "[encoded data removed]",
      "text/plain": [
       "<Figure size 432x288 with 1 Axes>"
      ]
     },
     "metadata": {
      "needs_background": "light"
     },
     "output_type": "display_data"
    }
   ],
   "source": [
    "plt.imshow(ppave)\n",
    "print(ppave.max())"
   ]
  },
  {
   "cell_type": "code",
   "execution_count": 14,
   "metadata": {},
   "outputs": [
    {
     "data": {
      "text/plain": [
       "(array([  4.,  34.,  85., 162., 248., 219., 106.,  26.,   8.,   8.]),\n",
       " array([-2.01138339, -1.57192184, -1.1324603 , -0.69299875, -0.2535372 ,\n",
       "         0.18592434,  0.62538589,  1.06484744,  1.50430898,  1.94377053,\n",
       "         2.38323208]),\n",
       " <a list of 10 Patch objects>)"
      ]
     },
     "execution_count": 14,
     "metadata": {},
     "output_type": "execute_result"
    },
    {
     "data": {
      "image/png": "[encoded data removed]",
      "text/plain": [
       "<Figure size 432x288 with 1 Axes>"
      ]
     },
     "metadata": {
      "needs_background": "light"
     },
     "output_type": "display_data"
    }
   ],
   "source": [
    "plt.hist(np.ravel(ppave))"
   ]
  }
 ],
 "metadata": {
  "kernelspec": {
   "display_name": "Python 3",
   "language": "python",
   "name": "python3"
  },
  "language_info": {
   "codemirror_mode": {
    "name": "ipython",
    "version": 3
   },
   "file_extension": ".py",
   "mimetype": "text/x-python",
   "name": "python",
   "nbconvert_exporter": "python",
   "pygments_lexer": "ipython3",
   "version": "3.7.8"
  }
 },
 "nbformat": 4,
 "nbformat_minor": 4
}
