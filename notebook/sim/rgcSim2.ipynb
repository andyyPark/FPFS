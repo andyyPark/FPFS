{
 "cells": [
  {
   "cell_type": "code",
   "execution_count": 15,
   "metadata": {},
   "outputs": [
    {
     "name": "stdout",
     "output_type": "stream",
     "text": [
      "Populating the interactive namespace from numpy and matplotlib\n"
     ]
    }
   ],
   "source": [
    "%pylab inline\n",
    "import gc\n",
    "import galsim\n",
    "import numpy as np\n",
    "import astropy.io.fits as pyfits"
   ]
  },
  {
   "cell_type": "code",
   "execution_count": 3,
   "metadata": {},
   "outputs": [
    {
     "name": "stdout",
     "output_type": "stream",
     "text": [
      "/home/xiangchong/work/gw_ipmu/work/FPFS2/sim\n"
     ]
    }
   ],
   "source": [
    "cd wrkDir/FPFS2/sim"
   ]
  },
  {
   "cell_type": "code",
   "execution_count": 17,
   "metadata": {},
   "outputs": [
    {
     "data": {
      "text/plain": [
       "178"
      ]
     },
     "execution_count": 17,
     "metadata": {},
     "output_type": "execute_result"
    }
   ],
   "source": [
    "ifield      =   0\n",
    "ngrid       =   64\n",
    "nx          =   8\n",
    "ny          =   nx\n",
    "ndata       =   nx*ny\n",
    "nrot        =   2\n",
    "scale       =   0.168\n",
    "bigfft      =   galsim.GSParams(maximum_fft_size=10240)\n",
    "flux_scaling=   2.587\n",
    "\n",
    "variance    =   0.0035\n",
    "ud          =   galsim.UniformDeviate(ifield*10000+1)\n",
    "np.random.seed(ifield*10000+1)\n",
    "\n",
    "# training data\n",
    "catName     =   'real_galaxy_catalog_25.2.fits'\n",
    "directory   =   '../../galsim_train/COSMOS_25.2_training_sample/'\n",
    "cosmos_cat  =   galsim.COSMOSCatalog(catName, dir=directory)\n",
    "\n",
    "# index\n",
    "index_use   =   cosmos_cat.orig_index\n",
    "# parametric catalog\n",
    "param_cat   =   cosmos_cat.param_cat[index_use]\n",
    "ngAll       =   len(index_use)\n",
    "\n",
    "# Get the psf and nosie information\n",
    "psfFname    =   os.path.join('psfPre','psf%04d.fits'%(ifield))\n",
    "psfImg      =   galsim.fits.read(psfFname)\n",
    "\n",
    "psfInt      =   galsim.InterpolatedImage(psfImg,scale=scale,flux = 1.)\n",
    "g2          =   0.\n",
    "\n",
    "outFname1   =   'gal%04d-00.fits' %(ifield)\n",
    "outFname2   =   'gal%04d-20.fits' %(ifield)\n",
    "gal_image1  =   galsim.ImageF(nx*ngrid,ny*ngrid,scale=scale)\n",
    "gal_image1.setOrigin(0,0)\n",
    "gal_image2  =   galsim.ImageF(nx*ngrid,ny*ngrid,scale=scale)\n",
    "gal_image2.setOrigin(0,0)\n",
    "\n",
    "data_rows   =   []\n",
    "i           =   0\n",
    "while i <ndata:\n",
    "    # Prepare the subimage\n",
    "    ix      =   i%nx\n",
    "    iy      =   i//nx\n",
    "    b       =   galsim.BoundsI(ix*ngrid,(ix+1)*ngrid-1,iy*ngrid,(iy+1)*ngrid-1)\n",
    "    sub_image1 = gal_image1[b]\n",
    "    sub_image2 = gal_image2[b]\n",
    "    #simulate the galaxy\n",
    "    if i%nrot==0:\n",
    "        # update galaxy\n",
    "        index   =   np.random.randint(0,ngAll)\n",
    "        ss      =   param_cat[index]\n",
    "\n",
    "        # prepare the galaxies\n",
    "        gal0    =   cosmos_cat.makeGalaxy(gal_type='parametric',index=index,gsparams=bigfft)\n",
    "        gal0    *=  flux_scaling\n",
    "\n",
    "        # rotate the galaxy\n",
    "        ang     =   ud()*2.*np.pi * galsim.radians\n",
    "        gal0    =   gal0.rotate(ang)\n",
    "    else:\n",
    "        gal0    =   gal0.rotate(1./nrot*np.pi*galsim.radians)\n",
    "    gal         =   gal0.shear(g1=0.,g2=0.)\n",
    "    final       =   galsim.Convolve([psfInt,gal],gsparams=bigfft)\n",
    "    final.drawImage(sub_image1,method='no_pixel')\n",
    "    gal         =   gal0.shear(g1=0.02,g2=0.)\n",
    "    final       =   galsim.Convolve([psfInt,gal],gsparams=bigfft)\n",
    "    final.drawImage(sub_image2,method='no_pixel')\n",
    "    #row=(i,index,ss['IDENT'],ss['RA'],ss['DEC'],ss['MAG'],iparent)\n",
    "    #data_rows.append(row)\n",
    "    i   +=  1\n",
    "    del gal,final\n",
    "    gc.collect\n",
    "pyfits.writeto(outFname1,gal_image1.array)\n",
    "pyfits.writeto(outFname2,gal_image2.array)\n",
    "del gal_image1,gal_image2\n",
    "gc.collect()"
   ]
  },
  {
   "cell_type": "code",
   "execution_count": 11,
   "metadata": {},
   "outputs": [
    {
     "data": {
      "text/plain": [
       "('IDENT',\n",
       " 'mag_auto',\n",
       " 'flux_radius',\n",
       " 'zphot',\n",
       " 'sersicfit',\n",
       " 'bulgefit',\n",
       " 'fit_status',\n",
       " 'fit_mad_s',\n",
       " 'fit_mad_b',\n",
       " 'fit_dvc_btt',\n",
       " 'use_bulgefit',\n",
       " 'viable_sersic',\n",
       " 'hlr',\n",
       " 'flux')"
      ]
     },
     "execution_count": 11,
     "metadata": {},
     "output_type": "execute_result"
    }
   ],
   "source": [
    "ss.dtype.names"
   ]
  },
  {
   "cell_type": "code",
   "execution_count": null,
   "metadata": {},
   "outputs": [],
   "source": []
  }
 ],
 "metadata": {
  "kernelspec": {
   "display_name": "Python 3",
   "language": "python",
   "name": "python3"
  },
  "language_info": {
   "codemirror_mode": {
    "name": "ipython",
    "version": 3
   },
   "file_extension": ".py",
   "mimetype": "text/x-python",
   "name": "python",
   "nbconvert_exporter": "python",
   "pygments_lexer": "ipython3",
   "version": "3.8.6"
  }
 },
 "nbformat": 4,
 "nbformat_minor": 4
}
