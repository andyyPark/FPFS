{
 "cells": [
  {
   "cell_type": "code",
   "execution_count": 1,
   "metadata": {},
   "outputs": [
    {
     "name": "stdout",
     "output_type": "stream",
     "text": [
      "Populating the interactive namespace from numpy and matplotlib\n"
     ]
    }
   ],
   "source": [
    "%pylab inline\n",
    "import galsim\n",
    "import numpy as np\n",
    "import astropy.io.fits as pyfits"
   ]
  },
  {
   "cell_type": "code",
   "execution_count": 2,
   "metadata": {},
   "outputs": [
    {
     "name": "stdout",
     "output_type": "stream",
     "text": [
      "/home/xiangchong/work/gw_ipmu/work/FPFS2/sim\n"
     ]
    }
   ],
   "source": [
    "cd wrkDir/FPFS2/sim"
   ]
  },
  {
   "cell_type": "code",
   "execution_count": 7,
   "metadata": {},
   "outputs": [],
   "source": [
    "ifield=1\n",
    "# PSF preparation\n",
    "psfPre='psfPre'\n",
    "# Basic parameters\n",
    "ngrid       =   64\n",
    "nrot        =   4\n",
    "nx          =   nrot \n",
    "ny          =   1\n",
    "ndata       =   nx*ny\n",
    "scale       =   0.168\n",
    "ngridTot    =   ngrid*nx\n",
    "bigfft      =   galsim.GSParams(maximum_fft_size=10240)\n",
    "flux_scaling=   2.587\n",
    "\n",
    "# Get the psf and nosie information \n",
    "psfFname    =   os.path.join(psfPre,'psf%04d.fits'%(ifield))\n",
    "psfImg      =   galsim.fits.read(psfFname)\n",
    "noiseHead   =   pyfits.getheader(psfFname)\n",
    "psfInt      =   galsim.InterpolatedImage(psfImg,scale=scale,flux = 1.) \n",
    "# Get the shear information\n",
    "g1          =   noiseHead['g1']\n",
    "g2          =   noiseHead['g2']\n",
    "fwhm        =   noiseHead['fwhm'] \n",
    "variance    =   noiseHead['var']\n",
    "rescale     =   noiseHead['rescale']\n",
    "\n",
    "np.random.seed(ifield*10000+1)\n",
    "corPre='corPre'\n",
    "ud          =   galsim.UniformDeviate(ifield*10000+1)\n",
    "corFname    =   os.path.join(corPre,'correlation.fits')\n",
    "corNoise    =   galsim.getCOSMOSNoise(file_name=corFname,rng=ud,cosmos_scale=scale,variance=variance)"
   ]
  },
  {
   "cell_type": "markdown",
   "metadata": {},
   "source": [
    "# From noise power to noise correlation"
   ]
  },
  {
   "cell_type": "code",
   "execution_count": 8,
   "metadata": {},
   "outputs": [
    {
     "data": {
      "text/plain": [
       "<matplotlib.image.AxesImage at 0x7f9f801e5790>"
      ]
     },
     "execution_count": 8,
     "metadata": {},
     "output_type": "execute_result"
    },
    {
     "data": {
      "image/png": "[encoded data removed]",
      "text/plain": [
       "<Figure size 432x288 with 1 Axes>"
      ]
     },
     "metadata": {
      "needs_background": "light"
     },
     "output_type": "display_data"
    }
   ],
   "source": [
    "# Estimate Mean cor from noise\n",
    "# power-> cor\n",
    "corMea=np.zeros((ngrid,ngrid))\n",
    "num=0\n",
    "for i in range(1000):\n",
    "    noi_image   =   galsim.ImageF(ngrid,ngrid,scale=scale)\n",
    "    corNoise.applyTo(noi_image)\n",
    "    noi_array=noi_image.array\n",
    "    corMea+=np.fft.fftshift(np.fft.ifft2(np.abs(np.fft.fft2(noi_array))**2.)).real\n",
    "    num+=1\n",
    "corNum=np.fft.fftshift(np.fft.ifft2(np.abs(np.fft.fft2(np.ones((ngrid,ngrid))))**2.)).real\n",
    "corMea=corMea/corNum\n",
    "corMea=corMea[ngrid//2-9:ngrid//2+10,ngrid//2-9:ngrid//2+10]/num\n",
    "plt.imshow(corMea)"
   ]
  },
  {
   "cell_type": "code",
   "execution_count": 9,
   "metadata": {},
   "outputs": [
    {
     "data": {
      "text/plain": [
       "<matplotlib.image.AxesImage at 0x7f9fc4c6ea30>"
      ]
     },
     "execution_count": 9,
     "metadata": {},
     "output_type": "execute_result"
    },
    {
     "data": {
      "image/png": "[encoded data removed]",
      "text/plain": [
       "<Figure size 432x288 with 1 Axes>"
      ]
     },
     "metadata": {
      "needs_background": "light"
     },
     "output_type": "display_data"
    }
   ],
   "source": [
    "corIn=pyfits.getdata(corFname)*variance\n",
    "corRes=corMea-corIn\n",
    "plt.imshow(corRes)"
   ]
  },
  {
   "cell_type": "markdown",
   "metadata": {},
   "source": [
    "# From noise power to noise correlation"
   ]
  },
  {
   "cell_type": "code",
   "execution_count": 8,
   "metadata": {},
   "outputs": [
    {
     "data": {
      "text/plain": [
       "<matplotlib.image.AxesImage at 0x7f9f801e5790>"
      ]
     },
     "execution_count": 8,
     "metadata": {},
     "output_type": "execute_result"
    },
    {
     "data": {
      "image/png": "[encoded data removed]",
      "text/plain": [
       "<Figure size 432x288 with 1 Axes>"
      ]
     },
     "metadata": {
      "needs_background": "light"
     },
     "output_type": "display_data"
    }
   ],
   "source": [
    "# Estimate Mean cor from noise\n",
    "# power-> cor\n",
    "corMea=np.zeros((ngrid,ngrid))\n",
    "num=0\n",
    "for i in range(1000):\n",
    "    noi_image   =   galsim.ImageF(ngrid,ngrid,scale=scale)\n",
    "    corNoise.applyTo(noi_image)\n",
    "    noi_array=noi_image.array\n",
    "    powMea+=np.fft.fftshift(np.abs(np.fft.fft2(noi_array))**2.)\n",
    "    num+=1\n",
    "corNum=np.fft.fftshift(np.fft.ifft2(np.abs(np.fft.fft2(np.ones((ngrid,ngrid))))**2.)).real\n",
    "corMea=corMea/corNum\n",
    "corMea=corMea[ngrid//2-9:ngrid//2+10,ngrid//2-9:ngrid//2+10]/num\n",
    "plt.imshow(corMea)"
   ]
  },
  {
   "cell_type": "code",
   "execution_count": 11,
   "metadata": {},
   "outputs": [
    {
     "data": {
      "text/plain": [
       "(19, 19)"
      ]
     },
     "execution_count": 11,
     "metadata": {},
     "output_type": "execute_result"
    }
   ],
   "source": [
    "corIn.shape"
   ]
  },
  {
   "cell_type": "code",
   "execution_count": 12,
   "metadata": {},
   "outputs": [
    {
     "data": {
      "text/plain": [
       "(43, 43)"
      ]
     },
     "execution_count": 12,
     "metadata": {},
     "output_type": "execute_result"
    }
   ],
   "source": [
    "psfImg.array.shape"
   ]
  },
  {
   "cell_type": "code",
   "execution_count": 10,
   "metadata": {},
   "outputs": [],
   "source": [
    "corIn=pyfits.getdata(corFname)*variance"
   ]
  },
  {
   "cell_type": "code",
   "execution_count": 9,
   "metadata": {},
   "outputs": [
    {
     "data": {
      "text/plain": [
       "<matplotlib.image.AxesImage at 0x7f9fc4c6ea30>"
      ]
     },
     "execution_count": 9,
     "metadata": {},
     "output_type": "execute_result"
    },
    {
     "data": {
      "image/png": "[encoded data removed]",
      "text/plain": [
       "<Figure size 432x288 with 1 Axes>"
      ]
     },
     "metadata": {
      "needs_background": "light"
     },
     "output_type": "display_data"
    }
   ],
   "source": [
    "corRes=corMea-corIn\n",
    "plt.imshow(corRes)"
   ]
  }
 ],
 "metadata": {
  "kernelspec": {
   "display_name": "Python 3",
   "language": "python",
   "name": "python3"
  },
  "language_info": {
   "codemirror_mode": {
    "name": "ipython",
    "version": 3
   },
   "file_extension": ".py",
   "mimetype": "text/x-python",
   "name": "python",
   "nbconvert_exporter": "python",
   "pygments_lexer": "ipython3",
   "version": "3.8.6"
  }
 },
 "nbformat": 4,
 "nbformat_minor": 4
}
